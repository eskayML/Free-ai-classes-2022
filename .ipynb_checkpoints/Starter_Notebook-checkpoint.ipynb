{
 "cells": [
  {
   "cell_type": "code",
   "execution_count": 1,
   "id": "5e2d82fb",
   "metadata": {
    "ExecuteTime": {
     "end_time": "2022-06-02T18:14:05.614689Z",
     "start_time": "2022-06-02T18:13:39.897525Z"
    }
   },
   "outputs": [],
   "source": [
    "import numpy as np\n",
    "import pandas as pd\n",
    "import matplotlib.pyplot as plt\n",
    "import seaborn as sns\n",
    "from sklearn import metrics\n",
    "import warnings\n",
    "warnings.filterwarnings('ignore')"
   ]
  },
  {
   "cell_type": "markdown",
   "id": "ee4ac620",
   "metadata": {},
   "source": [
    "# LOAD DATA"
   ]
  },
  {
   "cell_type": "code",
   "execution_count": 2,
   "id": "e84877db",
   "metadata": {
    "ExecuteTime": {
     "end_time": "2022-06-02T18:14:06.006039Z",
     "start_time": "2022-06-02T18:14:05.614689Z"
    }
   },
   "outputs": [
    {
     "data": {
      "text/plain": [
       "((7205, 9), (2061, 8), (2061, 2))"
      ]
     },
     "execution_count": 2,
     "metadata": {},
     "output_type": "execute_result"
    }
   ],
   "source": [
    "train = pd.read_csv('Train.csv')\n",
    "test =pd.read_csv('Test.csv')\n",
    "sample_sub = pd.read_csv('SampleSubmission.csv')\n",
    "\n",
    "train.shape, test.shape, sample_sub.shape"
   ]
  },
  {
   "cell_type": "code",
   "execution_count": 3,
   "id": "3eab49be",
   "metadata": {
    "ExecuteTime": {
     "end_time": "2022-06-02T18:14:06.179576Z",
     "start_time": "2022-06-02T18:14:06.014313Z"
    },
    "scrolled": false
   },
   "outputs": [
    {
     "name": "stdout",
     "output_type": "stream",
     "text": [
      "<class 'pandas.core.frame.DataFrame'>\n",
      "RangeIndex: 7205 entries, 0 to 7204\n",
      "Data columns (total 9 columns):\n",
      " #   Column                  Non-Null Count  Dtype  \n",
      "---  ------                  --------------  -----  \n",
      " 0   VehicleID               7205 non-null   object \n",
      " 1   Location                7205 non-null   object \n",
      " 2   Maker                   7205 non-null   object \n",
      " 3   Model                   7205 non-null   object \n",
      " 4   Year                    7184 non-null   object \n",
      " 5   Colour                  7205 non-null   object \n",
      " 6   Amount (Million Naira)  7188 non-null   float64\n",
      " 7   Type                    7008 non-null   object \n",
      " 8   Distance                4845 non-null   object \n",
      "dtypes: float64(1), object(8)\n",
      "memory usage: 506.7+ KB\n"
     ]
    }
   ],
   "source": [
    "train.info()"
   ]
  },
  {
   "cell_type": "code",
   "execution_count": 4,
   "id": "6798327d",
   "metadata": {
    "ExecuteTime": {
     "end_time": "2022-06-02T18:14:06.301850Z",
     "start_time": "2022-06-02T18:14:06.187590Z"
    }
   },
   "outputs": [
    {
     "name": "stdout",
     "output_type": "stream",
     "text": [
      "<class 'pandas.core.frame.DataFrame'>\n",
      "RangeIndex: 2061 entries, 0 to 2060\n",
      "Data columns (total 8 columns):\n",
      " #   Column     Non-Null Count  Dtype  \n",
      "---  ------     --------------  -----  \n",
      " 0   VehicleID  2061 non-null   object \n",
      " 1   Location   2061 non-null   object \n",
      " 2   Maker      2061 non-null   object \n",
      " 3   Model      2061 non-null   object \n",
      " 4   Year       2059 non-null   object \n",
      " 5   Colour     2061 non-null   object \n",
      " 6   Type       2007 non-null   object \n",
      " 7   Distance   1385 non-null   float64\n",
      "dtypes: float64(1), object(7)\n",
      "memory usage: 128.9+ KB\n"
     ]
    }
   ],
   "source": [
    "test.info()"
   ]
  },
  {
   "cell_type": "code",
   "execution_count": 5,
   "id": "7151a136",
   "metadata": {
    "ExecuteTime": {
     "end_time": "2022-06-02T18:14:10.210407Z",
     "start_time": "2022-06-02T18:14:06.307608Z"
    }
   },
   "outputs": [
    {
     "data": {
      "text/plain": [
       "<AxesSubplot:>"
      ]
     },
     "execution_count": 5,
     "metadata": {},
     "output_type": "execute_result"
    },
    {
     "data": {
      "image/png": "[encoded data removed]",
      "text/plain": [
       "<Figure size 432x288 with 1 Axes>"
      ]
     },
     "metadata": {
      "needs_background": "light"
     },
     "output_type": "display_data"
    }
   ],
   "source": [
    "train['Amount (Million Naira)'].hist(bins = 100)"
   ]
  },
  {
   "cell_type": "markdown",
   "id": "8d541c86",
   "metadata": {},
   "source": [
    "It looks like the target column also has some missing values, but since it's the target we can't just use any special method of replacing missing values due to the risk of adding noise to our data. So instead, we have to remove it"
   ]
  },
  {
   "cell_type": "code",
   "execution_count": 6,
   "id": "a97ffacb",
   "metadata": {
    "ExecuteTime": {
     "end_time": "2022-06-02T18:14:10.257233Z",
     "start_time": "2022-06-02T18:14:10.210407Z"
    }
   },
   "outputs": [
    {
     "data": {
      "text/plain": [
       "VehicleID                    0\n",
       "Location                     0\n",
       "Maker                        0\n",
       "Model                        0\n",
       "Year                        21\n",
       "Colour                       0\n",
       "Amount (Million Naira)      17\n",
       "Type                       197\n",
       "Distance                  2360\n",
       "dtype: int64"
      ]
     },
     "execution_count": 6,
     "metadata": {},
     "output_type": "execute_result"
    }
   ],
   "source": [
    "train.isna().sum()"
   ]
  },
  {
   "cell_type": "code",
   "execution_count": 7,
   "id": "a38b2a33",
   "metadata": {
    "ExecuteTime": {
     "end_time": "2022-06-02T18:14:10.669937Z",
     "start_time": "2022-06-02T18:14:10.257233Z"
    }
   },
   "outputs": [
    {
     "data": {
      "text/plain": [
       "<AxesSubplot:xlabel='Amount (Million Naira)'>"
      ]
     },
     "execution_count": 7,
     "metadata": {},
     "output_type": "execute_result"
    },
    {
     "data": {
      "image/png": "[encoded data removed]",
      "text/plain": [
       "<Figure size 432x288 with 1 Axes>"
      ]
     },
     "metadata": {
      "needs_background": "light"
     },
     "output_type": "display_data"
    }
   ],
   "source": [
    "sns.boxplot(x = 'Amount (Million Naira)', data=train)"
   ]
  },
  {
   "cell_type": "code",
   "execution_count": 8,
   "id": "86451f7e",
   "metadata": {
    "ExecuteTime": {
     "end_time": "2022-06-02T18:14:11.204402Z",
     "start_time": "2022-06-02T18:14:10.669937Z"
    }
   },
   "outputs": [
    {
     "data": {
      "text/plain": [
       "array([[<AxesSubplot:xlabel='Amount (Million Naira)', ylabel='Amount (Million Naira)'>]],\n",
       "      dtype=object)"
      ]
     },
     "execution_count": 8,
     "metadata": {},
     "output_type": "execute_result"
    },
    {
     "data": {
      "image/png": "[encoded data removed]",
      "text/plain": [
       "<Figure size 432x288 with 1 Axes>"
      ]
     },
     "metadata": {
      "needs_background": "light"
     },
     "output_type": "display_data"
    }
   ],
   "source": [
    "pd.plotting.scatter_matrix(train)"
   ]
  },
  {
   "cell_type": "code",
   "execution_count": 9,
   "id": "49857cef",
   "metadata": {
    "ExecuteTime": {
     "end_time": "2022-06-02T18:14:11.300389Z",
     "start_time": "2022-06-02T18:14:11.212401Z"
    },
    "scrolled": true
   },
   "outputs": [
    {
     "data": {
      "text/html": [
       "<div>\n",
       "<style scoped>\n",
       "    .dataframe tbody tr th:only-of-type {\n",
       "        vertical-align: middle;\n",
       "    }\n",
       "\n",
       "    .dataframe tbody tr th {\n",
       "        vertical-align: top;\n",
       "    }\n",
       "\n",
       "    .dataframe thead th {\n",
       "        text-align: right;\n",
       "    }\n",
       "</style>\n",
       "<table border=\"1\" class=\"dataframe\">\n",
       "  <thead>\n",
       "    <tr style=\"text-align: right;\">\n",
       "      <th></th>\n",
       "      <th>VehicleID</th>\n",
       "      <th>Location</th>\n",
       "      <th>Maker</th>\n",
       "      <th>Model</th>\n",
       "      <th>Year</th>\n",
       "      <th>Colour</th>\n",
       "      <th>Amount (Million Naira)</th>\n",
       "      <th>Type</th>\n",
       "      <th>Distance</th>\n",
       "    </tr>\n",
       "  </thead>\n",
       "  <tbody>\n",
       "    <tr>\n",
       "      <th>0</th>\n",
       "      <td>VHL12546</td>\n",
       "      <td>Abuja</td>\n",
       "      <td>Honda</td>\n",
       "      <td>Accord Coupe EX V-6</td>\n",
       "      <td>2,011</td>\n",
       "      <td>Silver</td>\n",
       "      <td>2.2</td>\n",
       "      <td>Nigerian Used</td>\n",
       "      <td>NaN</td>\n",
       "    </tr>\n",
       "    <tr>\n",
       "      <th>1</th>\n",
       "      <td>VHL18827</td>\n",
       "      <td>Ibadan</td>\n",
       "      <td>Hyundai</td>\n",
       "      <td>Sonata</td>\n",
       "      <td>2,012</td>\n",
       "      <td>Silver</td>\n",
       "      <td>3.5</td>\n",
       "      <td>Nigerian Used</td>\n",
       "      <td>125,000</td>\n",
       "    </tr>\n",
       "    <tr>\n",
       "      <th>2</th>\n",
       "      <td>VHL19499</td>\n",
       "      <td>Lagos</td>\n",
       "      <td>Lexus</td>\n",
       "      <td>RX 350</td>\n",
       "      <td>2,010</td>\n",
       "      <td>Red</td>\n",
       "      <td>9.2</td>\n",
       "      <td>Foreign Used</td>\n",
       "      <td>110,852</td>\n",
       "    </tr>\n",
       "    <tr>\n",
       "      <th>3</th>\n",
       "      <td>VHL17991</td>\n",
       "      <td>Abuja</td>\n",
       "      <td>Mercedes-Benz</td>\n",
       "      <td>GLE-Class</td>\n",
       "      <td>2,017</td>\n",
       "      <td>Blue</td>\n",
       "      <td>22.8</td>\n",
       "      <td>Foreign Used</td>\n",
       "      <td>30,000</td>\n",
       "    </tr>\n",
       "    <tr>\n",
       "      <th>4</th>\n",
       "      <td>VHL12170</td>\n",
       "      <td>Ibadan</td>\n",
       "      <td>Toyota</td>\n",
       "      <td>Highlander</td>\n",
       "      <td>2,002</td>\n",
       "      <td>Red</td>\n",
       "      <td>2.6</td>\n",
       "      <td>Nigerian Used</td>\n",
       "      <td>125,206</td>\n",
       "    </tr>\n",
       "  </tbody>\n",
       "</table>\n",
       "</div>"
      ],
      "text/plain": [
       "  VehicleID Location          Maker                Model   Year  Colour  \\\n",
       "0  VHL12546    Abuja          Honda  Accord Coupe EX V-6  2,011  Silver   \n",
       "1  VHL18827   Ibadan        Hyundai               Sonata  2,012  Silver   \n",
       "2  VHL19499    Lagos          Lexus               RX 350  2,010     Red   \n",
       "3  VHL17991    Abuja  Mercedes-Benz            GLE-Class  2,017    Blue   \n",
       "4  VHL12170   Ibadan         Toyota           Highlander  2,002     Red   \n",
       "\n",
       "   Amount (Million Naira)           Type Distance  \n",
       "0                     2.2  Nigerian Used      NaN  \n",
       "1                     3.5  Nigerian Used  125,000  \n",
       "2                     9.2   Foreign Used  110,852  \n",
       "3                    22.8   Foreign Used   30,000  \n",
       "4                     2.6  Nigerian Used  125,206  "
      ]
     },
     "execution_count": 9,
     "metadata": {},
     "output_type": "execute_result"
    }
   ],
   "source": [
    "train.head()"
   ]
  },
  {
   "cell_type": "code",
   "execution_count": 10,
   "id": "862ad4c5",
   "metadata": {
    "ExecuteTime": {
     "end_time": "2022-06-02T18:14:11.552541Z",
     "start_time": "2022-06-02T18:14:11.300389Z"
    }
   },
   "outputs": [],
   "source": [
    "train.dropna(subset = ['Amount (Million Naira)'],inplace=True)"
   ]
  },
  {
   "cell_type": "code",
   "execution_count": 11,
   "id": "3985920a",
   "metadata": {
    "ExecuteTime": {
     "end_time": "2022-06-02T18:14:11.657836Z",
     "start_time": "2022-06-02T18:14:11.552541Z"
    }
   },
   "outputs": [
    {
     "data": {
      "text/plain": [
       "VehicleID                    0\n",
       "Location                     0\n",
       "Maker                        0\n",
       "Model                        0\n",
       "Year                        21\n",
       "Colour                       0\n",
       "Amount (Million Naira)       0\n",
       "Type                       196\n",
       "Distance                  2352\n",
       "dtype: int64"
      ]
     },
     "execution_count": 11,
     "metadata": {},
     "output_type": "execute_result"
    }
   ],
   "source": [
    "train.isna().sum()"
   ]
  },
  {
   "cell_type": "code",
   "execution_count": 12,
   "id": "6be87601",
   "metadata": {
    "ExecuteTime": {
     "end_time": "2022-06-02T18:14:11.765093Z",
     "start_time": "2022-06-02T18:14:11.662802Z"
    }
   },
   "outputs": [
    {
     "data": {
      "text/plain": [
       "(7188, 9)"
      ]
     },
     "execution_count": 12,
     "metadata": {},
     "output_type": "execute_result"
    }
   ],
   "source": [
    "train.shape"
   ]
  },
  {
   "cell_type": "code",
   "execution_count": 13,
   "id": "a5b576ec",
   "metadata": {
    "ExecuteTime": {
     "end_time": "2022-06-02T18:14:11.892331Z",
     "start_time": "2022-06-02T18:14:11.765093Z"
    }
   },
   "outputs": [
    {
     "data": {
      "text/plain": [
       "(2061, 8)"
      ]
     },
     "execution_count": 13,
     "metadata": {},
     "output_type": "execute_result"
    }
   ],
   "source": [
    "test.shape"
   ]
  },
  {
   "cell_type": "code",
   "execution_count": 14,
   "id": "2ee3a190",
   "metadata": {
    "ExecuteTime": {
     "end_time": "2022-06-02T18:14:12.021635Z",
     "start_time": "2022-06-02T18:14:11.892331Z"
    }
   },
   "outputs": [],
   "source": [
    "y = train.pop('Amount (Million Naira)')"
   ]
  },
  {
   "cell_type": "code",
   "execution_count": 15,
   "id": "92f8725f",
   "metadata": {
    "ExecuteTime": {
     "end_time": "2022-06-02T18:14:12.180519Z",
     "start_time": "2022-06-02T18:14:12.022794Z"
    }
   },
   "outputs": [],
   "source": [
    "all = pd.concat([train,test],ignore_index=True)"
   ]
  },
  {
   "cell_type": "code",
   "execution_count": 16,
   "id": "cf0ba0ee",
   "metadata": {
    "ExecuteTime": {
     "end_time": "2022-06-02T18:14:12.352372Z",
     "start_time": "2022-06-02T18:14:12.180519Z"
    }
   },
   "outputs": [
    {
     "data": {
      "text/html": [
       "<div>\n",
       "<style scoped>\n",
       "    .dataframe tbody tr th:only-of-type {\n",
       "        vertical-align: middle;\n",
       "    }\n",
       "\n",
       "    .dataframe tbody tr th {\n",
       "        vertical-align: top;\n",
       "    }\n",
       "\n",
       "    .dataframe thead th {\n",
       "        text-align: right;\n",
       "    }\n",
       "</style>\n",
       "<table border=\"1\" class=\"dataframe\">\n",
       "  <thead>\n",
       "    <tr style=\"text-align: right;\">\n",
       "      <th></th>\n",
       "      <th>VehicleID</th>\n",
       "      <th>Location</th>\n",
       "      <th>Maker</th>\n",
       "      <th>Model</th>\n",
       "      <th>Year</th>\n",
       "      <th>Colour</th>\n",
       "      <th>Type</th>\n",
       "      <th>Distance</th>\n",
       "    </tr>\n",
       "  </thead>\n",
       "  <tbody>\n",
       "    <tr>\n",
       "      <th>0</th>\n",
       "      <td>VHL12546</td>\n",
       "      <td>Abuja</td>\n",
       "      <td>Honda</td>\n",
       "      <td>Accord Coupe EX V-6</td>\n",
       "      <td>2,011</td>\n",
       "      <td>Silver</td>\n",
       "      <td>Nigerian Used</td>\n",
       "      <td>NaN</td>\n",
       "    </tr>\n",
       "    <tr>\n",
       "      <th>1</th>\n",
       "      <td>VHL18827</td>\n",
       "      <td>Ibadan</td>\n",
       "      <td>Hyundai</td>\n",
       "      <td>Sonata</td>\n",
       "      <td>2,012</td>\n",
       "      <td>Silver</td>\n",
       "      <td>Nigerian Used</td>\n",
       "      <td>125,000</td>\n",
       "    </tr>\n",
       "    <tr>\n",
       "      <th>2</th>\n",
       "      <td>VHL19499</td>\n",
       "      <td>Lagos</td>\n",
       "      <td>Lexus</td>\n",
       "      <td>RX 350</td>\n",
       "      <td>2,010</td>\n",
       "      <td>Red</td>\n",
       "      <td>Foreign Used</td>\n",
       "      <td>110,852</td>\n",
       "    </tr>\n",
       "    <tr>\n",
       "      <th>3</th>\n",
       "      <td>VHL17991</td>\n",
       "      <td>Abuja</td>\n",
       "      <td>Mercedes-Benz</td>\n",
       "      <td>GLE-Class</td>\n",
       "      <td>2,017</td>\n",
       "      <td>Blue</td>\n",
       "      <td>Foreign Used</td>\n",
       "      <td>30,000</td>\n",
       "    </tr>\n",
       "    <tr>\n",
       "      <th>4</th>\n",
       "      <td>VHL12170</td>\n",
       "      <td>Ibadan</td>\n",
       "      <td>Toyota</td>\n",
       "      <td>Highlander</td>\n",
       "      <td>2,002</td>\n",
       "      <td>Red</td>\n",
       "      <td>Nigerian Used</td>\n",
       "      <td>125,206</td>\n",
       "    </tr>\n",
       "  </tbody>\n",
       "</table>\n",
       "</div>"
      ],
      "text/plain": [
       "  VehicleID Location          Maker                Model   Year  Colour  \\\n",
       "0  VHL12546    Abuja          Honda  Accord Coupe EX V-6  2,011  Silver   \n",
       "1  VHL18827   Ibadan        Hyundai               Sonata  2,012  Silver   \n",
       "2  VHL19499    Lagos          Lexus               RX 350  2,010     Red   \n",
       "3  VHL17991    Abuja  Mercedes-Benz            GLE-Class  2,017    Blue   \n",
       "4  VHL12170   Ibadan         Toyota           Highlander  2,002     Red   \n",
       "\n",
       "            Type Distance  \n",
       "0  Nigerian Used      NaN  \n",
       "1  Nigerian Used  125,000  \n",
       "2   Foreign Used  110,852  \n",
       "3   Foreign Used   30,000  \n",
       "4  Nigerian Used  125,206  "
      ]
     },
     "execution_count": 16,
     "metadata": {},
     "output_type": "execute_result"
    }
   ],
   "source": [
    "all.head()"
   ]
  },
  {
   "cell_type": "code",
   "execution_count": 17,
   "id": "5e39ccf2",
   "metadata": {
    "ExecuteTime": {
     "end_time": "2022-06-02T18:14:13.502640Z",
     "start_time": "2022-06-02T18:14:12.356861Z"
    }
   },
   "outputs": [
    {
     "data": {
      "text/plain": [
       "VehicleID       0\n",
       "Location        0\n",
       "Maker           0\n",
       "Model           0\n",
       "Year           23\n",
       "Colour          0\n",
       "Type          250\n",
       "Distance     3028\n",
       "dtype: int64"
      ]
     },
     "execution_count": 17,
     "metadata": {},
     "output_type": "execute_result"
    }
   ],
   "source": [
    "all.isna().sum()"
   ]
  },
  {
   "cell_type": "code",
   "execution_count": 18,
   "id": "e82f5e35",
   "metadata": {
    "ExecuteTime": {
     "end_time": "2022-06-02T18:14:13.680611Z",
     "start_time": "2022-06-02T18:14:13.510637Z"
    }
   },
   "outputs": [],
   "source": [
    "all.drop(columns = ['Distance'],inplace=True)"
   ]
  },
  {
   "cell_type": "code",
   "execution_count": 19,
   "id": "cac457e8",
   "metadata": {
    "ExecuteTime": {
     "end_time": "2022-06-02T18:14:13.866499Z",
     "start_time": "2022-06-02T18:14:13.688614Z"
    }
   },
   "outputs": [
    {
     "data": {
      "text/plain": [
       "3"
      ]
     },
     "execution_count": 19,
     "metadata": {},
     "output_type": "execute_result"
    }
   ],
   "source": [
    "all.Type.nunique()"
   ]
  },
  {
   "cell_type": "code",
   "execution_count": 20,
   "id": "bea85d9c",
   "metadata": {
    "ExecuteTime": {
     "end_time": "2022-06-02T18:14:14.072665Z",
     "start_time": "2022-06-02T18:14:13.866499Z"
    }
   },
   "outputs": [
    {
     "data": {
      "text/plain": [
       "Foreign Used     6276\n",
       "Nigerian Used    2436\n",
       "Brand New         287\n",
       "Name: Type, dtype: int64"
      ]
     },
     "execution_count": 20,
     "metadata": {},
     "output_type": "execute_result"
    }
   ],
   "source": [
    "all.Type.value_counts()"
   ]
  },
  {
   "cell_type": "code",
   "execution_count": 21,
   "id": "c315f2e1",
   "metadata": {
    "ExecuteTime": {
     "end_time": "2022-06-02T18:14:14.267810Z",
     "start_time": "2022-06-02T18:14:14.072665Z"
    }
   },
   "outputs": [],
   "source": [
    "all.Type.fillna('Foreign Used', inplace=True)"
   ]
  },
  {
   "cell_type": "code",
   "execution_count": 22,
   "id": "ed13fa34",
   "metadata": {
    "ExecuteTime": {
     "end_time": "2022-06-02T18:14:14.459701Z",
     "start_time": "2022-06-02T18:14:14.267810Z"
    }
   },
   "outputs": [
    {
     "data": {
      "text/plain": [
       "35"
      ]
     },
     "execution_count": 22,
     "metadata": {},
     "output_type": "execute_result"
    }
   ],
   "source": [
    "all.Year.nunique()"
   ]
  },
  {
   "cell_type": "code",
   "execution_count": 23,
   "id": "b9006eb0",
   "metadata": {
    "ExecuteTime": {
     "end_time": "2022-06-02T18:14:14.685949Z",
     "start_time": "2022-06-02T18:14:14.467741Z"
    }
   },
   "outputs": [],
   "source": [
    "all.Year = all.Year.str.replace(',','')\n",
    "all.Year = all.Year.astype(float)"
   ]
  },
  {
   "cell_type": "code",
   "execution_count": 24,
   "id": "e0ee22a1",
   "metadata": {
    "ExecuteTime": {
     "end_time": "2022-06-02T18:14:14.816730Z",
     "start_time": "2022-06-02T18:14:14.693946Z"
    }
   },
   "outputs": [
    {
     "data": {
      "text/plain": [
       "2011.0"
      ]
     },
     "execution_count": 24,
     "metadata": {},
     "output_type": "execute_result"
    }
   ],
   "source": [
    "all.Year.median()"
   ]
  },
  {
   "cell_type": "code",
   "execution_count": 25,
   "id": "302bd37f",
   "metadata": {
    "ExecuteTime": {
     "end_time": "2022-06-02T18:14:15.071613Z",
     "start_time": "2022-06-02T18:14:14.816730Z"
    }
   },
   "outputs": [],
   "source": [
    "all.Year.fillna(all.Year.median(), inplace=True)"
   ]
  },
  {
   "cell_type": "code",
   "execution_count": 26,
   "id": "5bfb7dad",
   "metadata": {
    "ExecuteTime": {
     "end_time": "2022-06-02T18:14:15.784267Z",
     "start_time": "2022-06-02T18:14:15.071613Z"
    }
   },
   "outputs": [
    {
     "data": {
      "text/plain": [
       "<AxesSubplot:>"
      ]
     },
     "execution_count": 26,
     "metadata": {},
     "output_type": "execute_result"
    },
    {
     "data": {
      "image/png": "[encoded data removed]",
      "text/plain": [
       "<Figure size 432x288 with 1 Axes>"
      ]
     },
     "metadata": {
      "needs_background": "light"
     },
     "output_type": "display_data"
    }
   ],
   "source": [
    "all.Year.hist()"
   ]
  },
  {
   "cell_type": "code",
   "execution_count": 27,
   "id": "28ab9656",
   "metadata": {
    "ExecuteTime": {
     "end_time": "2022-06-02T18:14:15.819855Z",
     "start_time": "2022-06-02T18:14:15.804226Z"
    }
   },
   "outputs": [],
   "source": [
    "all.Year = all.Year.astype(int)"
   ]
  },
  {
   "cell_type": "code",
   "execution_count": 28,
   "id": "71ecfcc4",
   "metadata": {
    "ExecuteTime": {
     "end_time": "2022-06-02T18:14:16.071100Z",
     "start_time": "2022-06-02T18:14:15.819855Z"
    }
   },
   "outputs": [
    {
     "data": {
      "text/plain": [
       "3"
      ]
     },
     "execution_count": 28,
     "metadata": {},
     "output_type": "execute_result"
    }
   ],
   "source": [
    "from sklearn.preprocessing import LabelEncoder,OneHotEncoder\n",
    "\n",
    "all.Location.nunique()"
   ]
  },
  {
   "cell_type": "code",
   "execution_count": 29,
   "id": "496c45d5",
   "metadata": {
    "ExecuteTime": {
     "end_time": "2022-06-02T18:14:16.228626Z",
     "start_time": "2022-06-02T18:14:16.071100Z"
    }
   },
   "outputs": [
    {
     "data": {
      "text/plain": [
       "56"
      ]
     },
     "execution_count": 29,
     "metadata": {},
     "output_type": "execute_result"
    }
   ],
   "source": [
    "all.Maker.nunique()"
   ]
  },
  {
   "cell_type": "code",
   "execution_count": 30,
   "id": "77c7efcb",
   "metadata": {
    "ExecuteTime": {
     "end_time": "2022-06-02T18:14:16.971080Z",
     "start_time": "2022-06-02T18:14:16.228626Z"
    }
   },
   "outputs": [
    {
     "data": {
      "text/plain": [
       "1410"
      ]
     },
     "execution_count": 30,
     "metadata": {},
     "output_type": "execute_result"
    }
   ],
   "source": [
    "all.Model.nunique()"
   ]
  },
  {
   "cell_type": "code",
   "execution_count": 31,
   "id": "be3ab7bd",
   "metadata": {
    "ExecuteTime": {
     "end_time": "2022-06-02T18:14:17.154156Z",
     "start_time": "2022-06-02T18:14:16.972043Z"
    }
   },
   "outputs": [
    {
     "data": {
      "text/plain": [
       "24"
      ]
     },
     "execution_count": 31,
     "metadata": {},
     "output_type": "execute_result"
    }
   ],
   "source": [
    "all.Colour.nunique()"
   ]
  },
  {
   "cell_type": "code",
   "execution_count": 32,
   "id": "b539be84",
   "metadata": {
    "ExecuteTime": {
     "end_time": "2022-06-02T18:14:17.331305Z",
     "start_time": "2022-06-02T18:14:17.154156Z"
    }
   },
   "outputs": [],
   "source": [
    "all = pd.get_dummies(all,prefix='',prefix_sep='',columns=['Location','Type'])"
   ]
  },
  {
   "cell_type": "code",
   "execution_count": 33,
   "id": "b3bf3e34",
   "metadata": {
    "ExecuteTime": {
     "end_time": "2022-06-02T18:14:17.488181Z",
     "start_time": "2022-06-02T18:14:17.331305Z"
    },
    "scrolled": true
   },
   "outputs": [
    {
     "data": {
      "text/html": [
       "<div>\n",
       "<style scoped>\n",
       "    .dataframe tbody tr th:only-of-type {\n",
       "        vertical-align: middle;\n",
       "    }\n",
       "\n",
       "    .dataframe tbody tr th {\n",
       "        vertical-align: top;\n",
       "    }\n",
       "\n",
       "    .dataframe thead th {\n",
       "        text-align: right;\n",
       "    }\n",
       "</style>\n",
       "<table border=\"1\" class=\"dataframe\">\n",
       "  <thead>\n",
       "    <tr style=\"text-align: right;\">\n",
       "      <th></th>\n",
       "      <th>VehicleID</th>\n",
       "      <th>Maker</th>\n",
       "      <th>Model</th>\n",
       "      <th>Year</th>\n",
       "      <th>Colour</th>\n",
       "      <th>Abuja</th>\n",
       "      <th>Ibadan</th>\n",
       "      <th>Lagos</th>\n",
       "      <th>Brand New</th>\n",
       "      <th>Foreign Used</th>\n",
       "      <th>Nigerian Used</th>\n",
       "    </tr>\n",
       "  </thead>\n",
       "  <tbody>\n",
       "    <tr>\n",
       "      <th>0</th>\n",
       "      <td>VHL12546</td>\n",
       "      <td>Honda</td>\n",
       "      <td>Accord Coupe EX V-6</td>\n",
       "      <td>2011</td>\n",
       "      <td>Silver</td>\n",
       "      <td>1</td>\n",
       "      <td>0</td>\n",
       "      <td>0</td>\n",
       "      <td>0</td>\n",
       "      <td>0</td>\n",
       "      <td>1</td>\n",
       "    </tr>\n",
       "    <tr>\n",
       "      <th>1</th>\n",
       "      <td>VHL18827</td>\n",
       "      <td>Hyundai</td>\n",
       "      <td>Sonata</td>\n",
       "      <td>2012</td>\n",
       "      <td>Silver</td>\n",
       "      <td>0</td>\n",
       "      <td>1</td>\n",
       "      <td>0</td>\n",
       "      <td>0</td>\n",
       "      <td>0</td>\n",
       "      <td>1</td>\n",
       "    </tr>\n",
       "    <tr>\n",
       "      <th>2</th>\n",
       "      <td>VHL19499</td>\n",
       "      <td>Lexus</td>\n",
       "      <td>RX 350</td>\n",
       "      <td>2010</td>\n",
       "      <td>Red</td>\n",
       "      <td>0</td>\n",
       "      <td>0</td>\n",
       "      <td>1</td>\n",
       "      <td>0</td>\n",
       "      <td>1</td>\n",
       "      <td>0</td>\n",
       "    </tr>\n",
       "    <tr>\n",
       "      <th>3</th>\n",
       "      <td>VHL17991</td>\n",
       "      <td>Mercedes-Benz</td>\n",
       "      <td>GLE-Class</td>\n",
       "      <td>2017</td>\n",
       "      <td>Blue</td>\n",
       "      <td>1</td>\n",
       "      <td>0</td>\n",
       "      <td>0</td>\n",
       "      <td>0</td>\n",
       "      <td>1</td>\n",
       "      <td>0</td>\n",
       "    </tr>\n",
       "    <tr>\n",
       "      <th>4</th>\n",
       "      <td>VHL12170</td>\n",
       "      <td>Toyota</td>\n",
       "      <td>Highlander</td>\n",
       "      <td>2002</td>\n",
       "      <td>Red</td>\n",
       "      <td>0</td>\n",
       "      <td>1</td>\n",
       "      <td>0</td>\n",
       "      <td>0</td>\n",
       "      <td>0</td>\n",
       "      <td>1</td>\n",
       "    </tr>\n",
       "  </tbody>\n",
       "</table>\n",
       "</div>"
      ],
      "text/plain": [
       "  VehicleID          Maker                Model  Year  Colour  Abuja  Ibadan  \\\n",
       "0  VHL12546          Honda  Accord Coupe EX V-6  2011  Silver      1       0   \n",
       "1  VHL18827        Hyundai               Sonata  2012  Silver      0       1   \n",
       "2  VHL19499          Lexus               RX 350  2010     Red      0       0   \n",
       "3  VHL17991  Mercedes-Benz            GLE-Class  2017    Blue      1       0   \n",
       "4  VHL12170         Toyota           Highlander  2002     Red      0       1   \n",
       "\n",
       "   Lagos  Brand New  Foreign Used  Nigerian Used  \n",
       "0      0          0             0              1  \n",
       "1      0          0             0              1  \n",
       "2      1          0             1              0  \n",
       "3      0          0             1              0  \n",
       "4      0          0             0              1  "
      ]
     },
     "execution_count": 33,
     "metadata": {},
     "output_type": "execute_result"
    }
   ],
   "source": [
    "all.head()"
   ]
  },
  {
   "cell_type": "code",
   "execution_count": 34,
   "id": "ec719e1c",
   "metadata": {
    "ExecuteTime": {
     "end_time": "2022-06-02T18:14:17.700409Z",
     "start_time": "2022-06-02T18:14:17.490761Z"
    }
   },
   "outputs": [],
   "source": [
    "cat_cols = ['Maker', 'Model', 'Colour']\n",
    "for col in cat_cols:\n",
    "    all[col] = all[col].astype('category')\n",
    "    all[col] = all[col].cat.codes"
   ]
  },
  {
   "cell_type": "code",
   "execution_count": 35,
   "id": "b939d47c",
   "metadata": {
    "ExecuteTime": {
     "end_time": "2022-06-02T18:14:17.872236Z",
     "start_time": "2022-06-02T18:14:17.700409Z"
    }
   },
   "outputs": [],
   "source": [
    "all.drop(columns=['VehicleID',\"Model\"],inplace=True)"
   ]
  },
  {
   "cell_type": "code",
   "execution_count": 36,
   "id": "aba7abbb",
   "metadata": {
    "ExecuteTime": {
     "end_time": "2022-06-02T18:14:18.044119Z",
     "start_time": "2022-06-02T18:14:17.872236Z"
    }
   },
   "outputs": [],
   "source": [
    "train,test = all.iloc[:7188], all.iloc[7188:]"
   ]
  },
  {
   "cell_type": "markdown",
   "id": "327f58ad",
   "metadata": {},
   "source": [
    "> Putting the Data back into training and test sets after all the cleaning"
   ]
  },
  {
   "cell_type": "code",
   "execution_count": 37,
   "id": "b9740411",
   "metadata": {
    "ExecuteTime": {
     "end_time": "2022-06-02T18:14:18.287852Z",
     "start_time": "2022-06-02T18:14:18.044119Z"
    }
   },
   "outputs": [],
   "source": [
    "train['Amount'] = y"
   ]
  },
  {
   "cell_type": "code",
   "execution_count": 38,
   "id": "ec75f9b7",
   "metadata": {
    "ExecuteTime": {
     "end_time": "2022-06-02T18:14:18.408858Z",
     "start_time": "2022-06-02T18:14:18.287852Z"
    }
   },
   "outputs": [
    {
     "data": {
      "text/html": [
       "<div>\n",
       "<style scoped>\n",
       "    .dataframe tbody tr th:only-of-type {\n",
       "        vertical-align: middle;\n",
       "    }\n",
       "\n",
       "    .dataframe tbody tr th {\n",
       "        vertical-align: top;\n",
       "    }\n",
       "\n",
       "    .dataframe thead th {\n",
       "        text-align: right;\n",
       "    }\n",
       "</style>\n",
       "<table border=\"1\" class=\"dataframe\">\n",
       "  <thead>\n",
       "    <tr style=\"text-align: right;\">\n",
       "      <th></th>\n",
       "      <th>Maker</th>\n",
       "      <th>Year</th>\n",
       "      <th>Colour</th>\n",
       "      <th>Abuja</th>\n",
       "      <th>Ibadan</th>\n",
       "      <th>Lagos</th>\n",
       "      <th>Brand New</th>\n",
       "      <th>Foreign Used</th>\n",
       "      <th>Nigerian Used</th>\n",
       "      <th>Amount</th>\n",
       "    </tr>\n",
       "  </thead>\n",
       "  <tbody>\n",
       "    <tr>\n",
       "      <th>0</th>\n",
       "      <td>17</td>\n",
       "      <td>2011</td>\n",
       "      <td>18</td>\n",
       "      <td>1</td>\n",
       "      <td>0</td>\n",
       "      <td>0</td>\n",
       "      <td>0</td>\n",
       "      <td>0</td>\n",
       "      <td>1</td>\n",
       "      <td>2.2</td>\n",
       "    </tr>\n",
       "    <tr>\n",
       "      <th>1</th>\n",
       "      <td>19</td>\n",
       "      <td>2012</td>\n",
       "      <td>18</td>\n",
       "      <td>0</td>\n",
       "      <td>1</td>\n",
       "      <td>0</td>\n",
       "      <td>0</td>\n",
       "      <td>0</td>\n",
       "      <td>1</td>\n",
       "      <td>3.5</td>\n",
       "    </tr>\n",
       "    <tr>\n",
       "      <th>2</th>\n",
       "      <td>29</td>\n",
       "      <td>2010</td>\n",
       "      <td>17</td>\n",
       "      <td>0</td>\n",
       "      <td>0</td>\n",
       "      <td>1</td>\n",
       "      <td>0</td>\n",
       "      <td>1</td>\n",
       "      <td>0</td>\n",
       "      <td>9.2</td>\n",
       "    </tr>\n",
       "    <tr>\n",
       "      <th>3</th>\n",
       "      <td>34</td>\n",
       "      <td>2017</td>\n",
       "      <td>3</td>\n",
       "      <td>1</td>\n",
       "      <td>0</td>\n",
       "      <td>0</td>\n",
       "      <td>0</td>\n",
       "      <td>1</td>\n",
       "      <td>0</td>\n",
       "      <td>22.8</td>\n",
       "    </tr>\n",
       "    <tr>\n",
       "      <th>4</th>\n",
       "      <td>53</td>\n",
       "      <td>2002</td>\n",
       "      <td>17</td>\n",
       "      <td>0</td>\n",
       "      <td>1</td>\n",
       "      <td>0</td>\n",
       "      <td>0</td>\n",
       "      <td>0</td>\n",
       "      <td>1</td>\n",
       "      <td>2.6</td>\n",
       "    </tr>\n",
       "  </tbody>\n",
       "</table>\n",
       "</div>"
      ],
      "text/plain": [
       "   Maker  Year  Colour  Abuja  Ibadan  Lagos  Brand New  Foreign Used  \\\n",
       "0     17  2011      18      1       0      0          0             0   \n",
       "1     19  2012      18      0       1      0          0             0   \n",
       "2     29  2010      17      0       0      1          0             1   \n",
       "3     34  2017       3      1       0      0          0             1   \n",
       "4     53  2002      17      0       1      0          0             0   \n",
       "\n",
       "   Nigerian Used  Amount  \n",
       "0              1     2.2  \n",
       "1              1     3.5  \n",
       "2              0     9.2  \n",
       "3              0    22.8  \n",
       "4              1     2.6  "
      ]
     },
     "execution_count": 38,
     "metadata": {},
     "output_type": "execute_result"
    }
   ],
   "source": [
    "train.head()"
   ]
  },
  {
   "cell_type": "code",
   "execution_count": 39,
   "id": "cf2ea668",
   "metadata": {
    "ExecuteTime": {
     "end_time": "2022-06-02T18:14:18.575419Z",
     "start_time": "2022-06-02T18:14:18.414297Z"
    },
    "scrolled": true
   },
   "outputs": [
    {
     "data": {
      "text/html": [
       "<div>\n",
       "<style scoped>\n",
       "    .dataframe tbody tr th:only-of-type {\n",
       "        vertical-align: middle;\n",
       "    }\n",
       "\n",
       "    .dataframe tbody tr th {\n",
       "        vertical-align: top;\n",
       "    }\n",
       "\n",
       "    .dataframe thead th {\n",
       "        text-align: right;\n",
       "    }\n",
       "</style>\n",
       "<table border=\"1\" class=\"dataframe\">\n",
       "  <thead>\n",
       "    <tr style=\"text-align: right;\">\n",
       "      <th></th>\n",
       "      <th>Maker</th>\n",
       "      <th>Year</th>\n",
       "      <th>Colour</th>\n",
       "      <th>Abuja</th>\n",
       "      <th>Ibadan</th>\n",
       "      <th>Lagos</th>\n",
       "      <th>Brand New</th>\n",
       "      <th>Foreign Used</th>\n",
       "      <th>Nigerian Used</th>\n",
       "    </tr>\n",
       "  </thead>\n",
       "  <tbody>\n",
       "    <tr>\n",
       "      <th>7188</th>\n",
       "      <td>3</td>\n",
       "      <td>2008</td>\n",
       "      <td>22</td>\n",
       "      <td>1</td>\n",
       "      <td>0</td>\n",
       "      <td>0</td>\n",
       "      <td>0</td>\n",
       "      <td>1</td>\n",
       "      <td>0</td>\n",
       "    </tr>\n",
       "    <tr>\n",
       "      <th>7189</th>\n",
       "      <td>53</td>\n",
       "      <td>2013</td>\n",
       "      <td>22</td>\n",
       "      <td>0</td>\n",
       "      <td>0</td>\n",
       "      <td>1</td>\n",
       "      <td>0</td>\n",
       "      <td>1</td>\n",
       "      <td>0</td>\n",
       "    </tr>\n",
       "    <tr>\n",
       "      <th>7190</th>\n",
       "      <td>53</td>\n",
       "      <td>2005</td>\n",
       "      <td>8</td>\n",
       "      <td>0</td>\n",
       "      <td>0</td>\n",
       "      <td>1</td>\n",
       "      <td>0</td>\n",
       "      <td>1</td>\n",
       "      <td>0</td>\n",
       "    </tr>\n",
       "    <tr>\n",
       "      <th>7191</th>\n",
       "      <td>53</td>\n",
       "      <td>2011</td>\n",
       "      <td>9</td>\n",
       "      <td>0</td>\n",
       "      <td>0</td>\n",
       "      <td>1</td>\n",
       "      <td>0</td>\n",
       "      <td>1</td>\n",
       "      <td>0</td>\n",
       "    </tr>\n",
       "    <tr>\n",
       "      <th>7192</th>\n",
       "      <td>29</td>\n",
       "      <td>2013</td>\n",
       "      <td>17</td>\n",
       "      <td>0</td>\n",
       "      <td>0</td>\n",
       "      <td>1</td>\n",
       "      <td>0</td>\n",
       "      <td>1</td>\n",
       "      <td>0</td>\n",
       "    </tr>\n",
       "  </tbody>\n",
       "</table>\n",
       "</div>"
      ],
      "text/plain": [
       "      Maker  Year  Colour  Abuja  Ibadan  Lagos  Brand New  Foreign Used  \\\n",
       "7188      3  2008      22      1       0      0          0             1   \n",
       "7189     53  2013      22      0       0      1          0             1   \n",
       "7190     53  2005       8      0       0      1          0             1   \n",
       "7191     53  2011       9      0       0      1          0             1   \n",
       "7192     29  2013      17      0       0      1          0             1   \n",
       "\n",
       "      Nigerian Used  \n",
       "7188              0  \n",
       "7189              0  \n",
       "7190              0  \n",
       "7191              0  \n",
       "7192              0  "
      ]
     },
     "execution_count": 39,
     "metadata": {},
     "output_type": "execute_result"
    }
   ],
   "source": [
    "test.head()"
   ]
  },
  {
   "cell_type": "code",
   "execution_count": 40,
   "id": "a18ce866",
   "metadata": {
    "ExecuteTime": {
     "end_time": "2022-06-02T18:14:18.718245Z",
     "start_time": "2022-06-02T18:14:18.576047Z"
    }
   },
   "outputs": [],
   "source": [
    "# train.to_csv('cleaned_train_with_dummy.csv',index=False)\n",
    "# test.to_csv('cleaned_test_with_dummy.csv', index=False)"
   ]
  },
  {
   "cell_type": "code",
   "execution_count": 41,
   "id": "c199b6bb",
   "metadata": {
    "ExecuteTime": {
     "end_time": "2022-06-02T18:14:22.086038Z",
     "start_time": "2022-06-02T18:14:18.718245Z"
    }
   },
   "outputs": [],
   "source": [
    "from sklearn import model_selection\n",
    "from sklearn.ensemble import RandomForestRegressor,GradientBoostingRegressor\n",
    "from sklearn.linear_model import LinearRegression, Ridge,SGDRegressor\n",
    "from sklearn.model_selection import train_test_split\n",
    "from sklearn.svm import SVR"
   ]
  },
  {
   "cell_type": "code",
   "execution_count": 42,
   "id": "5499180c",
   "metadata": {
    "ExecuteTime": {
     "end_time": "2022-06-02T18:14:22.132940Z",
     "start_time": "2022-06-02T18:14:22.086038Z"
    }
   },
   "outputs": [],
   "source": [
    "data_correlation = train.corr()"
   ]
  },
  {
   "cell_type": "code",
   "execution_count": 43,
   "id": "0c71aa5d",
   "metadata": {
    "ExecuteTime": {
     "end_time": "2022-06-02T18:14:22.251974Z",
     "start_time": "2022-06-02T18:14:22.135378Z"
    }
   },
   "outputs": [
    {
     "data": {
      "text/plain": [
       "Maker           -0.006989\n",
       "Year             0.007635\n",
       "Colour           0.008405\n",
       "Abuja           -0.004293\n",
       "Ibadan           0.016719\n",
       "Lagos           -0.005161\n",
       "Brand New        0.008256\n",
       "Foreign Used     0.001998\n",
       "Nigerian Used   -0.005279\n",
       "Amount           1.000000\n",
       "Name: Amount, dtype: float64"
      ]
     },
     "execution_count": 43,
     "metadata": {},
     "output_type": "execute_result"
    }
   ],
   "source": [
    "data_correlation['Amount']"
   ]
  },
  {
   "cell_type": "markdown",
   "id": "7208341f",
   "metadata": {},
   "source": [
    "**LADIES AND GENTLEMEN, I HAVE BAD NEWS . WE DON'T HAVE ANY FEATURE THAT'S CLOSELY CORRELATED WITH THE AMOUNT TARGET**"
   ]
  },
  {
   "cell_type": "code",
   "execution_count": 44,
   "id": "47efd7a5",
   "metadata": {
    "ExecuteTime": {
     "end_time": "2022-06-02T18:14:22.423169Z",
     "start_time": "2022-06-02T18:14:22.251974Z"
    },
    "scrolled": true
   },
   "outputs": [],
   "source": [
    "train.dropna(subset=['Amount'],inplace=True)"
   ]
  },
  {
   "cell_type": "code",
   "execution_count": 45,
   "id": "d08471f3",
   "metadata": {
    "ExecuteTime": {
     "end_time": "2022-06-02T18:14:22.556605Z",
     "start_time": "2022-06-02T18:14:22.423169Z"
    }
   },
   "outputs": [],
   "source": [
    "from sklearn.preprocessing import StandardScaler\n",
    "# sc_target = StandardScaler()\n",
    "# train['Amount'] = sc_target.fit_transform(train.Amount.values.reshape(-1,1))\n",
    "\n",
    "X = train.drop('Amount',axis  = 1)\n",
    "y = train['Amount']\n",
    "\n",
    "X_train,X_valid, y_train,y_valid = train_test_split(X,y,random_state=0)"
   ]
  },
  {
   "cell_type": "code",
   "execution_count": 46,
   "id": "5b48c82b",
   "metadata": {
    "ExecuteTime": {
     "end_time": "2022-06-02T18:14:22.948990Z",
     "start_time": "2022-06-02T18:14:22.556605Z"
    }
   },
   "outputs": [
    {
     "name": "stdout",
     "output_type": "stream",
     "text": [
      "the mean squared error using linear regression is: 22.664930143386243\n"
     ]
    }
   ],
   "source": [
    "linreg = LinearRegression()\n",
    "linreg.fit(X_train,y_train)\n",
    "lin_preds = linreg.predict(X_valid)\n",
    "\n",
    "mse = lambda x: metrics.mean_squared_error(y_valid,x,squared=False)\n",
    "print(\"the mean squared error using linear regression is:\", mse(lin_preds))"
   ]
  },
  {
   "cell_type": "code",
   "execution_count": 47,
   "id": "83985dab",
   "metadata": {
    "ExecuteTime": {
     "end_time": "2022-06-02T18:14:23.212560Z",
     "start_time": "2022-06-02T18:14:22.948990Z"
    }
   },
   "outputs": [
    {
     "data": {
      "text/plain": [
       "22.657648177882027"
      ]
     },
     "execution_count": 47,
     "metadata": {},
     "output_type": "execute_result"
    }
   ],
   "source": [
    "ridge = Ridge(alpha=100)\n",
    "ridge.fit(X_train,y_train)\n",
    "ridge_preds = ridge.predict(X_valid)\n",
    "\n",
    "mse(ridge_preds)"
   ]
  },
  {
   "cell_type": "code",
   "execution_count": 48,
   "id": "9e60287e",
   "metadata": {
    "ExecuteTime": {
     "end_time": "2022-06-02T18:14:24.131767Z",
     "start_time": "2022-06-02T18:14:23.212560Z"
    }
   },
   "outputs": [
    {
     "data": {
      "text/plain": [
       "22.674537837018846"
      ]
     },
     "execution_count": 48,
     "metadata": {},
     "output_type": "execute_result"
    }
   ],
   "source": [
    "rf = RandomForestRegressor(max_depth=3,random_state=0)\n",
    "rf.fit(X_train,y_train)\n",
    "rf_preds = rf.predict(X_valid)\n",
    "mse(rf_preds)"
   ]
  },
  {
   "cell_type": "code",
   "execution_count": 49,
   "id": "c0eedd52",
   "metadata": {
    "ExecuteTime": {
     "end_time": "2022-06-02T18:14:24.834178Z",
     "start_time": "2022-06-02T18:14:24.135160Z"
    }
   },
   "outputs": [
    {
     "data": {
      "text/plain": [
       "22.628510679117007"
      ]
     },
     "execution_count": 49,
     "metadata": {},
     "output_type": "execute_result"
    }
   ],
   "source": [
    "gb = GradientBoostingRegressor(learning_rate=.0001,max_depth=3,random_state=0,max_leaf_nodes=3)\n",
    "gb.fit(X_train,y_train)\n",
    "gb_preds = gb.predict(X_valid)\n",
    "mse(gb_preds)"
   ]
  },
  {
   "cell_type": "code",
   "execution_count": 50,
   "id": "f6aa099f",
   "metadata": {
    "ExecuteTime": {
     "end_time": "2022-06-02T18:14:33.933917Z",
     "start_time": "2022-06-02T18:14:24.842184Z"
    }
   },
   "outputs": [
    {
     "data": {
      "text/plain": [
       "23.39591373721375"
      ]
     },
     "execution_count": 50,
     "metadata": {},
     "output_type": "execute_result"
    }
   ],
   "source": [
    "svr = SVR()\n",
    "svr.fit(X_train,y_train)\n",
    "svr_preds = svr.predict(X_valid)\n",
    "mse(svr_preds)"
   ]
  },
  {
   "cell_type": "code",
   "execution_count": 51,
   "id": "a91cef16",
   "metadata": {
    "ExecuteTime": {
     "end_time": "2022-06-02T18:14:33.957964Z",
     "start_time": "2022-06-02T18:14:33.941929Z"
    }
   },
   "outputs": [],
   "source": [
    "def save(model,file_name):\n",
    "    X_test = test\n",
    "    sub_file  = sample_sub.copy()\n",
    "    test_set_predictions = model.predict(X_test)\n",
    "    sub_file['Amount (Million Naira)'] = test_set_predictions\n",
    "    print(test_set_predictions[:10])\n",
    "    print('submission file created')\n",
    "    sub_file.to_csv(file_name, index=False)"
   ]
  },
  {
   "cell_type": "code",
   "execution_count": 52,
   "id": "ada6f1ae",
   "metadata": {
    "ExecuteTime": {
     "end_time": "2022-06-02T18:14:34.070402Z",
     "start_time": "2022-06-02T18:14:33.957964Z"
    }
   },
   "outputs": [
    {
     "name": "stdout",
     "output_type": "stream",
     "text": [
      "['VehicleID' 'Amount (Million Naira)']\n"
     ]
    }
   ],
   "source": [
    "print(sample_sub.columns.values)"
   ]
  },
  {
   "cell_type": "code",
   "execution_count": 56,
   "id": "f65a4c20",
   "metadata": {
    "ExecuteTime": {
     "end_time": "2022-06-02T18:20:53.414632Z",
     "start_time": "2022-06-02T18:20:53.302630Z"
    }
   },
   "outputs": [
    {
     "data": {
      "text/plain": [
       "594234079688335.1"
      ]
     },
     "execution_count": 56,
     "metadata": {},
     "output_type": "execute_result"
    }
   ],
   "source": [
    "sgd = SGDRegressor()\n",
    "sgd.fit(X_train,y_train)\n",
    "sgd_preds = sgd.predict(X_valid)\n",
    "mse(sgd_preds)"
   ]
  },
  {
   "cell_type": "code",
   "execution_count": null,
   "id": "546784e7",
   "metadata": {},
   "outputs": [],
   "source": [
    "from sklearn.neighbors import KNeighborsRegressor\n",
    "\n",
    "knn_reg = KNeighborsRegressor()\n",
    "knn_reg.fit(X_train,y_train)"
   ]
  }
 ],
 "metadata": {
  "kernelspec": {
   "display_name": "Python 3.9.6 64-bit",
   "language": "python",
   "name": "python396jvsc74a57bd0342aa5655132cbf71a715f798c1954c8e10fd62576e079eb1568ff3b5ac83c42"
  },
  "language_info": {
   "codemirror_mode": {
    "name": "ipython",
    "version": 3
   },
   "file_extension": ".py",
   "mimetype": "text/x-python",
   "name": "python",
   "nbconvert_exporter": "python",
   "pygments_lexer": "ipython3",
   "version": "3.9.6"
  }
 },
 "nbformat": 4,
 "nbformat_minor": 5
}

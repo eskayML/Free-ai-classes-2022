{
 "cells": [
  {
   "cell_type": "code",
   "execution_count": 1,
   "id": "f1cdc985",
   "metadata": {
    "ExecuteTime": {
     "end_time": "2022-06-03T08:33:54.318632Z",
     "start_time": "2022-06-03T08:33:49.688325Z"
    }
   },
   "outputs": [],
   "source": [
    "import numpy as np,pandas as pd,matplotlib.pyplot as plt,seaborn as sns\n",
    "train,test = pd.read_csv('Train.csv'),pd.read_csv('Test.csv')"
   ]
  },
  {
   "cell_type": "code",
   "execution_count": 2,
   "id": "4f29448c",
   "metadata": {
    "ExecuteTime": {
     "end_time": "2022-06-03T08:33:54.400791Z",
     "start_time": "2022-06-03T08:33:54.318632Z"
    }
   },
   "outputs": [
    {
     "data": {
      "text/html": [
       "<div>\n",
       "<style scoped>\n",
       "    .dataframe tbody tr th:only-of-type {\n",
       "        vertical-align: middle;\n",
       "    }\n",
       "\n",
       "    .dataframe tbody tr th {\n",
       "        vertical-align: top;\n",
       "    }\n",
       "\n",
       "    .dataframe thead th {\n",
       "        text-align: right;\n",
       "    }\n",
       "</style>\n",
       "<table border=\"1\" class=\"dataframe\">\n",
       "  <thead>\n",
       "    <tr style=\"text-align: right;\">\n",
       "      <th></th>\n",
       "      <th>VehicleID</th>\n",
       "      <th>Location</th>\n",
       "      <th>Maker</th>\n",
       "      <th>Model</th>\n",
       "      <th>Year</th>\n",
       "      <th>Colour</th>\n",
       "      <th>Amount (Million Naira)</th>\n",
       "      <th>Type</th>\n",
       "      <th>Distance</th>\n",
       "    </tr>\n",
       "  </thead>\n",
       "  <tbody>\n",
       "    <tr>\n",
       "      <th>0</th>\n",
       "      <td>VHL12546</td>\n",
       "      <td>Abuja</td>\n",
       "      <td>Honda</td>\n",
       "      <td>Accord Coupe EX V-6</td>\n",
       "      <td>2,011</td>\n",
       "      <td>Silver</td>\n",
       "      <td>2.2</td>\n",
       "      <td>Nigerian Used</td>\n",
       "      <td>NaN</td>\n",
       "    </tr>\n",
       "    <tr>\n",
       "      <th>1</th>\n",
       "      <td>VHL18827</td>\n",
       "      <td>Ibadan</td>\n",
       "      <td>Hyundai</td>\n",
       "      <td>Sonata</td>\n",
       "      <td>2,012</td>\n",
       "      <td>Silver</td>\n",
       "      <td>3.5</td>\n",
       "      <td>Nigerian Used</td>\n",
       "      <td>125,000</td>\n",
       "    </tr>\n",
       "    <tr>\n",
       "      <th>2</th>\n",
       "      <td>VHL19499</td>\n",
       "      <td>Lagos</td>\n",
       "      <td>Lexus</td>\n",
       "      <td>RX 350</td>\n",
       "      <td>2,010</td>\n",
       "      <td>Red</td>\n",
       "      <td>9.2</td>\n",
       "      <td>Foreign Used</td>\n",
       "      <td>110,852</td>\n",
       "    </tr>\n",
       "    <tr>\n",
       "      <th>3</th>\n",
       "      <td>VHL17991</td>\n",
       "      <td>Abuja</td>\n",
       "      <td>Mercedes-Benz</td>\n",
       "      <td>GLE-Class</td>\n",
       "      <td>2,017</td>\n",
       "      <td>Blue</td>\n",
       "      <td>22.8</td>\n",
       "      <td>Foreign Used</td>\n",
       "      <td>30,000</td>\n",
       "    </tr>\n",
       "    <tr>\n",
       "      <th>4</th>\n",
       "      <td>VHL12170</td>\n",
       "      <td>Ibadan</td>\n",
       "      <td>Toyota</td>\n",
       "      <td>Highlander</td>\n",
       "      <td>2,002</td>\n",
       "      <td>Red</td>\n",
       "      <td>2.6</td>\n",
       "      <td>Nigerian Used</td>\n",
       "      <td>125,206</td>\n",
       "    </tr>\n",
       "  </tbody>\n",
       "</table>\n",
       "</div>"
      ],
      "text/plain": [
       "  VehicleID Location          Maker                Model   Year  Colour  \\\n",
       "0  VHL12546    Abuja          Honda  Accord Coupe EX V-6  2,011  Silver   \n",
       "1  VHL18827   Ibadan        Hyundai               Sonata  2,012  Silver   \n",
       "2  VHL19499    Lagos          Lexus               RX 350  2,010     Red   \n",
       "3  VHL17991    Abuja  Mercedes-Benz            GLE-Class  2,017    Blue   \n",
       "4  VHL12170   Ibadan         Toyota           Highlander  2,002     Red   \n",
       "\n",
       "   Amount (Million Naira)           Type Distance  \n",
       "0                     2.2  Nigerian Used      NaN  \n",
       "1                     3.5  Nigerian Used  125,000  \n",
       "2                     9.2   Foreign Used  110,852  \n",
       "3                    22.8   Foreign Used   30,000  \n",
       "4                     2.6  Nigerian Used  125,206  "
      ]
     },
     "execution_count": 2,
     "metadata": {},
     "output_type": "execute_result"
    }
   ],
   "source": [
    "train.head()"
   ]
  },
  {
   "cell_type": "code",
   "execution_count": 3,
   "id": "b5207be1",
   "metadata": {
    "ExecuteTime": {
     "end_time": "2022-06-03T08:33:54.503799Z",
     "start_time": "2022-06-03T08:33:54.407799Z"
    }
   },
   "outputs": [],
   "source": [
    "train.Year = train.Year.str.replace(',','')\n",
    "train.Year = train.Year.astype(float)\n",
    "train.Distance  = train.Distance.str.replace(',','')\n",
    "train.Distance = train.Distance.astype(float)\n"
   ]
  },
  {
   "cell_type": "code",
   "execution_count": 4,
   "id": "c29526d0",
   "metadata": {
    "ExecuteTime": {
     "end_time": "2022-06-03T08:33:54.625813Z",
     "start_time": "2022-06-03T08:33:54.514804Z"
    }
   },
   "outputs": [
    {
     "name": "stdout",
     "output_type": "stream",
     "text": [
      "<class 'pandas.core.frame.DataFrame'>\n",
      "RangeIndex: 7205 entries, 0 to 7204\n",
      "Data columns (total 9 columns):\n",
      " #   Column                  Non-Null Count  Dtype  \n",
      "---  ------                  --------------  -----  \n",
      " 0   VehicleID               7205 non-null   object \n",
      " 1   Location                7205 non-null   object \n",
      " 2   Maker                   7205 non-null   object \n",
      " 3   Model                   7205 non-null   object \n",
      " 4   Year                    7184 non-null   float64\n",
      " 5   Colour                  7205 non-null   object \n",
      " 6   Amount (Million Naira)  7188 non-null   float64\n",
      " 7   Type                    7008 non-null   object \n",
      " 8   Distance                4845 non-null   float64\n",
      "dtypes: float64(3), object(6)\n",
      "memory usage: 506.7+ KB\n"
     ]
    }
   ],
   "source": [
    "train.info()"
   ]
  },
  {
   "cell_type": "code",
   "execution_count": 5,
   "id": "d57277fe",
   "metadata": {
    "ExecuteTime": {
     "end_time": "2022-06-03T08:33:54.724797Z",
     "start_time": "2022-06-03T08:33:54.632811Z"
    }
   },
   "outputs": [],
   "source": [
    "train.Distance.fillna(-999, inplace=True)\n",
    "train.Year.fillna(2011.0, inplace = True)\n",
    "train['Amount (Million Naira)'].fillna(train['Amount (Million Naira)'].median() , inplace = True)"
   ]
  },
  {
   "cell_type": "code",
   "execution_count": 6,
   "id": "c97b7451",
   "metadata": {
    "ExecuteTime": {
     "end_time": "2022-06-03T08:33:54.860781Z",
     "start_time": "2022-06-03T08:33:54.732807Z"
    }
   },
   "outputs": [
    {
     "name": "stdout",
     "output_type": "stream",
     "text": [
      "<class 'pandas.core.frame.DataFrame'>\n",
      "RangeIndex: 2061 entries, 0 to 2060\n",
      "Data columns (total 8 columns):\n",
      " #   Column     Non-Null Count  Dtype  \n",
      "---  ------     --------------  -----  \n",
      " 0   VehicleID  2061 non-null   object \n",
      " 1   Location   2061 non-null   object \n",
      " 2   Maker      2061 non-null   object \n",
      " 3   Model      2061 non-null   object \n",
      " 4   Year       2059 non-null   object \n",
      " 5   Colour     2061 non-null   object \n",
      " 6   Type       2007 non-null   object \n",
      " 7   Distance   1385 non-null   float64\n",
      "dtypes: float64(1), object(7)\n",
      "memory usage: 128.9+ KB\n"
     ]
    }
   ],
   "source": [
    "test.info()"
   ]
  },
  {
   "cell_type": "code",
   "execution_count": 7,
   "id": "79bbe9b3",
   "metadata": {
    "ExecuteTime": {
     "end_time": "2022-06-03T08:33:54.986794Z",
     "start_time": "2022-06-03T08:33:54.866797Z"
    }
   },
   "outputs": [],
   "source": [
    "test.Year = test.Year.str.replace(',','')"
   ]
  },
  {
   "cell_type": "code",
   "execution_count": 8,
   "id": "3962f296",
   "metadata": {
    "ExecuteTime": {
     "end_time": "2022-06-03T08:33:55.104803Z",
     "start_time": "2022-06-03T08:33:54.993799Z"
    }
   },
   "outputs": [],
   "source": [
    "test.Year = test.Year.astype(float)"
   ]
  },
  {
   "cell_type": "code",
   "execution_count": 9,
   "id": "a7127d28",
   "metadata": {
    "ExecuteTime": {
     "end_time": "2022-06-03T08:33:55.240675Z",
     "start_time": "2022-06-03T08:33:55.112786Z"
    }
   },
   "outputs": [],
   "source": [
    "test.Year.fillna(2011.0, inplace=True)\n",
    "test.Distance.fillna(-999, inplace=True)\n",
    "test.Year = test.Year.astype(int)\n",
    "test.Distance = test.Distance.astype(int)"
   ]
  },
  {
   "cell_type": "code",
   "execution_count": 10,
   "id": "90fbb6fa",
   "metadata": {
    "ExecuteTime": {
     "end_time": "2022-06-03T08:33:55.383985Z",
     "start_time": "2022-06-03T08:33:55.248647Z"
    }
   },
   "outputs": [
    {
     "name": "stdout",
     "output_type": "stream",
     "text": [
      "<class 'pandas.core.frame.DataFrame'>\n",
      "RangeIndex: 2061 entries, 0 to 2060\n",
      "Data columns (total 8 columns):\n",
      " #   Column     Non-Null Count  Dtype \n",
      "---  ------     --------------  ----- \n",
      " 0   VehicleID  2061 non-null   object\n",
      " 1   Location   2061 non-null   object\n",
      " 2   Maker      2061 non-null   object\n",
      " 3   Model      2061 non-null   object\n",
      " 4   Year       2061 non-null   int32 \n",
      " 5   Colour     2061 non-null   object\n",
      " 6   Type       2007 non-null   object\n",
      " 7   Distance   2061 non-null   int32 \n",
      "dtypes: int32(2), object(6)\n",
      "memory usage: 112.8+ KB\n"
     ]
    }
   ],
   "source": [
    "test.info()"
   ]
  },
  {
   "cell_type": "code",
   "execution_count": 11,
   "id": "47f5fdd3",
   "metadata": {
    "ExecuteTime": {
     "end_time": "2022-06-03T08:33:55.470956Z",
     "start_time": "2022-06-03T08:33:55.391015Z"
    }
   },
   "outputs": [],
   "source": [
    "train.Type.fillna('Foreign Used', inplace=True)\n",
    "test.Type.fillna('Foreign Used', inplace=True)"
   ]
  },
  {
   "cell_type": "code",
   "execution_count": 12,
   "id": "44ca4c55",
   "metadata": {
    "ExecuteTime": {
     "end_time": "2022-06-03T08:33:55.621023Z",
     "start_time": "2022-06-03T08:33:55.476976Z"
    }
   },
   "outputs": [
    {
     "data": {
      "text/plain": [
       "VehicleID                 0\n",
       "Location                  0\n",
       "Maker                     0\n",
       "Model                     0\n",
       "Year                      0\n",
       "Colour                    0\n",
       "Amount (Million Naira)    0\n",
       "Type                      0\n",
       "Distance                  0\n",
       "dtype: int64"
      ]
     },
     "execution_count": 12,
     "metadata": {},
     "output_type": "execute_result"
    }
   ],
   "source": [
    "train.isna().sum()"
   ]
  },
  {
   "cell_type": "code",
   "execution_count": 13,
   "id": "5e6c9689",
   "metadata": {
    "ExecuteTime": {
     "end_time": "2022-06-03T08:33:55.754969Z",
     "start_time": "2022-06-03T08:33:55.637009Z"
    }
   },
   "outputs": [
    {
     "data": {
      "text/plain": [
       "VehicleID    0\n",
       "Location     0\n",
       "Maker        0\n",
       "Model        0\n",
       "Year         0\n",
       "Colour       0\n",
       "Type         0\n",
       "Distance     0\n",
       "dtype: int64"
      ]
     },
     "execution_count": 13,
     "metadata": {},
     "output_type": "execute_result"
    }
   ],
   "source": [
    "test.isna().sum()"
   ]
  },
  {
   "cell_type": "code",
   "execution_count": 14,
   "id": "5226aeff",
   "metadata": {
    "ExecuteTime": {
     "end_time": "2022-06-03T08:33:56.598243Z",
     "start_time": "2022-06-03T08:33:55.761924Z"
    }
   },
   "outputs": [],
   "source": [
    "from sklearn.model_selection import train_test_split,cross_val_score\n",
    "from sklearn.linear_model import LinearRegression, Ridge, Lasso\n",
    "from sklearn.ensemble import HistGradientBoostingRegressor\n"
   ]
  },
  {
   "cell_type": "code",
   "execution_count": 15,
   "id": "05fa9630",
   "metadata": {
    "ExecuteTime": {
     "end_time": "2022-06-03T08:33:56.628685Z",
     "start_time": "2022-06-03T08:33:56.598243Z"
    }
   },
   "outputs": [],
   "source": [
    "cat_cols = train.select_dtypes(include = 'object').columns\n",
    "num_cols = train.select_dtypes(exclude = 'object').columns"
   ]
  },
  {
   "cell_type": "code",
   "execution_count": 16,
   "id": "8977babc",
   "metadata": {
    "ExecuteTime": {
     "end_time": "2022-06-03T08:33:56.807533Z",
     "start_time": "2022-06-03T08:33:56.635695Z"
    }
   },
   "outputs": [],
   "source": [
    "from sklearn.preprocessing import LabelEncoder,OneHotEncoder , StandardScaler\n",
    "\n",
    "lb_Model  = LabelEncoder()\n",
    "train.Model = lb_Model.fit_transform(train.Model)\n",
    "\n",
    "lb_Colour = LabelEncoder()\n",
    "train.Colour = lb_Colour.fit_transform(train.Colour)\n",
    "\n",
    "lb_Maker = LabelEncoder()\n",
    "train.Maker = lb_Maker.fit_transform(train.Maker)\n"
   ]
  },
  {
   "cell_type": "code",
   "execution_count": 17,
   "id": "c9b3401b",
   "metadata": {
    "ExecuteTime": {
     "end_time": "2022-06-03T08:33:56.924575Z",
     "start_time": "2022-06-03T08:33:56.814539Z"
    },
    "scrolled": false
   },
   "outputs": [
    {
     "data": {
      "text/html": [
       "<div>\n",
       "<style scoped>\n",
       "    .dataframe tbody tr th:only-of-type {\n",
       "        vertical-align: middle;\n",
       "    }\n",
       "\n",
       "    .dataframe tbody tr th {\n",
       "        vertical-align: top;\n",
       "    }\n",
       "\n",
       "    .dataframe thead th {\n",
       "        text-align: right;\n",
       "    }\n",
       "</style>\n",
       "<table border=\"1\" class=\"dataframe\">\n",
       "  <thead>\n",
       "    <tr style=\"text-align: right;\">\n",
       "      <th></th>\n",
       "      <th>VehicleID</th>\n",
       "      <th>Location</th>\n",
       "      <th>Maker</th>\n",
       "      <th>Model</th>\n",
       "      <th>Year</th>\n",
       "      <th>Colour</th>\n",
       "      <th>Amount (Million Naira)</th>\n",
       "      <th>Type</th>\n",
       "      <th>Distance</th>\n",
       "    </tr>\n",
       "  </thead>\n",
       "  <tbody>\n",
       "    <tr>\n",
       "      <th>0</th>\n",
       "      <td>VHL12546</td>\n",
       "      <td>Abuja</td>\n",
       "      <td>17</td>\n",
       "      <td>117</td>\n",
       "      <td>2011.0</td>\n",
       "      <td>16</td>\n",
       "      <td>2.2</td>\n",
       "      <td>Nigerian Used</td>\n",
       "      <td>-999.0</td>\n",
       "    </tr>\n",
       "    <tr>\n",
       "      <th>1</th>\n",
       "      <td>VHL18827</td>\n",
       "      <td>Ibadan</td>\n",
       "      <td>19</td>\n",
       "      <td>1049</td>\n",
       "      <td>2012.0</td>\n",
       "      <td>16</td>\n",
       "      <td>3.5</td>\n",
       "      <td>Nigerian Used</td>\n",
       "      <td>125000.0</td>\n",
       "    </tr>\n",
       "    <tr>\n",
       "      <th>2</th>\n",
       "      <td>VHL19499</td>\n",
       "      <td>Lagos</td>\n",
       "      <td>29</td>\n",
       "      <td>908</td>\n",
       "      <td>2010.0</td>\n",
       "      <td>15</td>\n",
       "      <td>9.2</td>\n",
       "      <td>Foreign Used</td>\n",
       "      <td>110852.0</td>\n",
       "    </tr>\n",
       "    <tr>\n",
       "      <th>3</th>\n",
       "      <td>VHL17991</td>\n",
       "      <td>Abuja</td>\n",
       "      <td>34</td>\n",
       "      <td>508</td>\n",
       "      <td>2017.0</td>\n",
       "      <td>2</td>\n",
       "      <td>22.8</td>\n",
       "      <td>Foreign Used</td>\n",
       "      <td>30000.0</td>\n",
       "    </tr>\n",
       "    <tr>\n",
       "      <th>4</th>\n",
       "      <td>VHL12170</td>\n",
       "      <td>Ibadan</td>\n",
       "      <td>52</td>\n",
       "      <td>569</td>\n",
       "      <td>2002.0</td>\n",
       "      <td>15</td>\n",
       "      <td>2.6</td>\n",
       "      <td>Nigerian Used</td>\n",
       "      <td>125206.0</td>\n",
       "    </tr>\n",
       "  </tbody>\n",
       "</table>\n",
       "</div>"
      ],
      "text/plain": [
       "  VehicleID Location  Maker  Model    Year  Colour  Amount (Million Naira)  \\\n",
       "0  VHL12546    Abuja     17    117  2011.0      16                     2.2   \n",
       "1  VHL18827   Ibadan     19   1049  2012.0      16                     3.5   \n",
       "2  VHL19499    Lagos     29    908  2010.0      15                     9.2   \n",
       "3  VHL17991    Abuja     34    508  2017.0       2                    22.8   \n",
       "4  VHL12170   Ibadan     52    569  2002.0      15                     2.6   \n",
       "\n",
       "            Type  Distance  \n",
       "0  Nigerian Used    -999.0  \n",
       "1  Nigerian Used  125000.0  \n",
       "2   Foreign Used  110852.0  \n",
       "3   Foreign Used   30000.0  \n",
       "4  Nigerian Used  125206.0  "
      ]
     },
     "execution_count": 17,
     "metadata": {},
     "output_type": "execute_result"
    }
   ],
   "source": [
    "train.head()"
   ]
  },
  {
   "cell_type": "code",
   "execution_count": 18,
   "id": "31f86622",
   "metadata": {
    "ExecuteTime": {
     "end_time": "2022-06-03T08:33:57.161892Z",
     "start_time": "2022-06-03T08:33:56.931526Z"
    }
   },
   "outputs": [
    {
     "data": {
      "text/plain": [
       "dtype('float64')"
      ]
     },
     "execution_count": 18,
     "metadata": {},
     "output_type": "execute_result"
    }
   ],
   "source": [
    "train['Amount (Million Naira)'].dtype"
   ]
  },
  {
   "cell_type": "code",
   "execution_count": 19,
   "id": "f61a9311",
   "metadata": {
    "ExecuteTime": {
     "end_time": "2022-06-03T08:33:57.302912Z",
     "start_time": "2022-06-03T08:33:57.168853Z"
    },
    "scrolled": true
   },
   "outputs": [
    {
     "data": {
      "text/plain": [
       "Maker                    -0.048018\n",
       "Model                     0.085127\n",
       "Year                      0.452479\n",
       "Colour                   -0.040683\n",
       "Amount (Million Naira)    1.000000\n",
       "Distance                 -0.147345\n",
       "Name: Amount (Million Naira), dtype: float64"
      ]
     },
     "execution_count": 19,
     "metadata": {},
     "output_type": "execute_result"
    }
   ],
   "source": [
    "train['Amount (Million Naira)'] = train['Amount (Million Naira)'].astype(float)\n",
    "train.corr()['Amount (Million Naira)']"
   ]
  },
  {
   "cell_type": "code",
   "execution_count": 21,
   "id": "4bac1162",
   "metadata": {
    "ExecuteTime": {
     "end_time": "2022-06-03T08:35:47.554695Z",
     "start_time": "2022-06-03T08:35:47.469232Z"
    }
   },
   "outputs": [],
   "source": [
    "train = pd.get_dummies(train, columns = ['Location', 'Type'], prefix = '' , prefix_sep = '')"
   ]
  },
  {
   "cell_type": "code",
   "execution_count": 23,
   "id": "fdee7955",
   "metadata": {
    "ExecuteTime": {
     "end_time": "2022-06-03T08:36:08.158243Z",
     "start_time": "2022-06-03T08:36:08.106754Z"
    },
    "scrolled": true
   },
   "outputs": [
    {
     "data": {
      "text/html": [
       "<div>\n",
       "<style scoped>\n",
       "    .dataframe tbody tr th:only-of-type {\n",
       "        vertical-align: middle;\n",
       "    }\n",
       "\n",
       "    .dataframe tbody tr th {\n",
       "        vertical-align: top;\n",
       "    }\n",
       "\n",
       "    .dataframe thead th {\n",
       "        text-align: right;\n",
       "    }\n",
       "</style>\n",
       "<table border=\"1\" class=\"dataframe\">\n",
       "  <thead>\n",
       "    <tr style=\"text-align: right;\">\n",
       "      <th></th>\n",
       "      <th>VehicleID</th>\n",
       "      <th>Maker</th>\n",
       "      <th>Model</th>\n",
       "      <th>Year</th>\n",
       "      <th>Colour</th>\n",
       "      <th>Amount (Million Naira)</th>\n",
       "      <th>Distance</th>\n",
       "      <th>Abuja</th>\n",
       "      <th>Ibadan</th>\n",
       "      <th>Lagos</th>\n",
       "      <th>Brand New</th>\n",
       "      <th>Foreign Used</th>\n",
       "      <th>Nigerian Used</th>\n",
       "    </tr>\n",
       "  </thead>\n",
       "  <tbody>\n",
       "    <tr>\n",
       "      <th>0</th>\n",
       "      <td>VHL12546</td>\n",
       "      <td>17</td>\n",
       "      <td>117</td>\n",
       "      <td>2011.0</td>\n",
       "      <td>16</td>\n",
       "      <td>2.2</td>\n",
       "      <td>-999.0</td>\n",
       "      <td>1</td>\n",
       "      <td>0</td>\n",
       "      <td>0</td>\n",
       "      <td>0</td>\n",
       "      <td>0</td>\n",
       "      <td>1</td>\n",
       "    </tr>\n",
       "    <tr>\n",
       "      <th>1</th>\n",
       "      <td>VHL18827</td>\n",
       "      <td>19</td>\n",
       "      <td>1049</td>\n",
       "      <td>2012.0</td>\n",
       "      <td>16</td>\n",
       "      <td>3.5</td>\n",
       "      <td>125000.0</td>\n",
       "      <td>0</td>\n",
       "      <td>1</td>\n",
       "      <td>0</td>\n",
       "      <td>0</td>\n",
       "      <td>0</td>\n",
       "      <td>1</td>\n",
       "    </tr>\n",
       "    <tr>\n",
       "      <th>2</th>\n",
       "      <td>VHL19499</td>\n",
       "      <td>29</td>\n",
       "      <td>908</td>\n",
       "      <td>2010.0</td>\n",
       "      <td>15</td>\n",
       "      <td>9.2</td>\n",
       "      <td>110852.0</td>\n",
       "      <td>0</td>\n",
       "      <td>0</td>\n",
       "      <td>1</td>\n",
       "      <td>0</td>\n",
       "      <td>1</td>\n",
       "      <td>0</td>\n",
       "    </tr>\n",
       "    <tr>\n",
       "      <th>3</th>\n",
       "      <td>VHL17991</td>\n",
       "      <td>34</td>\n",
       "      <td>508</td>\n",
       "      <td>2017.0</td>\n",
       "      <td>2</td>\n",
       "      <td>22.8</td>\n",
       "      <td>30000.0</td>\n",
       "      <td>1</td>\n",
       "      <td>0</td>\n",
       "      <td>0</td>\n",
       "      <td>0</td>\n",
       "      <td>1</td>\n",
       "      <td>0</td>\n",
       "    </tr>\n",
       "    <tr>\n",
       "      <th>4</th>\n",
       "      <td>VHL12170</td>\n",
       "      <td>52</td>\n",
       "      <td>569</td>\n",
       "      <td>2002.0</td>\n",
       "      <td>15</td>\n",
       "      <td>2.6</td>\n",
       "      <td>125206.0</td>\n",
       "      <td>0</td>\n",
       "      <td>1</td>\n",
       "      <td>0</td>\n",
       "      <td>0</td>\n",
       "      <td>0</td>\n",
       "      <td>1</td>\n",
       "    </tr>\n",
       "  </tbody>\n",
       "</table>\n",
       "</div>"
      ],
      "text/plain": [
       "  VehicleID  Maker  Model    Year  Colour  Amount (Million Naira)  Distance  \\\n",
       "0  VHL12546     17    117  2011.0      16                     2.2    -999.0   \n",
       "1  VHL18827     19   1049  2012.0      16                     3.5  125000.0   \n",
       "2  VHL19499     29    908  2010.0      15                     9.2  110852.0   \n",
       "3  VHL17991     34    508  2017.0       2                    22.8   30000.0   \n",
       "4  VHL12170     52    569  2002.0      15                     2.6  125206.0   \n",
       "\n",
       "   Abuja  Ibadan  Lagos  Brand New  Foreign Used  Nigerian Used  \n",
       "0      1       0      0          0             0              1  \n",
       "1      0       1      0          0             0              1  \n",
       "2      0       0      1          0             1              0  \n",
       "3      1       0      0          0             1              0  \n",
       "4      0       1      0          0             0              1  "
      ]
     },
     "execution_count": 23,
     "metadata": {},
     "output_type": "execute_result"
    }
   ],
   "source": [
    "train.head()"
   ]
  },
  {
   "cell_type": "code",
   "execution_count": 24,
   "id": "153a2d7c",
   "metadata": {
    "ExecuteTime": {
     "end_time": "2022-06-03T08:37:29.915177Z",
     "start_time": "2022-06-03T08:37:29.334552Z"
    },
    "scrolled": true
   },
   "outputs": [
    {
     "data": {
      "text/plain": [
       "<AxesSubplot:xlabel='Distance'>"
      ]
     },
     "execution_count": 24,
     "metadata": {},
     "output_type": "execute_result"
    },
    {
     "data": {
      "image/png": "[encoded data removed]",
      "text/plain": [
       "<Figure size 432x288 with 1 Axes>"
      ]
     },
     "metadata": {
      "needs_background": "light"
     },
     "output_type": "display_data"
    }
   ],
   "source": [
    "sns.boxplot(data = train, x = 'Distance')"
   ]
  },
  {
   "cell_type": "code",
   "execution_count": 25,
   "id": "b4a5a7a6",
   "metadata": {
    "ExecuteTime": {
     "end_time": "2022-06-03T08:38:26.501310Z",
     "start_time": "2022-06-03T08:38:26.055344Z"
    },
    "scrolled": false
   },
   "outputs": [
    {
     "data": {
      "text/plain": [
       "<AxesSubplot:xlabel='Amount (Million Naira)'>"
      ]
     },
     "execution_count": 25,
     "metadata": {},
     "output_type": "execute_result"
    },
    {
     "data": {
      "image/png": "[encoded data removed]",
      "text/plain": [
       "<Figure size 432x288 with 1 Axes>"
      ]
     },
     "metadata": {
      "needs_background": "light"
     },
     "output_type": "display_data"
    }
   ],
   "source": [
    "sns.boxplot(data = train, x = 'Amount (Million Naira)')"
   ]
  },
  {
   "cell_type": "markdown",
   "id": "7f014a94",
   "metadata": {},
   "source": [
    "TODO: Try standardizing the numeric columns in the  data and see whether the results will be better"
   ]
  },
  {
   "cell_type": "code",
   "execution_count": 27,
   "id": "3a177cc1",
   "metadata": {
    "ExecuteTime": {
     "end_time": "2022-06-03T08:41:00.160405Z",
     "start_time": "2022-06-03T08:41:00.126724Z"
    }
   },
   "outputs": [],
   "source": [
    "X = train.drop(columns  = ['Amount (Million Naira)', 'VehicleID'])\n",
    "y = train['Amount (Million Naira)']"
   ]
  },
  {
   "cell_type": "code",
   "execution_count": 20,
   "id": "068ecfde",
   "metadata": {
    "ExecuteTime": {
     "end_time": "2022-06-03T08:33:57.395880Z",
     "start_time": "2022-06-03T08:33:57.309839Z"
    }
   },
   "outputs": [],
   "source": [
    "from sklearn.metrics import mean_squared_error\n",
    "\n",
    "\n",
    "\n",
    "X_train, X_valid, y_train, y_valid = train_test_split(random_state = 0)\n",
    "\n",
    "model_to_use = {\n",
    "    'linreg': LinearRegression(),\n",
    "    'ridge': Ridge(),\n",
    "    'lasso': Lasso(),\n",
    "    'gbdt': HistGradientBoostingRegressor(random_state =  0),\n",
    "}\n",
    "\n",
    "\n",
    "rmse = lambda x: mean_squared_error(y_valid, x, squared=False)\n",
    "\n",
    "for name, est in models_to_use.items():\n",
    "    print(f'Training With {name} model')\n",
    "    est.fit(X_train, y_train)\n",
    "    est.predict()"
   ]
  }
 ],
 "metadata": {
  "kernelspec": {
   "display_name": "Python 3.9.6 64-bit",
   "language": "python",
   "name": "python396jvsc74a57bd0342aa5655132cbf71a715f798c1954c8e10fd62576e079eb1568ff3b5ac83c42"
  },
  "language_info": {
   "codemirror_mode": {
    "name": "ipython",
    "version": 3
   },
   "file_extension": ".py",
   "mimetype": "text/x-python",
   "name": "python",
   "nbconvert_exporter": "python",
   "pygments_lexer": "ipython3",
   "version": "3.9.6"
  }
 },
 "nbformat": 4,
 "nbformat_minor": 5
}

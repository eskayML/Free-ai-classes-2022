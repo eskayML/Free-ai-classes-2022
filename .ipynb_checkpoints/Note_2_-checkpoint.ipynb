{
 "cells": [
  {
   "cell_type": "code",
   "execution_count": 13,
   "id": "f1cdc985",
   "metadata": {
    "ExecuteTime": {
     "end_time": "2022-06-03T13:26:25.215079Z",
     "start_time": "2022-06-03T13:26:25.125091Z"
    }
   },
   "outputs": [],
   "source": [
    "import numpy as np,pandas as pd,matplotlib.pyplot as plt,seaborn as sns\n",
    "train,test = pd.read_csv('Train.csv'),pd.read_csv('Test.csv')"
   ]
  },
  {
   "cell_type": "code",
   "execution_count": 14,
   "id": "4f29448c",
   "metadata": {
    "ExecuteTime": {
     "end_time": "2022-06-03T13:26:25.373101Z",
     "start_time": "2022-06-03T13:26:25.330073Z"
    },
    "scrolled": true
   },
   "outputs": [
    {
     "data": {
      "text/html": [
       "<div>\n",
       "<style scoped>\n",
       "    .dataframe tbody tr th:only-of-type {\n",
       "        vertical-align: middle;\n",
       "    }\n",
       "\n",
       "    .dataframe tbody tr th {\n",
       "        vertical-align: top;\n",
       "    }\n",
       "\n",
       "    .dataframe thead th {\n",
       "        text-align: right;\n",
       "    }\n",
       "</style>\n",
       "<table border=\"1\" class=\"dataframe\">\n",
       "  <thead>\n",
       "    <tr style=\"text-align: right;\">\n",
       "      <th></th>\n",
       "      <th>VehicleID</th>\n",
       "      <th>Location</th>\n",
       "      <th>Maker</th>\n",
       "      <th>Model</th>\n",
       "      <th>Year</th>\n",
       "      <th>Colour</th>\n",
       "      <th>Amount (Million Naira)</th>\n",
       "      <th>Type</th>\n",
       "      <th>Distance</th>\n",
       "    </tr>\n",
       "  </thead>\n",
       "  <tbody>\n",
       "    <tr>\n",
       "      <th>0</th>\n",
       "      <td>VHL12546</td>\n",
       "      <td>Abuja</td>\n",
       "      <td>Honda</td>\n",
       "      <td>Accord Coupe EX V-6</td>\n",
       "      <td>2,011</td>\n",
       "      <td>Silver</td>\n",
       "      <td>2.2</td>\n",
       "      <td>Nigerian Used</td>\n",
       "      <td>NaN</td>\n",
       "    </tr>\n",
       "    <tr>\n",
       "      <th>1</th>\n",
       "      <td>VHL18827</td>\n",
       "      <td>Ibadan</td>\n",
       "      <td>Hyundai</td>\n",
       "      <td>Sonata</td>\n",
       "      <td>2,012</td>\n",
       "      <td>Silver</td>\n",
       "      <td>3.5</td>\n",
       "      <td>Nigerian Used</td>\n",
       "      <td>125,000</td>\n",
       "    </tr>\n",
       "    <tr>\n",
       "      <th>2</th>\n",
       "      <td>VHL19499</td>\n",
       "      <td>Lagos</td>\n",
       "      <td>Lexus</td>\n",
       "      <td>RX 350</td>\n",
       "      <td>2,010</td>\n",
       "      <td>Red</td>\n",
       "      <td>9.2</td>\n",
       "      <td>Foreign Used</td>\n",
       "      <td>110,852</td>\n",
       "    </tr>\n",
       "    <tr>\n",
       "      <th>3</th>\n",
       "      <td>VHL17991</td>\n",
       "      <td>Abuja</td>\n",
       "      <td>Mercedes-Benz</td>\n",
       "      <td>GLE-Class</td>\n",
       "      <td>2,017</td>\n",
       "      <td>Blue</td>\n",
       "      <td>22.8</td>\n",
       "      <td>Foreign Used</td>\n",
       "      <td>30,000</td>\n",
       "    </tr>\n",
       "    <tr>\n",
       "      <th>4</th>\n",
       "      <td>VHL12170</td>\n",
       "      <td>Ibadan</td>\n",
       "      <td>Toyota</td>\n",
       "      <td>Highlander</td>\n",
       "      <td>2,002</td>\n",
       "      <td>Red</td>\n",
       "      <td>2.6</td>\n",
       "      <td>Nigerian Used</td>\n",
       "      <td>125,206</td>\n",
       "    </tr>\n",
       "  </tbody>\n",
       "</table>\n",
       "</div>"
      ],
      "text/plain": [
       "  VehicleID Location          Maker                Model   Year  Colour  \\\n",
       "0  VHL12546    Abuja          Honda  Accord Coupe EX V-6  2,011  Silver   \n",
       "1  VHL18827   Ibadan        Hyundai               Sonata  2,012  Silver   \n",
       "2  VHL19499    Lagos          Lexus               RX 350  2,010     Red   \n",
       "3  VHL17991    Abuja  Mercedes-Benz            GLE-Class  2,017    Blue   \n",
       "4  VHL12170   Ibadan         Toyota           Highlander  2,002     Red   \n",
       "\n",
       "   Amount (Million Naira)           Type Distance  \n",
       "0                     2.2  Nigerian Used      NaN  \n",
       "1                     3.5  Nigerian Used  125,000  \n",
       "2                     9.2   Foreign Used  110,852  \n",
       "3                    22.8   Foreign Used   30,000  \n",
       "4                     2.6  Nigerian Used  125,206  "
      ]
     },
     "execution_count": 14,
     "metadata": {},
     "output_type": "execute_result"
    }
   ],
   "source": [
    "train.head()"
   ]
  },
  {
   "cell_type": "code",
   "execution_count": 15,
   "id": "92b09d81",
   "metadata": {
    "ExecuteTime": {
     "end_time": "2022-06-03T13:26:25.662279Z",
     "start_time": "2022-06-03T13:26:25.645287Z"
    }
   },
   "outputs": [
    {
     "data": {
      "text/plain": [
       "((7205, 9), (2061, 8))"
      ]
     },
     "execution_count": 15,
     "metadata": {},
     "output_type": "execute_result"
    }
   ],
   "source": [
    "train.shape,test.shape"
   ]
  },
  {
   "cell_type": "code",
   "execution_count": 16,
   "id": "59c0bf4b",
   "metadata": {
    "ExecuteTime": {
     "end_time": "2022-06-03T13:26:26.518418Z",
     "start_time": "2022-06-03T13:26:26.502377Z"
    }
   },
   "outputs": [],
   "source": [
    "train['Amount (Million Naira)'].fillna(train['Amount (Million Naira)'].median() , inplace = True)\n",
    "\n",
    "y = train.pop('Amount (Million Naira)')"
   ]
  },
  {
   "cell_type": "code",
   "execution_count": 17,
   "id": "b5207be1",
   "metadata": {
    "ExecuteTime": {
     "end_time": "2022-06-03T13:26:27.322048Z",
     "start_time": "2022-06-03T13:26:27.241621Z"
    }
   },
   "outputs": [],
   "source": [
    "all = pd.concat([train,test], ignore_index = True)\n",
    "\n",
    "all.Year = all.Year.str.replace(',','')\n",
    "all.Year = all.Year.astype(float)\n",
    "all.Distance  = all.Distance.str.replace(',','')\n",
    "all.Distance = all.Distance.astype(float)\n"
   ]
  },
  {
   "cell_type": "code",
   "execution_count": 18,
   "id": "d57277fe",
   "metadata": {
    "ExecuteTime": {
     "end_time": "2022-06-03T13:26:27.815472Z",
     "start_time": "2022-06-03T13:26:27.799491Z"
    }
   },
   "outputs": [],
   "source": [
    "all.Distance.fillna(all.Distance.median(), inplace=True)\n",
    "all.Year.fillna(2011.0, inplace = True)\n"
   ]
  },
  {
   "cell_type": "code",
   "execution_count": 19,
   "id": "47f5fdd3",
   "metadata": {
    "ExecuteTime": {
     "end_time": "2022-06-03T13:26:28.424429Z",
     "start_time": "2022-06-03T13:26:28.393062Z"
    }
   },
   "outputs": [],
   "source": [
    "all.Type.fillna('Foreign Used', inplace=True)"
   ]
  },
  {
   "cell_type": "code",
   "execution_count": 20,
   "id": "f9214e04",
   "metadata": {
    "ExecuteTime": {
     "end_time": "2022-06-03T13:26:28.669011Z",
     "start_time": "2022-06-03T13:26:28.639005Z"
    }
   },
   "outputs": [
    {
     "data": {
      "text/plain": [
       "VehicleID    0\n",
       "Location     0\n",
       "Maker        0\n",
       "Model        0\n",
       "Year         0\n",
       "Colour       0\n",
       "Type         0\n",
       "Distance     0\n",
       "dtype: int64"
      ]
     },
     "execution_count": 20,
     "metadata": {},
     "output_type": "execute_result"
    }
   ],
   "source": [
    "all.isna().sum()"
   ]
  },
  {
   "cell_type": "code",
   "execution_count": 49,
   "id": "5226aeff",
   "metadata": {
    "ExecuteTime": {
     "end_time": "2022-06-03T13:39:04.320819Z",
     "start_time": "2022-06-03T13:39:04.309832Z"
    }
   },
   "outputs": [],
   "source": [
    "from sklearn.model_selection import train_test_split,cross_val_score,GridSearchCV\n",
    "from sklearn.linear_model import LinearRegression, Ridge, Lasso\n",
    "from sklearn.ensemble import HistGradientBoostingRegressor\n"
   ]
  },
  {
   "cell_type": "code",
   "execution_count": 22,
   "id": "05fa9630",
   "metadata": {
    "ExecuteTime": {
     "end_time": "2022-06-03T13:26:30.160824Z",
     "start_time": "2022-06-03T13:26:30.137796Z"
    }
   },
   "outputs": [],
   "source": [
    "cat_cols = train.select_dtypes(include = 'object').columns\n",
    "num_cols = train.select_dtypes(exclude = 'object').columns"
   ]
  },
  {
   "cell_type": "code",
   "execution_count": 23,
   "id": "8977babc",
   "metadata": {
    "ExecuteTime": {
     "end_time": "2022-06-03T13:26:30.652987Z",
     "start_time": "2022-06-03T13:26:30.599037Z"
    }
   },
   "outputs": [],
   "source": [
    "from sklearn.preprocessing import LabelEncoder,OneHotEncoder , StandardScaler\n",
    "from scipy import stats\n",
    "\n",
    "\n",
    "lb_Model  = LabelEncoder()\n",
    "all.Model = lb_Model.fit_transform(all.Model)\n",
    "\n",
    "lb_Colour = LabelEncoder()\n",
    "all.Colour = lb_Colour.fit_transform(all.Colour)\n",
    "\n",
    "lb_Maker = LabelEncoder()\n",
    "all.Maker = lb_Maker.fit_transform(all.Maker)\n"
   ]
  },
  {
   "cell_type": "code",
   "execution_count": 24,
   "id": "006b1903",
   "metadata": {
    "ExecuteTime": {
     "end_time": "2022-06-03T13:26:31.809410Z",
     "start_time": "2022-06-03T13:26:31.754420Z"
    },
    "scrolled": true
   },
   "outputs": [
    {
     "data": {
      "text/html": [
       "<div>\n",
       "<style scoped>\n",
       "    .dataframe tbody tr th:only-of-type {\n",
       "        vertical-align: middle;\n",
       "    }\n",
       "\n",
       "    .dataframe tbody tr th {\n",
       "        vertical-align: top;\n",
       "    }\n",
       "\n",
       "    .dataframe thead th {\n",
       "        text-align: right;\n",
       "    }\n",
       "</style>\n",
       "<table border=\"1\" class=\"dataframe\">\n",
       "  <thead>\n",
       "    <tr style=\"text-align: right;\">\n",
       "      <th></th>\n",
       "      <th>VehicleID</th>\n",
       "      <th>Location</th>\n",
       "      <th>Maker</th>\n",
       "      <th>Model</th>\n",
       "      <th>Year</th>\n",
       "      <th>Colour</th>\n",
       "      <th>Type</th>\n",
       "      <th>Distance</th>\n",
       "    </tr>\n",
       "  </thead>\n",
       "  <tbody>\n",
       "    <tr>\n",
       "      <th>0</th>\n",
       "      <td>VHL12546</td>\n",
       "      <td>Abuja</td>\n",
       "      <td>17</td>\n",
       "      <td>142</td>\n",
       "      <td>2011.0</td>\n",
       "      <td>18</td>\n",
       "      <td>Nigerian Used</td>\n",
       "      <td>80830.0</td>\n",
       "    </tr>\n",
       "    <tr>\n",
       "      <th>1</th>\n",
       "      <td>VHL18827</td>\n",
       "      <td>Ibadan</td>\n",
       "      <td>19</td>\n",
       "      <td>1204</td>\n",
       "      <td>2012.0</td>\n",
       "      <td>18</td>\n",
       "      <td>Nigerian Used</td>\n",
       "      <td>125000.0</td>\n",
       "    </tr>\n",
       "    <tr>\n",
       "      <th>2</th>\n",
       "      <td>VHL19499</td>\n",
       "      <td>Lagos</td>\n",
       "      <td>29</td>\n",
       "      <td>1040</td>\n",
       "      <td>2010.0</td>\n",
       "      <td>17</td>\n",
       "      <td>Foreign Used</td>\n",
       "      <td>110852.0</td>\n",
       "    </tr>\n",
       "    <tr>\n",
       "      <th>3</th>\n",
       "      <td>VHL17991</td>\n",
       "      <td>Abuja</td>\n",
       "      <td>34</td>\n",
       "      <td>590</td>\n",
       "      <td>2017.0</td>\n",
       "      <td>3</td>\n",
       "      <td>Foreign Used</td>\n",
       "      <td>30000.0</td>\n",
       "    </tr>\n",
       "    <tr>\n",
       "      <th>4</th>\n",
       "      <td>VHL12170</td>\n",
       "      <td>Ibadan</td>\n",
       "      <td>53</td>\n",
       "      <td>659</td>\n",
       "      <td>2002.0</td>\n",
       "      <td>17</td>\n",
       "      <td>Nigerian Used</td>\n",
       "      <td>125206.0</td>\n",
       "    </tr>\n",
       "  </tbody>\n",
       "</table>\n",
       "</div>"
      ],
      "text/plain": [
       "  VehicleID Location  Maker  Model    Year  Colour           Type  Distance\n",
       "0  VHL12546    Abuja     17    142  2011.0      18  Nigerian Used   80830.0\n",
       "1  VHL18827   Ibadan     19   1204  2012.0      18  Nigerian Used  125000.0\n",
       "2  VHL19499    Lagos     29   1040  2010.0      17   Foreign Used  110852.0\n",
       "3  VHL17991    Abuja     34    590  2017.0       3   Foreign Used   30000.0\n",
       "4  VHL12170   Ibadan     53    659  2002.0      17  Nigerian Used  125206.0"
      ]
     },
     "execution_count": 24,
     "metadata": {},
     "output_type": "execute_result"
    }
   ],
   "source": [
    "all.head()"
   ]
  },
  {
   "cell_type": "code",
   "execution_count": 25,
   "id": "4bac1162",
   "metadata": {
    "ExecuteTime": {
     "end_time": "2022-06-03T13:26:38.182562Z",
     "start_time": "2022-06-03T13:26:38.126550Z"
    }
   },
   "outputs": [],
   "source": [
    "all = pd.get_dummies(all, columns = ['Location', 'Type'], prefix = '' , prefix_sep = '')"
   ]
  },
  {
   "cell_type": "code",
   "execution_count": 26,
   "id": "211e2158",
   "metadata": {
    "ExecuteTime": {
     "end_time": "2022-06-03T13:26:38.859294Z",
     "start_time": "2022-06-03T13:26:38.844339Z"
    },
    "scrolled": true
   },
   "outputs": [
    {
     "data": {
      "text/plain": [
       "35"
      ]
     },
     "execution_count": 26,
     "metadata": {},
     "output_type": "execute_result"
    }
   ],
   "source": [
    "all.Year.nunique()"
   ]
  },
  {
   "cell_type": "code",
   "execution_count": 27,
   "id": "c3e1e4ce",
   "metadata": {
    "ExecuteTime": {
     "end_time": "2022-06-03T13:26:45.533402Z",
     "start_time": "2022-06-03T13:26:45.504406Z"
    }
   },
   "outputs": [],
   "source": [
    "scaler = StandardScaler()\n",
    "all['z_score_distance'] = scaler.fit_transform(all[['Distance']]) "
   ]
  },
  {
   "cell_type": "code",
   "execution_count": 29,
   "id": "465ec222",
   "metadata": {
    "ExecuteTime": {
     "end_time": "2022-06-03T13:27:22.485162Z",
     "start_time": "2022-06-03T13:27:22.471182Z"
    },
    "scrolled": false
   },
   "outputs": [],
   "source": [
    "all['log_distance'] = np.log(all['Distance'])"
   ]
  },
  {
   "cell_type": "code",
   "execution_count": 31,
   "id": "13a83509",
   "metadata": {
    "ExecuteTime": {
     "end_time": "2022-06-03T13:28:56.338932Z",
     "start_time": "2022-06-03T13:28:56.287887Z"
    }
   },
   "outputs": [
    {
     "data": {
      "text/html": [
       "<div>\n",
       "<style scoped>\n",
       "    .dataframe tbody tr th:only-of-type {\n",
       "        vertical-align: middle;\n",
       "    }\n",
       "\n",
       "    .dataframe tbody tr th {\n",
       "        vertical-align: top;\n",
       "    }\n",
       "\n",
       "    .dataframe thead th {\n",
       "        text-align: right;\n",
       "    }\n",
       "</style>\n",
       "<table border=\"1\" class=\"dataframe\">\n",
       "  <thead>\n",
       "    <tr style=\"text-align: right;\">\n",
       "      <th></th>\n",
       "      <th>VehicleID</th>\n",
       "      <th>Maker</th>\n",
       "      <th>Model</th>\n",
       "      <th>Year</th>\n",
       "      <th>Colour</th>\n",
       "      <th>Distance</th>\n",
       "      <th>Abuja</th>\n",
       "      <th>Ibadan</th>\n",
       "      <th>Lagos</th>\n",
       "      <th>Brand New</th>\n",
       "      <th>Foreign Used</th>\n",
       "      <th>Nigerian Used</th>\n",
       "      <th>z_score_distance</th>\n",
       "      <th>log_distance</th>\n",
       "    </tr>\n",
       "  </thead>\n",
       "  <tbody>\n",
       "    <tr>\n",
       "      <th>0</th>\n",
       "      <td>VHL12546</td>\n",
       "      <td>17</td>\n",
       "      <td>142</td>\n",
       "      <td>2011.0</td>\n",
       "      <td>18</td>\n",
       "      <td>80830.0</td>\n",
       "      <td>1</td>\n",
       "      <td>0</td>\n",
       "      <td>0</td>\n",
       "      <td>0</td>\n",
       "      <td>0</td>\n",
       "      <td>1</td>\n",
       "      <td>-0.135602</td>\n",
       "      <td>11.300103</td>\n",
       "    </tr>\n",
       "    <tr>\n",
       "      <th>1</th>\n",
       "      <td>VHL18827</td>\n",
       "      <td>19</td>\n",
       "      <td>1204</td>\n",
       "      <td>2012.0</td>\n",
       "      <td>18</td>\n",
       "      <td>125000.0</td>\n",
       "      <td>0</td>\n",
       "      <td>1</td>\n",
       "      <td>0</td>\n",
       "      <td>0</td>\n",
       "      <td>0</td>\n",
       "      <td>1</td>\n",
       "      <td>0.376490</td>\n",
       "      <td>11.736069</td>\n",
       "    </tr>\n",
       "    <tr>\n",
       "      <th>2</th>\n",
       "      <td>VHL19499</td>\n",
       "      <td>29</td>\n",
       "      <td>1040</td>\n",
       "      <td>2010.0</td>\n",
       "      <td>17</td>\n",
       "      <td>110852.0</td>\n",
       "      <td>0</td>\n",
       "      <td>0</td>\n",
       "      <td>1</td>\n",
       "      <td>0</td>\n",
       "      <td>1</td>\n",
       "      <td>0</td>\n",
       "      <td>0.212463</td>\n",
       "      <td>11.615951</td>\n",
       "    </tr>\n",
       "    <tr>\n",
       "      <th>3</th>\n",
       "      <td>VHL17991</td>\n",
       "      <td>34</td>\n",
       "      <td>590</td>\n",
       "      <td>2017.0</td>\n",
       "      <td>3</td>\n",
       "      <td>30000.0</td>\n",
       "      <td>1</td>\n",
       "      <td>0</td>\n",
       "      <td>0</td>\n",
       "      <td>0</td>\n",
       "      <td>1</td>\n",
       "      <td>0</td>\n",
       "      <td>-0.724908</td>\n",
       "      <td>10.308953</td>\n",
       "    </tr>\n",
       "    <tr>\n",
       "      <th>4</th>\n",
       "      <td>VHL12170</td>\n",
       "      <td>53</td>\n",
       "      <td>659</td>\n",
       "      <td>2002.0</td>\n",
       "      <td>17</td>\n",
       "      <td>125206.0</td>\n",
       "      <td>0</td>\n",
       "      <td>1</td>\n",
       "      <td>0</td>\n",
       "      <td>0</td>\n",
       "      <td>0</td>\n",
       "      <td>1</td>\n",
       "      <td>0.378878</td>\n",
       "      <td>11.737716</td>\n",
       "    </tr>\n",
       "  </tbody>\n",
       "</table>\n",
       "</div>"
      ],
      "text/plain": [
       "  VehicleID  Maker  Model    Year  Colour  Distance  Abuja  Ibadan  Lagos  \\\n",
       "0  VHL12546     17    142  2011.0      18   80830.0      1       0      0   \n",
       "1  VHL18827     19   1204  2012.0      18  125000.0      0       1      0   \n",
       "2  VHL19499     29   1040  2010.0      17  110852.0      0       0      1   \n",
       "3  VHL17991     34    590  2017.0       3   30000.0      1       0      0   \n",
       "4  VHL12170     53    659  2002.0      17  125206.0      0       1      0   \n",
       "\n",
       "   Brand New  Foreign Used  Nigerian Used  z_score_distance  log_distance  \n",
       "0          0             0              1         -0.135602     11.300103  \n",
       "1          0             0              1          0.376490     11.736069  \n",
       "2          0             1              0          0.212463     11.615951  \n",
       "3          0             1              0         -0.724908     10.308953  \n",
       "4          0             0              1          0.378878     11.737716  "
      ]
     },
     "execution_count": 31,
     "metadata": {},
     "output_type": "execute_result"
    }
   ],
   "source": [
    "all.head()"
   ]
  },
  {
   "cell_type": "code",
   "execution_count": 32,
   "id": "f24b8715",
   "metadata": {
    "ExecuteTime": {
     "end_time": "2022-06-03T13:28:58.830440Z",
     "start_time": "2022-06-03T13:28:58.820371Z"
    }
   },
   "outputs": [],
   "source": [
    "train, test  = all.iloc[:7025], all.iloc[7025:]"
   ]
  },
  {
   "cell_type": "code",
   "execution_count": 33,
   "id": "31f86622",
   "metadata": {
    "ExecuteTime": {
     "end_time": "2022-06-03T13:29:01.134908Z",
     "start_time": "2022-06-03T13:29:01.115890Z"
    }
   },
   "outputs": [
    {
     "name": "stderr",
     "output_type": "stream",
     "text": [
      "C:\\Users\\samuel\\AppData\\Local\\Temp/ipykernel_7864/3998621924.py:1: SettingWithCopyWarning: \n",
      "A value is trying to be set on a copy of a slice from a DataFrame.\n",
      "Try using .loc[row_indexer,col_indexer] = value instead\n",
      "\n",
      "See the caveats in the documentation: https://pandas.pydata.org/pandas-docs/stable/user_guide/indexing.html#returning-a-view-versus-a-copy\n",
      "  train['Amount (Million Naira)'] = y\n"
     ]
    }
   ],
   "source": [
    "train['Amount (Million Naira)'] = y"
   ]
  },
  {
   "cell_type": "code",
   "execution_count": 34,
   "id": "f61a9311",
   "metadata": {
    "ExecuteTime": {
     "end_time": "2022-06-03T13:29:06.552512Z",
     "start_time": "2022-06-03T13:29:06.506514Z"
    },
    "scrolled": true
   },
   "outputs": [
    {
     "name": "stderr",
     "output_type": "stream",
     "text": [
      "C:\\Users\\samuel\\AppData\\Local\\Temp/ipykernel_7864/1048719124.py:1: SettingWithCopyWarning: \n",
      "A value is trying to be set on a copy of a slice from a DataFrame.\n",
      "Try using .loc[row_indexer,col_indexer] = value instead\n",
      "\n",
      "See the caveats in the documentation: https://pandas.pydata.org/pandas-docs/stable/user_guide/indexing.html#returning-a-view-versus-a-copy\n",
      "  train['Amount (Million Naira)'] = train['Amount (Million Naira)'].astype(float)\n"
     ]
    },
    {
     "data": {
      "text/plain": [
       "Maker                    -0.052083\n",
       "Model                     0.085505\n",
       "Year                      0.449602\n",
       "Colour                   -0.039703\n",
       "Distance                 -0.139191\n",
       "Abuja                     0.102478\n",
       "Ibadan                   -0.090513\n",
       "Lagos                    -0.051154\n",
       "Brand New                 0.514529\n",
       "Foreign Used             -0.027793\n",
       "Nigerian Used            -0.170663\n",
       "z_score_distance         -0.139191\n",
       "log_distance             -0.278753\n",
       "Amount (Million Naira)    1.000000\n",
       "Name: Amount (Million Naira), dtype: float64"
      ]
     },
     "execution_count": 34,
     "metadata": {},
     "output_type": "execute_result"
    }
   ],
   "source": [
    "train['Amount (Million Naira)'] = train['Amount (Million Naira)'].astype(float)\n",
    "train.corr()['Amount (Million Naira)']"
   ]
  },
  {
   "cell_type": "code",
   "execution_count": 35,
   "id": "fdee7955",
   "metadata": {
    "ExecuteTime": {
     "end_time": "2022-06-03T13:29:21.115865Z",
     "start_time": "2022-06-03T13:29:21.063890Z"
    },
    "scrolled": true
   },
   "outputs": [
    {
     "data": {
      "text/html": [
       "<div>\n",
       "<style scoped>\n",
       "    .dataframe tbody tr th:only-of-type {\n",
       "        vertical-align: middle;\n",
       "    }\n",
       "\n",
       "    .dataframe tbody tr th {\n",
       "        vertical-align: top;\n",
       "    }\n",
       "\n",
       "    .dataframe thead th {\n",
       "        text-align: right;\n",
       "    }\n",
       "</style>\n",
       "<table border=\"1\" class=\"dataframe\">\n",
       "  <thead>\n",
       "    <tr style=\"text-align: right;\">\n",
       "      <th></th>\n",
       "      <th>VehicleID</th>\n",
       "      <th>Maker</th>\n",
       "      <th>Model</th>\n",
       "      <th>Year</th>\n",
       "      <th>Colour</th>\n",
       "      <th>Distance</th>\n",
       "      <th>Abuja</th>\n",
       "      <th>Ibadan</th>\n",
       "      <th>Lagos</th>\n",
       "      <th>Brand New</th>\n",
       "      <th>Foreign Used</th>\n",
       "      <th>Nigerian Used</th>\n",
       "      <th>z_score_distance</th>\n",
       "      <th>log_distance</th>\n",
       "      <th>Amount (Million Naira)</th>\n",
       "    </tr>\n",
       "  </thead>\n",
       "  <tbody>\n",
       "    <tr>\n",
       "      <th>0</th>\n",
       "      <td>VHL12546</td>\n",
       "      <td>17</td>\n",
       "      <td>142</td>\n",
       "      <td>2011.0</td>\n",
       "      <td>18</td>\n",
       "      <td>80830.0</td>\n",
       "      <td>1</td>\n",
       "      <td>0</td>\n",
       "      <td>0</td>\n",
       "      <td>0</td>\n",
       "      <td>0</td>\n",
       "      <td>1</td>\n",
       "      <td>-0.135602</td>\n",
       "      <td>11.300103</td>\n",
       "      <td>2.2</td>\n",
       "    </tr>\n",
       "    <tr>\n",
       "      <th>1</th>\n",
       "      <td>VHL18827</td>\n",
       "      <td>19</td>\n",
       "      <td>1204</td>\n",
       "      <td>2012.0</td>\n",
       "      <td>18</td>\n",
       "      <td>125000.0</td>\n",
       "      <td>0</td>\n",
       "      <td>1</td>\n",
       "      <td>0</td>\n",
       "      <td>0</td>\n",
       "      <td>0</td>\n",
       "      <td>1</td>\n",
       "      <td>0.376490</td>\n",
       "      <td>11.736069</td>\n",
       "      <td>3.5</td>\n",
       "    </tr>\n",
       "    <tr>\n",
       "      <th>2</th>\n",
       "      <td>VHL19499</td>\n",
       "      <td>29</td>\n",
       "      <td>1040</td>\n",
       "      <td>2010.0</td>\n",
       "      <td>17</td>\n",
       "      <td>110852.0</td>\n",
       "      <td>0</td>\n",
       "      <td>0</td>\n",
       "      <td>1</td>\n",
       "      <td>0</td>\n",
       "      <td>1</td>\n",
       "      <td>0</td>\n",
       "      <td>0.212463</td>\n",
       "      <td>11.615951</td>\n",
       "      <td>9.2</td>\n",
       "    </tr>\n",
       "    <tr>\n",
       "      <th>3</th>\n",
       "      <td>VHL17991</td>\n",
       "      <td>34</td>\n",
       "      <td>590</td>\n",
       "      <td>2017.0</td>\n",
       "      <td>3</td>\n",
       "      <td>30000.0</td>\n",
       "      <td>1</td>\n",
       "      <td>0</td>\n",
       "      <td>0</td>\n",
       "      <td>0</td>\n",
       "      <td>1</td>\n",
       "      <td>0</td>\n",
       "      <td>-0.724908</td>\n",
       "      <td>10.308953</td>\n",
       "      <td>22.8</td>\n",
       "    </tr>\n",
       "    <tr>\n",
       "      <th>4</th>\n",
       "      <td>VHL12170</td>\n",
       "      <td>53</td>\n",
       "      <td>659</td>\n",
       "      <td>2002.0</td>\n",
       "      <td>17</td>\n",
       "      <td>125206.0</td>\n",
       "      <td>0</td>\n",
       "      <td>1</td>\n",
       "      <td>0</td>\n",
       "      <td>0</td>\n",
       "      <td>0</td>\n",
       "      <td>1</td>\n",
       "      <td>0.378878</td>\n",
       "      <td>11.737716</td>\n",
       "      <td>2.6</td>\n",
       "    </tr>\n",
       "  </tbody>\n",
       "</table>\n",
       "</div>"
      ],
      "text/plain": [
       "  VehicleID  Maker  Model    Year  Colour  Distance  Abuja  Ibadan  Lagos  \\\n",
       "0  VHL12546     17    142  2011.0      18   80830.0      1       0      0   \n",
       "1  VHL18827     19   1204  2012.0      18  125000.0      0       1      0   \n",
       "2  VHL19499     29   1040  2010.0      17  110852.0      0       0      1   \n",
       "3  VHL17991     34    590  2017.0       3   30000.0      1       0      0   \n",
       "4  VHL12170     53    659  2002.0      17  125206.0      0       1      0   \n",
       "\n",
       "   Brand New  Foreign Used  Nigerian Used  z_score_distance  log_distance  \\\n",
       "0          0             0              1         -0.135602     11.300103   \n",
       "1          0             0              1          0.376490     11.736069   \n",
       "2          0             1              0          0.212463     11.615951   \n",
       "3          0             1              0         -0.724908     10.308953   \n",
       "4          0             0              1          0.378878     11.737716   \n",
       "\n",
       "   Amount (Million Naira)  \n",
       "0                     2.2  \n",
       "1                     3.5  \n",
       "2                     9.2  \n",
       "3                    22.8  \n",
       "4                     2.6  "
      ]
     },
     "execution_count": 35,
     "metadata": {},
     "output_type": "execute_result"
    }
   ],
   "source": [
    "train.head()"
   ]
  },
  {
   "cell_type": "code",
   "execution_count": 38,
   "id": "153a2d7c",
   "metadata": {
    "ExecuteTime": {
     "end_time": "2022-06-03T13:30:01.830103Z",
     "start_time": "2022-06-03T13:30:01.473388Z"
    },
    "scrolled": true
   },
   "outputs": [
    {
     "data": {
      "text/plain": [
       "<AxesSubplot:xlabel='z_score_distance'>"
      ]
     },
     "execution_count": 38,
     "metadata": {},
     "output_type": "execute_result"
    },
    {
     "data": {
      "image/png": "[encoded data removed]",
      "text/plain": [
       "<Figure size 432x288 with 1 Axes>"
      ]
     },
     "metadata": {
      "needs_background": "light"
     },
     "output_type": "display_data"
    }
   ],
   "source": [
    "sns.boxplot(data = train, x = 'z_score_distance')"
   ]
  },
  {
   "cell_type": "code",
   "execution_count": 40,
   "id": "b4a5a7a6",
   "metadata": {
    "ExecuteTime": {
     "end_time": "2022-06-03T13:30:11.015743Z",
     "start_time": "2022-06-03T13:30:10.679620Z"
    },
    "scrolled": false
   },
   "outputs": [
    {
     "data": {
      "text/plain": [
       "<AxesSubplot:xlabel='Amount (Million Naira)'>"
      ]
     },
     "execution_count": 40,
     "metadata": {},
     "output_type": "execute_result"
    },
    {
     "data": {
      "image/png": "[encoded data removed]",
      "text/plain": [
       "<Figure size 432x288 with 1 Axes>"
      ]
     },
     "metadata": {
      "needs_background": "light"
     },
     "output_type": "display_data"
    }
   ],
   "source": [
    "sns.boxplot(data = train, x = 'Amount (Million Naira)')"
   ]
  },
  {
   "cell_type": "markdown",
   "id": "7f014a94",
   "metadata": {},
   "source": [
    "TODO: Try standardizing the numeric columns in the  data and see whether the results will be better"
   ]
  },
  {
   "cell_type": "code",
   "execution_count": 41,
   "id": "3a177cc1",
   "metadata": {
    "ExecuteTime": {
     "end_time": "2022-06-03T13:30:39.297771Z",
     "start_time": "2022-06-03T13:30:39.280745Z"
    }
   },
   "outputs": [],
   "source": [
    "X = train.drop(columns  = ['Amount (Million Naira)', 'VehicleID'])\n",
    "y = train['Amount (Million Naira)']"
   ]
  },
  {
   "cell_type": "code",
   "execution_count": 42,
   "id": "90bdbd09",
   "metadata": {
    "ExecuteTime": {
     "end_time": "2022-06-03T13:30:39.875819Z",
     "start_time": "2022-06-03T13:30:39.858786Z"
    }
   },
   "outputs": [],
   "source": [
    "X_train, X_valid, y_train, y_valid = train_test_split(X,y,random_state = 0)"
   ]
  },
  {
   "cell_type": "code",
   "execution_count": 44,
   "id": "068ecfde",
   "metadata": {
    "ExecuteTime": {
     "end_time": "2022-06-03T13:32:48.487582Z",
     "start_time": "2022-06-03T13:32:13.955552Z"
    }
   },
   "outputs": [
    {
     "name": "stdout",
     "output_type": "stream",
     "text": [
      "Training With linreg model\n",
      "Root Mean Squared Error: 18.43785207486562\n",
      "Cross-Validation RMSE:\n",
      "\n",
      "-19.723084509934157\n",
      "\n",
      "\n",
      "\n",
      "Training With ridge model\n",
      "Root Mean Squared Error: 18.43698662620773\n",
      "Cross-Validation RMSE:\n",
      "\n",
      "-19.721806389809647\n",
      "\n",
      "\n",
      "\n",
      "Training With lasso model\n",
      "Root Mean Squared Error: 19.516878169311248\n",
      "Cross-Validation RMSE:\n",
      "\n",
      "-20.60176981727558\n",
      "\n",
      "\n",
      "\n",
      "Training With gbdt model\n",
      "Root Mean Squared Error: 16.47065040635168\n",
      "Cross-Validation RMSE:\n",
      "\n",
      "-12.76888044320629\n",
      "\n",
      "\n",
      "\n"
     ]
    }
   ],
   "source": [
    "from sklearn.metrics import mean_squared_error\n",
    "\n",
    "models_to_use = {\n",
    "    'linreg': LinearRegression(),\n",
    "    'ridge': Ridge(),\n",
    "    'lasso': Lasso(),\n",
    "    'gbdt': HistGradientBoostingRegressor(random_state =  0),\n",
    "}\n",
    "\n",
    "\n",
    "rmse = lambda x: mean_squared_error(y_valid, x, squared=False)\n",
    "\n",
    "for name, est in models_to_use.items():\n",
    "    print(f'Training With {name} model')\n",
    "    est.fit(X_train, y_train)\n",
    "    preds = est.predict(X_valid)\n",
    "    print('Root Mean Squared Error:', rmse(preds))\n",
    "    print('Cross-Validation RMSE:\\n')\n",
    "    cv_rmse = cross_val_score(est,X,y,cv=10,scoring='neg_root_mean_squared_error').mean()\n",
    "    print(cv_rmse)\n",
    "    \n",
    "    print('\\n\\n')"
   ]
  },
  {
   "cell_type": "code",
   "execution_count": 45,
   "id": "44cc6dc4",
   "metadata": {
    "ExecuteTime": {
     "end_time": "2022-06-03T13:32:48.521599Z",
     "start_time": "2022-06-03T13:32:48.498595Z"
    }
   },
   "outputs": [
    {
     "data": {
      "text/plain": [
       "dict_keys(['explained_variance', 'r2', 'max_error', 'neg_median_absolute_error', 'neg_mean_absolute_error', 'neg_mean_absolute_percentage_error', 'neg_mean_squared_error', 'neg_mean_squared_log_error', 'neg_root_mean_squared_error', 'neg_mean_poisson_deviance', 'neg_mean_gamma_deviance', 'accuracy', 'top_k_accuracy', 'roc_auc', 'roc_auc_ovr', 'roc_auc_ovo', 'roc_auc_ovr_weighted', 'roc_auc_ovo_weighted', 'balanced_accuracy', 'average_precision', 'neg_log_loss', 'neg_brier_score', 'adjusted_rand_score', 'rand_score', 'homogeneity_score', 'completeness_score', 'v_measure_score', 'mutual_info_score', 'adjusted_mutual_info_score', 'normalized_mutual_info_score', 'fowlkes_mallows_score', 'precision', 'precision_macro', 'precision_micro', 'precision_samples', 'precision_weighted', 'recall', 'recall_macro', 'recall_micro', 'recall_samples', 'recall_weighted', 'f1', 'f1_macro', 'f1_micro', 'f1_samples', 'f1_weighted', 'jaccard', 'jaccard_macro', 'jaccard_micro', 'jaccard_samples', 'jaccard_weighted'])"
      ]
     },
     "execution_count": 45,
     "metadata": {},
     "output_type": "execute_result"
    }
   ],
   "source": [
    "import sklearn\n",
    "sklearn.metrics.SCORERS.keys()"
   ]
  },
  {
   "cell_type": "code",
   "execution_count": 46,
   "id": "9e18ad68",
   "metadata": {
    "ExecuteTime": {
     "end_time": "2022-06-03T13:32:48.693596Z",
     "start_time": "2022-06-03T13:32:48.532591Z"
    }
   },
   "outputs": [
    {
     "data": {
      "text/html": [
       "<div>\n",
       "<style scoped>\n",
       "    .dataframe tbody tr th:only-of-type {\n",
       "        vertical-align: middle;\n",
       "    }\n",
       "\n",
       "    .dataframe tbody tr th {\n",
       "        vertical-align: top;\n",
       "    }\n",
       "\n",
       "    .dataframe thead th {\n",
       "        text-align: right;\n",
       "    }\n",
       "</style>\n",
       "<table border=\"1\" class=\"dataframe\">\n",
       "  <thead>\n",
       "    <tr style=\"text-align: right;\">\n",
       "      <th></th>\n",
       "      <th>VehicleID</th>\n",
       "      <th>Maker</th>\n",
       "      <th>Model</th>\n",
       "      <th>Year</th>\n",
       "      <th>Colour</th>\n",
       "      <th>Distance</th>\n",
       "      <th>Abuja</th>\n",
       "      <th>Ibadan</th>\n",
       "      <th>Lagos</th>\n",
       "      <th>Brand New</th>\n",
       "      <th>Foreign Used</th>\n",
       "      <th>Nigerian Used</th>\n",
       "      <th>z_score_distance</th>\n",
       "      <th>log_distance</th>\n",
       "    </tr>\n",
       "  </thead>\n",
       "  <tbody>\n",
       "    <tr>\n",
       "      <th>7025</th>\n",
       "      <td>VHL19126</td>\n",
       "      <td>3</td>\n",
       "      <td>29</td>\n",
       "      <td>2009.0</td>\n",
       "      <td>2</td>\n",
       "      <td>80830.0</td>\n",
       "      <td>1</td>\n",
       "      <td>0</td>\n",
       "      <td>0</td>\n",
       "      <td>0</td>\n",
       "      <td>1</td>\n",
       "      <td>0</td>\n",
       "      <td>-0.135602</td>\n",
       "      <td>11.300103</td>\n",
       "    </tr>\n",
       "    <tr>\n",
       "      <th>7026</th>\n",
       "      <td>VHL18335</td>\n",
       "      <td>53</td>\n",
       "      <td>317</td>\n",
       "      <td>2008.0</td>\n",
       "      <td>18</td>\n",
       "      <td>78405.0</td>\n",
       "      <td>0</td>\n",
       "      <td>0</td>\n",
       "      <td>1</td>\n",
       "      <td>0</td>\n",
       "      <td>1</td>\n",
       "      <td>0</td>\n",
       "      <td>-0.163717</td>\n",
       "      <td>11.269643</td>\n",
       "    </tr>\n",
       "    <tr>\n",
       "      <th>7027</th>\n",
       "      <td>VHL14220</td>\n",
       "      <td>53</td>\n",
       "      <td>1176</td>\n",
       "      <td>2011.0</td>\n",
       "      <td>9</td>\n",
       "      <td>96200.0</td>\n",
       "      <td>0</td>\n",
       "      <td>0</td>\n",
       "      <td>1</td>\n",
       "      <td>0</td>\n",
       "      <td>1</td>\n",
       "      <td>0</td>\n",
       "      <td>0.042592</td>\n",
       "      <td>11.474185</td>\n",
       "    </tr>\n",
       "    <tr>\n",
       "      <th>7028</th>\n",
       "      <td>VHL14467</td>\n",
       "      <td>34</td>\n",
       "      <td>590</td>\n",
       "      <td>2017.0</td>\n",
       "      <td>9</td>\n",
       "      <td>80830.0</td>\n",
       "      <td>0</td>\n",
       "      <td>0</td>\n",
       "      <td>1</td>\n",
       "      <td>0</td>\n",
       "      <td>1</td>\n",
       "      <td>0</td>\n",
       "      <td>-0.135602</td>\n",
       "      <td>11.300103</td>\n",
       "    </tr>\n",
       "    <tr>\n",
       "      <th>7029</th>\n",
       "      <td>VHL10722</td>\n",
       "      <td>29</td>\n",
       "      <td>1044</td>\n",
       "      <td>2008.0</td>\n",
       "      <td>3</td>\n",
       "      <td>65000.0</td>\n",
       "      <td>1</td>\n",
       "      <td>0</td>\n",
       "      <td>0</td>\n",
       "      <td>0</td>\n",
       "      <td>1</td>\n",
       "      <td>0</td>\n",
       "      <td>-0.319130</td>\n",
       "      <td>11.082143</td>\n",
       "    </tr>\n",
       "  </tbody>\n",
       "</table>\n",
       "</div>"
      ],
      "text/plain": [
       "     VehicleID  Maker  Model    Year  Colour  Distance  Abuja  Ibadan  Lagos  \\\n",
       "7025  VHL19126      3     29  2009.0       2   80830.0      1       0      0   \n",
       "7026  VHL18335     53    317  2008.0      18   78405.0      0       0      1   \n",
       "7027  VHL14220     53   1176  2011.0       9   96200.0      0       0      1   \n",
       "7028  VHL14467     34    590  2017.0       9   80830.0      0       0      1   \n",
       "7029  VHL10722     29   1044  2008.0       3   65000.0      1       0      0   \n",
       "\n",
       "      Brand New  Foreign Used  Nigerian Used  z_score_distance  log_distance  \n",
       "7025          0             1              0         -0.135602     11.300103  \n",
       "7026          0             1              0         -0.163717     11.269643  \n",
       "7027          0             1              0          0.042592     11.474185  \n",
       "7028          0             1              0         -0.135602     11.300103  \n",
       "7029          0             1              0         -0.319130     11.082143  "
      ]
     },
     "execution_count": 46,
     "metadata": {},
     "output_type": "execute_result"
    }
   ],
   "source": [
    "test.head()"
   ]
  },
  {
   "cell_type": "code",
   "execution_count": 48,
   "id": "3ed25017",
   "metadata": {
    "ExecuteTime": {
     "end_time": "2022-06-03T13:36:30.273919Z",
     "start_time": "2022-06-03T13:36:27.076719Z"
    }
   },
   "outputs": [
    {
     "data": {
      "text/plain": [
       "16.47065040635168"
      ]
     },
     "execution_count": 48,
     "metadata": {},
     "output_type": "execute_result"
    }
   ],
   "source": [
    "gbdt = HistGradientBoostingRegressor(random_state=0)\n",
    "gbdt.fit(X_train, y_train)\n",
    "gbdt_preds = gbdt.predict(X_valid)\n",
    "rmse(gbdt_preds)"
   ]
  },
  {
   "cell_type": "code",
   "execution_count": null,
   "id": "ff0229c0",
   "metadata": {},
   "outputs": [],
   "source": [
    "gb_grid = {\n",
    "    'n_estimators': np.arange(80,200,20),\n",
    "    'max_depth': [None, 2,4,6,8],\n",
    "}\n",
    "grid = Grid"
   ]
  }
 ],
 "metadata": {
  "kernelspec": {
   "display_name": "Python 3.9.6 64-bit",
   "language": "python",
   "name": "python396jvsc74a57bd0342aa5655132cbf71a715f798c1954c8e10fd62576e079eb1568ff3b5ac83c42"
  },
  "language_info": {
   "codemirror_mode": {
    "name": "ipython",
    "version": 3
   },
   "file_extension": ".py",
   "mimetype": "text/x-python",
   "name": "python",
   "nbconvert_exporter": "python",
   "pygments_lexer": "ipython3",
   "version": "3.9.6"
  }
 },
 "nbformat": 4,
 "nbformat_minor": 5
}

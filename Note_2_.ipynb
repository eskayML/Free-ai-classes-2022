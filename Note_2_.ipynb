{
 "cells": [
  {
   "cell_type": "code",
   "execution_count": 1,
   "id": "f1cdc985",
   "metadata": {
    "ExecuteTime": {
     "end_time": "2022-06-05T10:26:59.270704Z",
     "start_time": "2022-06-05T10:26:57.108254Z"
    }
   },
   "outputs": [],
   "source": [
    "import numpy as np,pandas as pd,matplotlib.pyplot as plt,seaborn as sns\n",
    "train,test = pd.read_csv('Train.csv'),pd.read_csv('Test.csv')\n",
    "sample_sub  = pd.read_csv('SampleSubmission.csv')"
   ]
  },
  {
   "cell_type": "code",
   "execution_count": 2,
   "id": "4f29448c",
   "metadata": {
    "ExecuteTime": {
     "end_time": "2022-06-05T10:26:59.304718Z",
     "start_time": "2022-06-05T10:26:59.272715Z"
    },
    "scrolled": true
   },
   "outputs": [
    {
     "data": {
      "text/html": [
       "<div>\n",
       "<style scoped>\n",
       "    .dataframe tbody tr th:only-of-type {\n",
       "        vertical-align: middle;\n",
       "    }\n",
       "\n",
       "    .dataframe tbody tr th {\n",
       "        vertical-align: top;\n",
       "    }\n",
       "\n",
       "    .dataframe thead th {\n",
       "        text-align: right;\n",
       "    }\n",
       "</style>\n",
       "<table border=\"1\" class=\"dataframe\">\n",
       "  <thead>\n",
       "    <tr style=\"text-align: right;\">\n",
       "      <th></th>\n",
       "      <th>VehicleID</th>\n",
       "      <th>Location</th>\n",
       "      <th>Maker</th>\n",
       "      <th>Model</th>\n",
       "      <th>Year</th>\n",
       "      <th>Colour</th>\n",
       "      <th>Amount (Million Naira)</th>\n",
       "      <th>Type</th>\n",
       "      <th>Distance</th>\n",
       "    </tr>\n",
       "  </thead>\n",
       "  <tbody>\n",
       "    <tr>\n",
       "      <th>0</th>\n",
       "      <td>VHL12546</td>\n",
       "      <td>Abuja</td>\n",
       "      <td>Honda</td>\n",
       "      <td>Accord Coupe EX V-6</td>\n",
       "      <td>2,011</td>\n",
       "      <td>Silver</td>\n",
       "      <td>2.2</td>\n",
       "      <td>Nigerian Used</td>\n",
       "      <td>NaN</td>\n",
       "    </tr>\n",
       "    <tr>\n",
       "      <th>1</th>\n",
       "      <td>VHL18827</td>\n",
       "      <td>Ibadan</td>\n",
       "      <td>Hyundai</td>\n",
       "      <td>Sonata</td>\n",
       "      <td>2,012</td>\n",
       "      <td>Silver</td>\n",
       "      <td>3.5</td>\n",
       "      <td>Nigerian Used</td>\n",
       "      <td>125,000</td>\n",
       "    </tr>\n",
       "    <tr>\n",
       "      <th>2</th>\n",
       "      <td>VHL19499</td>\n",
       "      <td>Lagos</td>\n",
       "      <td>Lexus</td>\n",
       "      <td>RX 350</td>\n",
       "      <td>2,010</td>\n",
       "      <td>Red</td>\n",
       "      <td>9.2</td>\n",
       "      <td>Foreign Used</td>\n",
       "      <td>110,852</td>\n",
       "    </tr>\n",
       "    <tr>\n",
       "      <th>3</th>\n",
       "      <td>VHL17991</td>\n",
       "      <td>Abuja</td>\n",
       "      <td>Mercedes-Benz</td>\n",
       "      <td>GLE-Class</td>\n",
       "      <td>2,017</td>\n",
       "      <td>Blue</td>\n",
       "      <td>22.8</td>\n",
       "      <td>Foreign Used</td>\n",
       "      <td>30,000</td>\n",
       "    </tr>\n",
       "    <tr>\n",
       "      <th>4</th>\n",
       "      <td>VHL12170</td>\n",
       "      <td>Ibadan</td>\n",
       "      <td>Toyota</td>\n",
       "      <td>Highlander</td>\n",
       "      <td>2,002</td>\n",
       "      <td>Red</td>\n",
       "      <td>2.6</td>\n",
       "      <td>Nigerian Used</td>\n",
       "      <td>125,206</td>\n",
       "    </tr>\n",
       "  </tbody>\n",
       "</table>\n",
       "</div>"
      ],
      "text/plain": [
       "  VehicleID Location          Maker                Model   Year  Colour  \\\n",
       "0  VHL12546    Abuja          Honda  Accord Coupe EX V-6  2,011  Silver   \n",
       "1  VHL18827   Ibadan        Hyundai               Sonata  2,012  Silver   \n",
       "2  VHL19499    Lagos          Lexus               RX 350  2,010     Red   \n",
       "3  VHL17991    Abuja  Mercedes-Benz            GLE-Class  2,017    Blue   \n",
       "4  VHL12170   Ibadan         Toyota           Highlander  2,002     Red   \n",
       "\n",
       "   Amount (Million Naira)           Type Distance  \n",
       "0                     2.2  Nigerian Used      NaN  \n",
       "1                     3.5  Nigerian Used  125,000  \n",
       "2                     9.2   Foreign Used  110,852  \n",
       "3                    22.8   Foreign Used   30,000  \n",
       "4                     2.6  Nigerian Used  125,206  "
      ]
     },
     "execution_count": 2,
     "metadata": {},
     "output_type": "execute_result"
    }
   ],
   "source": [
    "train.head()"
   ]
  },
  {
   "cell_type": "code",
   "execution_count": 3,
   "id": "92b09d81",
   "metadata": {
    "ExecuteTime": {
     "end_time": "2022-06-05T10:26:59.478715Z",
     "start_time": "2022-06-05T10:26:59.309716Z"
    }
   },
   "outputs": [
    {
     "data": {
      "text/plain": [
       "((7205, 9), (2061, 8))"
      ]
     },
     "execution_count": 3,
     "metadata": {},
     "output_type": "execute_result"
    }
   ],
   "source": [
    "train.shape,test.shape"
   ]
  },
  {
   "cell_type": "code",
   "execution_count": 4,
   "id": "59c0bf4b",
   "metadata": {
    "ExecuteTime": {
     "end_time": "2022-06-05T10:26:59.587455Z",
     "start_time": "2022-06-05T10:26:59.482719Z"
    }
   },
   "outputs": [],
   "source": [
    "train['Amount (Million Naira)'].fillna(train['Amount (Million Naira)'].median() , inplace = True)\n",
    "\n",
    "y = train.pop('Amount (Million Naira)')"
   ]
  },
  {
   "cell_type": "code",
   "execution_count": 5,
   "id": "b5207be1",
   "metadata": {
    "ExecuteTime": {
     "end_time": "2022-06-05T10:26:59.725367Z",
     "start_time": "2022-06-05T10:26:59.590437Z"
    }
   },
   "outputs": [],
   "source": [
    "all = pd.concat([train,test], ignore_index = True)\n",
    "\n",
    "all.Year = all.Year.str.replace(',','')\n",
    "all.Year = all.Year.astype(float)\n",
    "all.Distance  = all.Distance.str.replace(',','')\n",
    "all.Distance = all.Distance.astype(float)\n"
   ]
  },
  {
   "cell_type": "code",
   "execution_count": 6,
   "id": "47f5fdd3",
   "metadata": {
    "ExecuteTime": {
     "end_time": "2022-06-05T10:26:59.836025Z",
     "start_time": "2022-06-05T10:26:59.728318Z"
    }
   },
   "outputs": [],
   "source": [
    "all.Type.fillna('Foreign Used', inplace=True)"
   ]
  },
  {
   "cell_type": "code",
   "execution_count": 7,
   "id": "d57277fe",
   "metadata": {
    "ExecuteTime": {
     "end_time": "2022-06-05T10:26:59.966651Z",
     "start_time": "2022-06-05T10:26:59.838990Z"
    }
   },
   "outputs": [],
   "source": [
    "all.Year.fillna(2011.0, inplace = True)\n",
    "all.Year = all.Year.apply(int)"
   ]
  },
  {
   "cell_type": "code",
   "execution_count": 8,
   "id": "02dacef0",
   "metadata": {
    "ExecuteTime": {
     "end_time": "2022-06-05T10:27:00.171465Z",
     "start_time": "2022-06-05T10:26:59.968649Z"
    }
   },
   "outputs": [
    {
     "data": {
      "text/plain": [
       "pandas.core.frame.DataFrame"
      ]
     },
     "execution_count": 8,
     "metadata": {},
     "output_type": "execute_result"
    }
   ],
   "source": [
    "group = pd.DataFrame(all.groupby('Year')['Distance'].mean())\n",
    "type(group)"
   ]
  },
  {
   "cell_type": "code",
   "execution_count": 9,
   "id": "d9edfc15",
   "metadata": {
    "ExecuteTime": {
     "end_time": "2022-06-05T10:27:00.319304Z",
     "start_time": "2022-06-05T10:27:00.177475Z"
    }
   },
   "outputs": [
    {
     "data": {
      "text/html": [
       "<div>\n",
       "<style scoped>\n",
       "    .dataframe tbody tr th:only-of-type {\n",
       "        vertical-align: middle;\n",
       "    }\n",
       "\n",
       "    .dataframe tbody tr th {\n",
       "        vertical-align: top;\n",
       "    }\n",
       "\n",
       "    .dataframe thead th {\n",
       "        text-align: right;\n",
       "    }\n",
       "</style>\n",
       "<table border=\"1\" class=\"dataframe\">\n",
       "  <thead>\n",
       "    <tr style=\"text-align: right;\">\n",
       "      <th></th>\n",
       "      <th>Year</th>\n",
       "      <th>Distance</th>\n",
       "    </tr>\n",
       "  </thead>\n",
       "  <tbody>\n",
       "    <tr>\n",
       "      <th>0</th>\n",
       "      <td>1979</td>\n",
       "      <td>NaN</td>\n",
       "    </tr>\n",
       "    <tr>\n",
       "      <th>1</th>\n",
       "      <td>1982</td>\n",
       "      <td>NaN</td>\n",
       "    </tr>\n",
       "    <tr>\n",
       "      <th>2</th>\n",
       "      <td>1986</td>\n",
       "      <td>100000.0</td>\n",
       "    </tr>\n",
       "    <tr>\n",
       "      <th>3</th>\n",
       "      <td>1989</td>\n",
       "      <td>NaN</td>\n",
       "    </tr>\n",
       "    <tr>\n",
       "      <th>4</th>\n",
       "      <td>1991</td>\n",
       "      <td>NaN</td>\n",
       "    </tr>\n",
       "  </tbody>\n",
       "</table>\n",
       "</div>"
      ],
      "text/plain": [
       "   Year  Distance\n",
       "0  1979       NaN\n",
       "1  1982       NaN\n",
       "2  1986  100000.0\n",
       "3  1989       NaN\n",
       "4  1991       NaN"
      ]
     },
     "execution_count": 9,
     "metadata": {},
     "output_type": "execute_result"
    }
   ],
   "source": [
    "group = group.reset_index(level = 0)\n",
    "group.head()"
   ]
  },
  {
   "cell_type": "code",
   "execution_count": 10,
   "id": "6b9c2b7a",
   "metadata": {
    "ExecuteTime": {
     "end_time": "2022-06-05T10:27:00.449286Z",
     "start_time": "2022-06-05T10:27:00.321284Z"
    },
    "scrolled": true
   },
   "outputs": [
    {
     "name": "stdout",
     "output_type": "stream",
     "text": [
      "[1979, 1982, 1986, 1989, 1991, 1992, 1993, 1995, 1996, 1997, 1998, 1999, 2000, 2001, 2002, 2003, 2004, 2005, 2006, 2007]\n",
      "[nan, nan, 100000.0, nan, nan, 175050.0, 110874.0, 253829.0, 234412.0, 164406.0, 196237.6, 210594.73333333334, 164894.33333333334, 211205.16326530612, 163510.14285714287, 180236.37209302327, 183420.56953642383, 159236.51184834124, 144341.046692607, 143493.8402366864]\n"
     ]
    }
   ],
   "source": [
    "year  = list(group.Year)\n",
    "distance = list(group.Distance)\n",
    "print(year[:20])\n",
    "print(distance[:20])"
   ]
  },
  {
   "cell_type": "code",
   "execution_count": 11,
   "id": "624a6d2b",
   "metadata": {
    "ExecuteTime": {
     "end_time": "2022-06-05T10:27:00.553310Z",
     "start_time": "2022-06-05T10:27:00.452281Z"
    }
   },
   "outputs": [],
   "source": [
    "def fill_distance(cols):\n",
    "    yea = cols[0]\n",
    "    dist = cols[1]\n",
    "    if pd.isnull(dist):\n",
    "        if yea in year:\n",
    "            return distance[year.index(yea)]\n",
    "    else:\n",
    "        return dist\n",
    "    \n"
   ]
  },
  {
   "cell_type": "code",
   "execution_count": 12,
   "id": "bdc68684",
   "metadata": {
    "ExecuteTime": {
     "end_time": "2022-06-05T10:27:00.967310Z",
     "start_time": "2022-06-05T10:27:00.555284Z"
    }
   },
   "outputs": [],
   "source": [
    "all['Distance'] = all[['Year', 'Distance']].apply(fill_distance, axis  = 1)"
   ]
  },
  {
   "cell_type": "code",
   "execution_count": 13,
   "id": "f9214e04",
   "metadata": {
    "ExecuteTime": {
     "end_time": "2022-06-05T10:27:00.987285Z",
     "start_time": "2022-06-05T10:27:00.969308Z"
    },
    "scrolled": true
   },
   "outputs": [
    {
     "data": {
      "text/plain": [
       "VehicleID    0\n",
       "Location     0\n",
       "Maker        0\n",
       "Model        0\n",
       "Year         0\n",
       "Colour       0\n",
       "Type         0\n",
       "Distance     4\n",
       "dtype: int64"
      ]
     },
     "execution_count": 13,
     "metadata": {},
     "output_type": "execute_result"
    }
   ],
   "source": [
    "all.isna().sum()"
   ]
  },
  {
   "cell_type": "code",
   "execution_count": 14,
   "id": "d1682130",
   "metadata": {
    "ExecuteTime": {
     "end_time": "2022-06-05T10:27:01.118339Z",
     "start_time": "2022-06-05T10:27:00.989287Z"
    }
   },
   "outputs": [],
   "source": [
    "all.Distance.fillna(all.Distance.mean(), inplace=True)"
   ]
  },
  {
   "cell_type": "code",
   "execution_count": 15,
   "id": "ebfbeeec",
   "metadata": {
    "ExecuteTime": {
     "end_time": "2022-06-05T10:27:01.280285Z",
     "start_time": "2022-06-05T10:27:01.121285Z"
    }
   },
   "outputs": [
    {
     "data": {
      "text/html": [
       "<div>\n",
       "<style scoped>\n",
       "    .dataframe tbody tr th:only-of-type {\n",
       "        vertical-align: middle;\n",
       "    }\n",
       "\n",
       "    .dataframe tbody tr th {\n",
       "        vertical-align: top;\n",
       "    }\n",
       "\n",
       "    .dataframe thead th {\n",
       "        text-align: right;\n",
       "    }\n",
       "</style>\n",
       "<table border=\"1\" class=\"dataframe\">\n",
       "  <thead>\n",
       "    <tr style=\"text-align: right;\">\n",
       "      <th></th>\n",
       "      <th>VehicleID</th>\n",
       "      <th>Location</th>\n",
       "      <th>Maker</th>\n",
       "      <th>Model</th>\n",
       "      <th>Year</th>\n",
       "      <th>Colour</th>\n",
       "      <th>Type</th>\n",
       "      <th>Distance</th>\n",
       "    </tr>\n",
       "  </thead>\n",
       "  <tbody>\n",
       "    <tr>\n",
       "      <th>0</th>\n",
       "      <td>VHL12546</td>\n",
       "      <td>Abuja</td>\n",
       "      <td>Honda</td>\n",
       "      <td>Accord Coupe EX V-6</td>\n",
       "      <td>2011</td>\n",
       "      <td>Silver</td>\n",
       "      <td>Nigerian Used</td>\n",
       "      <td>94903.339506</td>\n",
       "    </tr>\n",
       "    <tr>\n",
       "      <th>1</th>\n",
       "      <td>VHL18827</td>\n",
       "      <td>Ibadan</td>\n",
       "      <td>Hyundai</td>\n",
       "      <td>Sonata</td>\n",
       "      <td>2012</td>\n",
       "      <td>Silver</td>\n",
       "      <td>Nigerian Used</td>\n",
       "      <td>125000.000000</td>\n",
       "    </tr>\n",
       "    <tr>\n",
       "      <th>2</th>\n",
       "      <td>VHL19499</td>\n",
       "      <td>Lagos</td>\n",
       "      <td>Lexus</td>\n",
       "      <td>RX 350</td>\n",
       "      <td>2010</td>\n",
       "      <td>Red</td>\n",
       "      <td>Foreign Used</td>\n",
       "      <td>110852.000000</td>\n",
       "    </tr>\n",
       "    <tr>\n",
       "      <th>3</th>\n",
       "      <td>VHL17991</td>\n",
       "      <td>Abuja</td>\n",
       "      <td>Mercedes-Benz</td>\n",
       "      <td>GLE-Class</td>\n",
       "      <td>2017</td>\n",
       "      <td>Blue</td>\n",
       "      <td>Foreign Used</td>\n",
       "      <td>30000.000000</td>\n",
       "    </tr>\n",
       "    <tr>\n",
       "      <th>4</th>\n",
       "      <td>VHL12170</td>\n",
       "      <td>Ibadan</td>\n",
       "      <td>Toyota</td>\n",
       "      <td>Highlander</td>\n",
       "      <td>2002</td>\n",
       "      <td>Red</td>\n",
       "      <td>Nigerian Used</td>\n",
       "      <td>125206.000000</td>\n",
       "    </tr>\n",
       "  </tbody>\n",
       "</table>\n",
       "</div>"
      ],
      "text/plain": [
       "  VehicleID Location          Maker                Model  Year  Colour  \\\n",
       "0  VHL12546    Abuja          Honda  Accord Coupe EX V-6  2011  Silver   \n",
       "1  VHL18827   Ibadan        Hyundai               Sonata  2012  Silver   \n",
       "2  VHL19499    Lagos          Lexus               RX 350  2010     Red   \n",
       "3  VHL17991    Abuja  Mercedes-Benz            GLE-Class  2017    Blue   \n",
       "4  VHL12170   Ibadan         Toyota           Highlander  2002     Red   \n",
       "\n",
       "            Type       Distance  \n",
       "0  Nigerian Used   94903.339506  \n",
       "1  Nigerian Used  125000.000000  \n",
       "2   Foreign Used  110852.000000  \n",
       "3   Foreign Used   30000.000000  \n",
       "4  Nigerian Used  125206.000000  "
      ]
     },
     "execution_count": 15,
     "metadata": {},
     "output_type": "execute_result"
    }
   ],
   "source": [
    "all.head()"
   ]
  },
  {
   "cell_type": "code",
   "execution_count": 16,
   "id": "71ee349b",
   "metadata": {
    "ExecuteTime": {
     "end_time": "2022-06-05T10:27:01.433398Z",
     "start_time": "2022-06-05T10:27:01.284290Z"
    }
   },
   "outputs": [
    {
     "data": {
      "text/plain": [
       "VehicleID    0\n",
       "Location     0\n",
       "Maker        0\n",
       "Model        0\n",
       "Year         0\n",
       "Colour       0\n",
       "Type         0\n",
       "Distance     0\n",
       "dtype: int64"
      ]
     },
     "execution_count": 16,
     "metadata": {},
     "output_type": "execute_result"
    }
   ],
   "source": [
    "all.isna().sum()"
   ]
  },
  {
   "cell_type": "code",
   "execution_count": null,
   "id": "aa86e08e",
   "metadata": {},
   "outputs": [],
   "source": []
  },
  {
   "cell_type": "code",
   "execution_count": 17,
   "id": "5226aeff",
   "metadata": {
    "ExecuteTime": {
     "end_time": "2022-06-05T10:27:01.953781Z",
     "start_time": "2022-06-05T10:27:01.436287Z"
    }
   },
   "outputs": [],
   "source": [
    "from sklearn.model_selection import train_test_split,cross_val_score,GridSearchCV\n",
    "from sklearn.linear_model import LinearRegression, Ridge, Lasso\n",
    "from sklearn.ensemble import HistGradientBoostingRegressor, RandomForestRegressor,AdaBoostRegressor,GradientBoostingRegressor\n"
   ]
  },
  {
   "cell_type": "code",
   "execution_count": 18,
   "id": "05fa9630",
   "metadata": {
    "ExecuteTime": {
     "end_time": "2022-06-05T10:27:01.967697Z",
     "start_time": "2022-06-05T10:27:01.953781Z"
    }
   },
   "outputs": [],
   "source": [
    "cat_cols = train.select_dtypes(include = 'object').columns\n",
    "num_cols = train.select_dtypes(exclude = 'object').columns"
   ]
  },
  {
   "cell_type": "code",
   "execution_count": 19,
   "id": "8977babc",
   "metadata": {
    "ExecuteTime": {
     "end_time": "2022-06-05T10:27:02.062757Z",
     "start_time": "2022-06-05T10:27:01.971734Z"
    }
   },
   "outputs": [],
   "source": [
    "from sklearn.preprocessing import LabelEncoder,OneHotEncoder , StandardScaler\n",
    "from scipy import stats\n",
    "from sklearn.preprocessing import power_transform\n",
    "\n",
    "\n",
    "lb_Model  = LabelEncoder()\n",
    "all.Model = lb_Model.fit_transform(all.Model)\n",
    "\n",
    "lb_Colour = LabelEncoder()\n",
    "all.Colour = lb_Colour.fit_transform(all.Colour)\n",
    "\n",
    "lb_Maker = LabelEncoder()\n",
    "all.Maker = lb_Maker.fit_transform(all.Maker)\n"
   ]
  },
  {
   "cell_type": "code",
   "execution_count": 20,
   "id": "006b1903",
   "metadata": {
    "ExecuteTime": {
     "end_time": "2022-06-05T10:27:02.257690Z",
     "start_time": "2022-06-05T10:27:02.065743Z"
    },
    "scrolled": true
   },
   "outputs": [
    {
     "data": {
      "text/html": [
       "<div>\n",
       "<style scoped>\n",
       "    .dataframe tbody tr th:only-of-type {\n",
       "        vertical-align: middle;\n",
       "    }\n",
       "\n",
       "    .dataframe tbody tr th {\n",
       "        vertical-align: top;\n",
       "    }\n",
       "\n",
       "    .dataframe thead th {\n",
       "        text-align: right;\n",
       "    }\n",
       "</style>\n",
       "<table border=\"1\" class=\"dataframe\">\n",
       "  <thead>\n",
       "    <tr style=\"text-align: right;\">\n",
       "      <th></th>\n",
       "      <th>VehicleID</th>\n",
       "      <th>Location</th>\n",
       "      <th>Maker</th>\n",
       "      <th>Model</th>\n",
       "      <th>Year</th>\n",
       "      <th>Colour</th>\n",
       "      <th>Type</th>\n",
       "      <th>Distance</th>\n",
       "    </tr>\n",
       "  </thead>\n",
       "  <tbody>\n",
       "    <tr>\n",
       "      <th>0</th>\n",
       "      <td>VHL12546</td>\n",
       "      <td>Abuja</td>\n",
       "      <td>17</td>\n",
       "      <td>142</td>\n",
       "      <td>2011</td>\n",
       "      <td>18</td>\n",
       "      <td>Nigerian Used</td>\n",
       "      <td>94903.339506</td>\n",
       "    </tr>\n",
       "    <tr>\n",
       "      <th>1</th>\n",
       "      <td>VHL18827</td>\n",
       "      <td>Ibadan</td>\n",
       "      <td>19</td>\n",
       "      <td>1204</td>\n",
       "      <td>2012</td>\n",
       "      <td>18</td>\n",
       "      <td>Nigerian Used</td>\n",
       "      <td>125000.000000</td>\n",
       "    </tr>\n",
       "    <tr>\n",
       "      <th>2</th>\n",
       "      <td>VHL19499</td>\n",
       "      <td>Lagos</td>\n",
       "      <td>29</td>\n",
       "      <td>1040</td>\n",
       "      <td>2010</td>\n",
       "      <td>17</td>\n",
       "      <td>Foreign Used</td>\n",
       "      <td>110852.000000</td>\n",
       "    </tr>\n",
       "    <tr>\n",
       "      <th>3</th>\n",
       "      <td>VHL17991</td>\n",
       "      <td>Abuja</td>\n",
       "      <td>34</td>\n",
       "      <td>590</td>\n",
       "      <td>2017</td>\n",
       "      <td>3</td>\n",
       "      <td>Foreign Used</td>\n",
       "      <td>30000.000000</td>\n",
       "    </tr>\n",
       "    <tr>\n",
       "      <th>4</th>\n",
       "      <td>VHL12170</td>\n",
       "      <td>Ibadan</td>\n",
       "      <td>53</td>\n",
       "      <td>659</td>\n",
       "      <td>2002</td>\n",
       "      <td>17</td>\n",
       "      <td>Nigerian Used</td>\n",
       "      <td>125206.000000</td>\n",
       "    </tr>\n",
       "  </tbody>\n",
       "</table>\n",
       "</div>"
      ],
      "text/plain": [
       "  VehicleID Location  Maker  Model  Year  Colour           Type       Distance\n",
       "0  VHL12546    Abuja     17    142  2011      18  Nigerian Used   94903.339506\n",
       "1  VHL18827   Ibadan     19   1204  2012      18  Nigerian Used  125000.000000\n",
       "2  VHL19499    Lagos     29   1040  2010      17   Foreign Used  110852.000000\n",
       "3  VHL17991    Abuja     34    590  2017       3   Foreign Used   30000.000000\n",
       "4  VHL12170   Ibadan     53    659  2002      17  Nigerian Used  125206.000000"
      ]
     },
     "execution_count": 20,
     "metadata": {},
     "output_type": "execute_result"
    }
   ],
   "source": [
    "all.head()"
   ]
  },
  {
   "cell_type": "code",
   "execution_count": 21,
   "id": "4bac1162",
   "metadata": {
    "ExecuteTime": {
     "end_time": "2022-06-05T10:27:02.461720Z",
     "start_time": "2022-06-05T10:27:02.260693Z"
    }
   },
   "outputs": [],
   "source": [
    "all = pd.get_dummies(all, columns = ['Location', 'Type'], prefix = '' , prefix_sep = '')"
   ]
  },
  {
   "cell_type": "code",
   "execution_count": 22,
   "id": "211e2158",
   "metadata": {
    "ExecuteTime": {
     "end_time": "2022-06-05T10:27:02.571929Z",
     "start_time": "2022-06-05T10:27:02.463690Z"
    },
    "scrolled": true
   },
   "outputs": [
    {
     "data": {
      "text/plain": [
       "35"
      ]
     },
     "execution_count": 22,
     "metadata": {},
     "output_type": "execute_result"
    }
   ],
   "source": [
    "all.Year.nunique()"
   ]
  },
  {
   "cell_type": "code",
   "execution_count": 24,
   "id": "465ec222",
   "metadata": {
    "ExecuteTime": {
     "end_time": "2022-06-05T10:27:15.622001Z",
     "start_time": "2022-06-05T10:27:15.511755Z"
    },
    "scrolled": false
   },
   "outputs": [],
   "source": [
    "\n",
    "scaler = StandardScaler()\n",
    "all['Scaled_Distance'] = scaler.fit_transform(all[['Distance']])\n",
    "all['Log_Distance'] = np.log(all['Distance'])\n",
    "all['box_cos_distance'] = power_transform(all[['Distance']], method = 'box-cox')"
   ]
  },
  {
   "cell_type": "code",
   "execution_count": 25,
   "id": "b5013327",
   "metadata": {
    "ExecuteTime": {
     "end_time": "2022-06-05T10:27:16.226757Z",
     "start_time": "2022-06-05T10:27:16.202757Z"
    },
    "scrolled": true
   },
   "outputs": [
    {
     "data": {
      "text/html": [
       "<div>\n",
       "<style scoped>\n",
       "    .dataframe tbody tr th:only-of-type {\n",
       "        vertical-align: middle;\n",
       "    }\n",
       "\n",
       "    .dataframe tbody tr th {\n",
       "        vertical-align: top;\n",
       "    }\n",
       "\n",
       "    .dataframe thead th {\n",
       "        text-align: right;\n",
       "    }\n",
       "</style>\n",
       "<table border=\"1\" class=\"dataframe\">\n",
       "  <thead>\n",
       "    <tr style=\"text-align: right;\">\n",
       "      <th></th>\n",
       "      <th>VehicleID</th>\n",
       "      <th>Maker</th>\n",
       "      <th>Model</th>\n",
       "      <th>Year</th>\n",
       "      <th>Colour</th>\n",
       "      <th>Distance</th>\n",
       "      <th>Abuja</th>\n",
       "      <th>Ibadan</th>\n",
       "      <th>Lagos</th>\n",
       "      <th>Brand New</th>\n",
       "      <th>Foreign Used</th>\n",
       "      <th>Nigerian Used</th>\n",
       "      <th>Scaled_Distance</th>\n",
       "      <th>Log_Distance</th>\n",
       "      <th>box_cos_distance</th>\n",
       "    </tr>\n",
       "  </thead>\n",
       "  <tbody>\n",
       "    <tr>\n",
       "      <th>0</th>\n",
       "      <td>VHL12546</td>\n",
       "      <td>17</td>\n",
       "      <td>142</td>\n",
       "      <td>2011</td>\n",
       "      <td>18</td>\n",
       "      <td>94903.339506</td>\n",
       "      <td>1</td>\n",
       "      <td>0</td>\n",
       "      <td>0</td>\n",
       "      <td>0</td>\n",
       "      <td>0</td>\n",
       "      <td>1</td>\n",
       "      <td>-0.071802</td>\n",
       "      <td>11.460614</td>\n",
       "      <td>0.127860</td>\n",
       "    </tr>\n",
       "    <tr>\n",
       "      <th>1</th>\n",
       "      <td>VHL18827</td>\n",
       "      <td>19</td>\n",
       "      <td>1204</td>\n",
       "      <td>2012</td>\n",
       "      <td>18</td>\n",
       "      <td>125000.000000</td>\n",
       "      <td>0</td>\n",
       "      <td>1</td>\n",
       "      <td>0</td>\n",
       "      <td>0</td>\n",
       "      <td>0</td>\n",
       "      <td>1</td>\n",
       "      <td>0.260450</td>\n",
       "      <td>11.736069</td>\n",
       "      <td>0.529591</td>\n",
       "    </tr>\n",
       "    <tr>\n",
       "      <th>2</th>\n",
       "      <td>VHL19499</td>\n",
       "      <td>29</td>\n",
       "      <td>1040</td>\n",
       "      <td>2010</td>\n",
       "      <td>17</td>\n",
       "      <td>110852.000000</td>\n",
       "      <td>0</td>\n",
       "      <td>0</td>\n",
       "      <td>1</td>\n",
       "      <td>0</td>\n",
       "      <td>1</td>\n",
       "      <td>0</td>\n",
       "      <td>0.104263</td>\n",
       "      <td>11.615951</td>\n",
       "      <td>0.349130</td>\n",
       "    </tr>\n",
       "    <tr>\n",
       "      <th>3</th>\n",
       "      <td>VHL17991</td>\n",
       "      <td>34</td>\n",
       "      <td>590</td>\n",
       "      <td>2017</td>\n",
       "      <td>3</td>\n",
       "      <td>30000.000000</td>\n",
       "      <td>1</td>\n",
       "      <td>0</td>\n",
       "      <td>0</td>\n",
       "      <td>0</td>\n",
       "      <td>1</td>\n",
       "      <td>0</td>\n",
       "      <td>-0.788303</td>\n",
       "      <td>10.308953</td>\n",
       "      <td>-1.156289</td>\n",
       "    </tr>\n",
       "    <tr>\n",
       "      <th>4</th>\n",
       "      <td>VHL12170</td>\n",
       "      <td>53</td>\n",
       "      <td>659</td>\n",
       "      <td>2002</td>\n",
       "      <td>17</td>\n",
       "      <td>125206.000000</td>\n",
       "      <td>0</td>\n",
       "      <td>1</td>\n",
       "      <td>0</td>\n",
       "      <td>0</td>\n",
       "      <td>0</td>\n",
       "      <td>1</td>\n",
       "      <td>0.262724</td>\n",
       "      <td>11.737716</td>\n",
       "      <td>0.532124</td>\n",
       "    </tr>\n",
       "  </tbody>\n",
       "</table>\n",
       "</div>"
      ],
      "text/plain": [
       "  VehicleID  Maker  Model  Year  Colour       Distance  Abuja  Ibadan  Lagos  \\\n",
       "0  VHL12546     17    142  2011      18   94903.339506      1       0      0   \n",
       "1  VHL18827     19   1204  2012      18  125000.000000      0       1      0   \n",
       "2  VHL19499     29   1040  2010      17  110852.000000      0       0      1   \n",
       "3  VHL17991     34    590  2017       3   30000.000000      1       0      0   \n",
       "4  VHL12170     53    659  2002      17  125206.000000      0       1      0   \n",
       "\n",
       "   Brand New  Foreign Used  Nigerian Used  Scaled_Distance  Log_Distance  \\\n",
       "0          0             0              1        -0.071802     11.460614   \n",
       "1          0             0              1         0.260450     11.736069   \n",
       "2          0             1              0         0.104263     11.615951   \n",
       "3          0             1              0        -0.788303     10.308953   \n",
       "4          0             0              1         0.262724     11.737716   \n",
       "\n",
       "   box_cos_distance  \n",
       "0          0.127860  \n",
       "1          0.529591  \n",
       "2          0.349130  \n",
       "3         -1.156289  \n",
       "4          0.532124  "
      ]
     },
     "execution_count": 25,
     "metadata": {},
     "output_type": "execute_result"
    }
   ],
   "source": [
    "\n",
    "all.head()"
   ]
  },
  {
   "cell_type": "code",
   "execution_count": 26,
   "id": "1c9cdb0d",
   "metadata": {
    "ExecuteTime": {
     "end_time": "2022-06-05T10:27:17.077300Z",
     "start_time": "2022-06-05T10:27:17.071269Z"
    }
   },
   "outputs": [],
   "source": [
    "def clean_dataset(df):\n",
    "    assert isinstance(df, pd.DataFrame), \"df needs to be a pd.DataFrame\"\n",
    "    df.dropna(inplace=True)\n",
    "    indices_to_keep = ~df.isin([np.nan, np.inf, -np.inf]).any(1)\n",
    "    return df[indices_to_keep].astype(np.float64)\n",
    "\n"
   ]
  },
  {
   "cell_type": "code",
   "execution_count": 27,
   "id": "f24b8715",
   "metadata": {
    "ExecuteTime": {
     "end_time": "2022-06-05T10:27:17.805410Z",
     "start_time": "2022-06-05T10:27:17.800420Z"
    }
   },
   "outputs": [],
   "source": [
    "train, test  = all.iloc[:7205], all.iloc[7205:]"
   ]
  },
  {
   "cell_type": "code",
   "execution_count": 28,
   "id": "31f86622",
   "metadata": {
    "ExecuteTime": {
     "end_time": "2022-06-05T10:27:21.280879Z",
     "start_time": "2022-06-05T10:27:21.272868Z"
    }
   },
   "outputs": [
    {
     "name": "stderr",
     "output_type": "stream",
     "text": [
      "C:\\Users\\samuel\\AppData\\Local\\Temp/ipykernel_4116/3998621924.py:1: SettingWithCopyWarning: \n",
      "A value is trying to be set on a copy of a slice from a DataFrame.\n",
      "Try using .loc[row_indexer,col_indexer] = value instead\n",
      "\n",
      "See the caveats in the documentation: https://pandas.pydata.org/pandas-docs/stable/user_guide/indexing.html#returning-a-view-versus-a-copy\n",
      "  train['Amount (Million Naira)'] = y\n"
     ]
    }
   ],
   "source": [
    "train['Amount (Million Naira)'] = y"
   ]
  },
  {
   "cell_type": "code",
   "execution_count": 29,
   "id": "f61a9311",
   "metadata": {
    "ExecuteTime": {
     "end_time": "2022-06-05T10:27:22.741121Z",
     "start_time": "2022-06-05T10:27:22.713121Z"
    },
    "scrolled": true
   },
   "outputs": [
    {
     "name": "stderr",
     "output_type": "stream",
     "text": [
      "C:\\Users\\samuel\\AppData\\Local\\Temp/ipykernel_4116/1048719124.py:1: SettingWithCopyWarning: \n",
      "A value is trying to be set on a copy of a slice from a DataFrame.\n",
      "Try using .loc[row_indexer,col_indexer] = value instead\n",
      "\n",
      "See the caveats in the documentation: https://pandas.pydata.org/pandas-docs/stable/user_guide/indexing.html#returning-a-view-versus-a-copy\n",
      "  train['Amount (Million Naira)'] = train['Amount (Million Naira)'].astype(float)\n"
     ]
    },
    {
     "data": {
      "text/plain": [
       "Maker                    -0.050221\n",
       "Model                     0.085003\n",
       "Year                      0.452479\n",
       "Colour                   -0.039097\n",
       "Distance                 -0.215028\n",
       "Abuja                     0.101138\n",
       "Ibadan                   -0.090807\n",
       "Lagos                    -0.049763\n",
       "Brand New                 0.519044\n",
       "Foreign Used             -0.029032\n",
       "Nigerian Used            -0.171476\n",
       "Scaled_Distance          -0.215028\n",
       "Log_Distance             -0.407199\n",
       "box_cos_distance         -0.400975\n",
       "Amount (Million Naira)    1.000000\n",
       "Name: Amount (Million Naira), dtype: float64"
      ]
     },
     "execution_count": 29,
     "metadata": {},
     "output_type": "execute_result"
    }
   ],
   "source": [
    "train['Amount (Million Naira)'] = train['Amount (Million Naira)'].astype(float)\n",
    "train.corr()['Amount (Million Naira)']"
   ]
  },
  {
   "cell_type": "code",
   "execution_count": 30,
   "id": "fdee7955",
   "metadata": {
    "ExecuteTime": {
     "end_time": "2022-06-05T10:27:23.725207Z",
     "start_time": "2022-06-05T10:27:23.698246Z"
    },
    "scrolled": true
   },
   "outputs": [
    {
     "data": {
      "text/html": [
       "<div>\n",
       "<style scoped>\n",
       "    .dataframe tbody tr th:only-of-type {\n",
       "        vertical-align: middle;\n",
       "    }\n",
       "\n",
       "    .dataframe tbody tr th {\n",
       "        vertical-align: top;\n",
       "    }\n",
       "\n",
       "    .dataframe thead th {\n",
       "        text-align: right;\n",
       "    }\n",
       "</style>\n",
       "<table border=\"1\" class=\"dataframe\">\n",
       "  <thead>\n",
       "    <tr style=\"text-align: right;\">\n",
       "      <th></th>\n",
       "      <th>VehicleID</th>\n",
       "      <th>Maker</th>\n",
       "      <th>Model</th>\n",
       "      <th>Year</th>\n",
       "      <th>Colour</th>\n",
       "      <th>Distance</th>\n",
       "      <th>Abuja</th>\n",
       "      <th>Ibadan</th>\n",
       "      <th>Lagos</th>\n",
       "      <th>Brand New</th>\n",
       "      <th>Foreign Used</th>\n",
       "      <th>Nigerian Used</th>\n",
       "      <th>Scaled_Distance</th>\n",
       "      <th>Log_Distance</th>\n",
       "      <th>box_cos_distance</th>\n",
       "      <th>Amount (Million Naira)</th>\n",
       "    </tr>\n",
       "  </thead>\n",
       "  <tbody>\n",
       "    <tr>\n",
       "      <th>0</th>\n",
       "      <td>VHL12546</td>\n",
       "      <td>17</td>\n",
       "      <td>142</td>\n",
       "      <td>2011</td>\n",
       "      <td>18</td>\n",
       "      <td>94903.339506</td>\n",
       "      <td>1</td>\n",
       "      <td>0</td>\n",
       "      <td>0</td>\n",
       "      <td>0</td>\n",
       "      <td>0</td>\n",
       "      <td>1</td>\n",
       "      <td>-0.071802</td>\n",
       "      <td>11.460614</td>\n",
       "      <td>0.127860</td>\n",
       "      <td>2.2</td>\n",
       "    </tr>\n",
       "    <tr>\n",
       "      <th>1</th>\n",
       "      <td>VHL18827</td>\n",
       "      <td>19</td>\n",
       "      <td>1204</td>\n",
       "      <td>2012</td>\n",
       "      <td>18</td>\n",
       "      <td>125000.000000</td>\n",
       "      <td>0</td>\n",
       "      <td>1</td>\n",
       "      <td>0</td>\n",
       "      <td>0</td>\n",
       "      <td>0</td>\n",
       "      <td>1</td>\n",
       "      <td>0.260450</td>\n",
       "      <td>11.736069</td>\n",
       "      <td>0.529591</td>\n",
       "      <td>3.5</td>\n",
       "    </tr>\n",
       "    <tr>\n",
       "      <th>2</th>\n",
       "      <td>VHL19499</td>\n",
       "      <td>29</td>\n",
       "      <td>1040</td>\n",
       "      <td>2010</td>\n",
       "      <td>17</td>\n",
       "      <td>110852.000000</td>\n",
       "      <td>0</td>\n",
       "      <td>0</td>\n",
       "      <td>1</td>\n",
       "      <td>0</td>\n",
       "      <td>1</td>\n",
       "      <td>0</td>\n",
       "      <td>0.104263</td>\n",
       "      <td>11.615951</td>\n",
       "      <td>0.349130</td>\n",
       "      <td>9.2</td>\n",
       "    </tr>\n",
       "    <tr>\n",
       "      <th>3</th>\n",
       "      <td>VHL17991</td>\n",
       "      <td>34</td>\n",
       "      <td>590</td>\n",
       "      <td>2017</td>\n",
       "      <td>3</td>\n",
       "      <td>30000.000000</td>\n",
       "      <td>1</td>\n",
       "      <td>0</td>\n",
       "      <td>0</td>\n",
       "      <td>0</td>\n",
       "      <td>1</td>\n",
       "      <td>0</td>\n",
       "      <td>-0.788303</td>\n",
       "      <td>10.308953</td>\n",
       "      <td>-1.156289</td>\n",
       "      <td>22.8</td>\n",
       "    </tr>\n",
       "    <tr>\n",
       "      <th>4</th>\n",
       "      <td>VHL12170</td>\n",
       "      <td>53</td>\n",
       "      <td>659</td>\n",
       "      <td>2002</td>\n",
       "      <td>17</td>\n",
       "      <td>125206.000000</td>\n",
       "      <td>0</td>\n",
       "      <td>1</td>\n",
       "      <td>0</td>\n",
       "      <td>0</td>\n",
       "      <td>0</td>\n",
       "      <td>1</td>\n",
       "      <td>0.262724</td>\n",
       "      <td>11.737716</td>\n",
       "      <td>0.532124</td>\n",
       "      <td>2.6</td>\n",
       "    </tr>\n",
       "  </tbody>\n",
       "</table>\n",
       "</div>"
      ],
      "text/plain": [
       "  VehicleID  Maker  Model  Year  Colour       Distance  Abuja  Ibadan  Lagos  \\\n",
       "0  VHL12546     17    142  2011      18   94903.339506      1       0      0   \n",
       "1  VHL18827     19   1204  2012      18  125000.000000      0       1      0   \n",
       "2  VHL19499     29   1040  2010      17  110852.000000      0       0      1   \n",
       "3  VHL17991     34    590  2017       3   30000.000000      1       0      0   \n",
       "4  VHL12170     53    659  2002      17  125206.000000      0       1      0   \n",
       "\n",
       "   Brand New  Foreign Used  Nigerian Used  Scaled_Distance  Log_Distance  \\\n",
       "0          0             0              1        -0.071802     11.460614   \n",
       "1          0             0              1         0.260450     11.736069   \n",
       "2          0             1              0         0.104263     11.615951   \n",
       "3          0             1              0        -0.788303     10.308953   \n",
       "4          0             0              1         0.262724     11.737716   \n",
       "\n",
       "   box_cos_distance  Amount (Million Naira)  \n",
       "0          0.127860                     2.2  \n",
       "1          0.529591                     3.5  \n",
       "2          0.349130                     9.2  \n",
       "3         -1.156289                    22.8  \n",
       "4          0.532124                     2.6  "
      ]
     },
     "execution_count": 30,
     "metadata": {},
     "output_type": "execute_result"
    }
   ],
   "source": [
    "train.head()"
   ]
  },
  {
   "cell_type": "code",
   "execution_count": 31,
   "id": "b4a5a7a6",
   "metadata": {
    "ExecuteTime": {
     "end_time": "2022-06-05T10:27:24.582456Z",
     "start_time": "2022-06-05T10:27:24.388601Z"
    },
    "scrolled": true
   },
   "outputs": [
    {
     "data": {
      "text/plain": [
       "<AxesSubplot:xlabel='Amount (Million Naira)'>"
      ]
     },
     "execution_count": 31,
     "metadata": {},
     "output_type": "execute_result"
    },
    {
     "data": {
      "image/png": "[encoded data removed]",
      "text/plain": [
       "<Figure size 432x288 with 1 Axes>"
      ]
     },
     "metadata": {
      "needs_background": "light"
     },
     "output_type": "display_data"
    }
   ],
   "source": [
    "sns.boxplot(data = train, x = 'Amount (Million Naira)')"
   ]
  },
  {
   "cell_type": "code",
   "execution_count": 32,
   "id": "86872358",
   "metadata": {
    "ExecuteTime": {
     "end_time": "2022-06-05T10:27:24.839463Z",
     "start_time": "2022-06-05T10:27:24.824529Z"
    }
   },
   "outputs": [
    {
     "data": {
      "text/plain": [
       "VehicleID                 0\n",
       "Maker                     0\n",
       "Model                     0\n",
       "Year                      0\n",
       "Colour                    0\n",
       "Distance                  0\n",
       "Abuja                     0\n",
       "Ibadan                    0\n",
       "Lagos                     0\n",
       "Brand New                 0\n",
       "Foreign Used              0\n",
       "Nigerian Used             0\n",
       "Scaled_Distance           0\n",
       "Log_Distance              0\n",
       "box_cos_distance          0\n",
       "Amount (Million Naira)    0\n",
       "dtype: int64"
      ]
     },
     "execution_count": 32,
     "metadata": {},
     "output_type": "execute_result"
    }
   ],
   "source": [
    "train.isna().sum()"
   ]
  },
  {
   "cell_type": "markdown",
   "id": "7f014a94",
   "metadata": {},
   "source": [
    "TODO: Try standardizing the numeric columns in the  data and see whether the results will be better"
   ]
  },
  {
   "cell_type": "code",
   "execution_count": 33,
   "id": "3a177cc1",
   "metadata": {
    "ExecuteTime": {
     "end_time": "2022-06-05T10:27:26.883743Z",
     "start_time": "2022-06-05T10:27:26.873742Z"
    }
   },
   "outputs": [],
   "source": [
    "X = train.drop(columns  = ['Amount (Million Naira)', 'VehicleID'])\n",
    "y = train['Amount (Million Naira)']"
   ]
  },
  {
   "cell_type": "code",
   "execution_count": 34,
   "id": "90bdbd09",
   "metadata": {
    "ExecuteTime": {
     "end_time": "2022-06-05T10:27:27.478031Z",
     "start_time": "2022-06-05T10:27:27.467029Z"
    }
   },
   "outputs": [],
   "source": [
    "X_train, X_valid, y_train, y_valid = train_test_split(X,y,random_state = 0)"
   ]
  },
  {
   "cell_type": "code",
   "execution_count": 35,
   "id": "068ecfde",
   "metadata": {
    "ExecuteTime": {
     "end_time": "2022-06-05T10:27:28.101878Z",
     "start_time": "2022-06-05T10:27:28.096883Z"
    }
   },
   "outputs": [],
   "source": [
    "# from sklearn.metrics import mean_squared_error\n",
    "\n",
    "# models_to_use = {\n",
    "#     'linreg': LinearRegression(),\n",
    "#     'ridge': Ridge(),\n",
    "#     'lasso': Lasso(),\n",
    "#     'gbdt': HistGradientBoostingRegressor(random_state =  0),\n",
    "# }\n",
    "\n",
    "\n",
    "# rmse = lambda x: mean_squared_error(y_valid, x, squared=False)\n",
    "\n",
    "# for name, est in models_to_use.items():\n",
    "#     print(f'Training With {name} model')\n",
    "#     est.fit(X_train, y_train)\n",
    "#     preds = est.predict(X_valid)\n",
    "#     print('Root Mean Squared Error:', rmse(preds))\n",
    "#     print('Cross-Validation RMSE:\\n')\n",
    "#     cv_rmse = cross_val_score(est,X,y,cv=10,scoring='neg_root_mean_squared_error').mean()\n",
    "#     print(cv_rmse)\n",
    "    \n",
    "#     print('\\n\\n')"
   ]
  },
  {
   "cell_type": "code",
   "execution_count": 36,
   "id": "44cc6dc4",
   "metadata": {
    "ExecuteTime": {
     "end_time": "2022-06-05T10:27:28.755903Z",
     "start_time": "2022-06-05T10:27:28.748903Z"
    }
   },
   "outputs": [
    {
     "data": {
      "text/plain": [
       "dict_keys(['explained_variance', 'r2', 'max_error', 'neg_median_absolute_error', 'neg_mean_absolute_error', 'neg_mean_absolute_percentage_error', 'neg_mean_squared_error', 'neg_mean_squared_log_error', 'neg_root_mean_squared_error', 'neg_mean_poisson_deviance', 'neg_mean_gamma_deviance', 'accuracy', 'top_k_accuracy', 'roc_auc', 'roc_auc_ovr', 'roc_auc_ovo', 'roc_auc_ovr_weighted', 'roc_auc_ovo_weighted', 'balanced_accuracy', 'average_precision', 'neg_log_loss', 'neg_brier_score', 'adjusted_rand_score', 'rand_score', 'homogeneity_score', 'completeness_score', 'v_measure_score', 'mutual_info_score', 'adjusted_mutual_info_score', 'normalized_mutual_info_score', 'fowlkes_mallows_score', 'precision', 'precision_macro', 'precision_micro', 'precision_samples', 'precision_weighted', 'recall', 'recall_macro', 'recall_micro', 'recall_samples', 'recall_weighted', 'f1', 'f1_macro', 'f1_micro', 'f1_samples', 'f1_weighted', 'jaccard', 'jaccard_macro', 'jaccard_micro', 'jaccard_samples', 'jaccard_weighted'])"
      ]
     },
     "execution_count": 36,
     "metadata": {},
     "output_type": "execute_result"
    }
   ],
   "source": [
    "import sklearn\n",
    "sklearn.metrics.SCORERS.keys()"
   ]
  },
  {
   "cell_type": "code",
   "execution_count": 37,
   "id": "9e18ad68",
   "metadata": {
    "ExecuteTime": {
     "end_time": "2022-06-05T10:27:29.441732Z",
     "start_time": "2022-06-05T10:27:29.418729Z"
    },
    "scrolled": true
   },
   "outputs": [
    {
     "data": {
      "text/html": [
       "<div>\n",
       "<style scoped>\n",
       "    .dataframe tbody tr th:only-of-type {\n",
       "        vertical-align: middle;\n",
       "    }\n",
       "\n",
       "    .dataframe tbody tr th {\n",
       "        vertical-align: top;\n",
       "    }\n",
       "\n",
       "    .dataframe thead th {\n",
       "        text-align: right;\n",
       "    }\n",
       "</style>\n",
       "<table border=\"1\" class=\"dataframe\">\n",
       "  <thead>\n",
       "    <tr style=\"text-align: right;\">\n",
       "      <th></th>\n",
       "      <th>VehicleID</th>\n",
       "      <th>Maker</th>\n",
       "      <th>Model</th>\n",
       "      <th>Year</th>\n",
       "      <th>Colour</th>\n",
       "      <th>Distance</th>\n",
       "      <th>Abuja</th>\n",
       "      <th>Ibadan</th>\n",
       "      <th>Lagos</th>\n",
       "      <th>Brand New</th>\n",
       "      <th>Foreign Used</th>\n",
       "      <th>Nigerian Used</th>\n",
       "      <th>Scaled_Distance</th>\n",
       "      <th>Log_Distance</th>\n",
       "      <th>box_cos_distance</th>\n",
       "    </tr>\n",
       "  </thead>\n",
       "  <tbody>\n",
       "    <tr>\n",
       "      <th>7205</th>\n",
       "      <td>VHL18518</td>\n",
       "      <td>3</td>\n",
       "      <td>27</td>\n",
       "      <td>2008</td>\n",
       "      <td>22</td>\n",
       "      <td>121487.418146</td>\n",
       "      <td>1</td>\n",
       "      <td>0</td>\n",
       "      <td>0</td>\n",
       "      <td>0</td>\n",
       "      <td>1</td>\n",
       "      <td>0</td>\n",
       "      <td>0.221673</td>\n",
       "      <td>11.707566</td>\n",
       "      <td>0.486007</td>\n",
       "    </tr>\n",
       "    <tr>\n",
       "      <th>7206</th>\n",
       "      <td>VHL17149</td>\n",
       "      <td>53</td>\n",
       "      <td>317</td>\n",
       "      <td>2013</td>\n",
       "      <td>22</td>\n",
       "      <td>90549.533163</td>\n",
       "      <td>0</td>\n",
       "      <td>0</td>\n",
       "      <td>1</td>\n",
       "      <td>0</td>\n",
       "      <td>1</td>\n",
       "      <td>0</td>\n",
       "      <td>-0.119866</td>\n",
       "      <td>11.413652</td>\n",
       "      <td>0.063543</td>\n",
       "    </tr>\n",
       "    <tr>\n",
       "      <th>7207</th>\n",
       "      <td>VHL10927</td>\n",
       "      <td>53</td>\n",
       "      <td>674</td>\n",
       "      <td>2005</td>\n",
       "      <td>8</td>\n",
       "      <td>159236.511848</td>\n",
       "      <td>0</td>\n",
       "      <td>0</td>\n",
       "      <td>1</td>\n",
       "      <td>0</td>\n",
       "      <td>1</td>\n",
       "      <td>0</td>\n",
       "      <td>0.638404</td>\n",
       "      <td>11.978146</td>\n",
       "      <td>0.919804</td>\n",
       "    </tr>\n",
       "    <tr>\n",
       "      <th>7208</th>\n",
       "      <td>VHL12909</td>\n",
       "      <td>53</td>\n",
       "      <td>317</td>\n",
       "      <td>2011</td>\n",
       "      <td>9</td>\n",
       "      <td>94903.339506</td>\n",
       "      <td>0</td>\n",
       "      <td>0</td>\n",
       "      <td>1</td>\n",
       "      <td>0</td>\n",
       "      <td>1</td>\n",
       "      <td>0</td>\n",
       "      <td>-0.071802</td>\n",
       "      <td>11.460614</td>\n",
       "      <td>0.127860</td>\n",
       "    </tr>\n",
       "    <tr>\n",
       "      <th>7209</th>\n",
       "      <td>VHL12348</td>\n",
       "      <td>29</td>\n",
       "      <td>484</td>\n",
       "      <td>2013</td>\n",
       "      <td>17</td>\n",
       "      <td>90549.533163</td>\n",
       "      <td>0</td>\n",
       "      <td>0</td>\n",
       "      <td>1</td>\n",
       "      <td>0</td>\n",
       "      <td>1</td>\n",
       "      <td>0</td>\n",
       "      <td>-0.119866</td>\n",
       "      <td>11.413652</td>\n",
       "      <td>0.063543</td>\n",
       "    </tr>\n",
       "  </tbody>\n",
       "</table>\n",
       "</div>"
      ],
      "text/plain": [
       "     VehicleID  Maker  Model  Year  Colour       Distance  Abuja  Ibadan  \\\n",
       "7205  VHL18518      3     27  2008      22  121487.418146      1       0   \n",
       "7206  VHL17149     53    317  2013      22   90549.533163      0       0   \n",
       "7207  VHL10927     53    674  2005       8  159236.511848      0       0   \n",
       "7208  VHL12909     53    317  2011       9   94903.339506      0       0   \n",
       "7209  VHL12348     29    484  2013      17   90549.533163      0       0   \n",
       "\n",
       "      Lagos  Brand New  Foreign Used  Nigerian Used  Scaled_Distance  \\\n",
       "7205      0          0             1              0         0.221673   \n",
       "7206      1          0             1              0        -0.119866   \n",
       "7207      1          0             1              0         0.638404   \n",
       "7208      1          0             1              0        -0.071802   \n",
       "7209      1          0             1              0        -0.119866   \n",
       "\n",
       "      Log_Distance  box_cos_distance  \n",
       "7205     11.707566          0.486007  \n",
       "7206     11.413652          0.063543  \n",
       "7207     11.978146          0.919804  \n",
       "7208     11.460614          0.127860  \n",
       "7209     11.413652          0.063543  "
      ]
     },
     "execution_count": 37,
     "metadata": {},
     "output_type": "execute_result"
    }
   ],
   "source": [
    "test.head()"
   ]
  },
  {
   "cell_type": "code",
   "execution_count": 38,
   "id": "6396002b",
   "metadata": {
    "ExecuteTime": {
     "end_time": "2022-06-05T10:27:29.919072Z",
     "start_time": "2022-06-05T10:27:29.912018Z"
    }
   },
   "outputs": [
    {
     "data": {
      "text/plain": [
       "(2061, 15)"
      ]
     },
     "execution_count": 38,
     "metadata": {},
     "output_type": "execute_result"
    }
   ],
   "source": [
    "test.shape"
   ]
  },
  {
   "cell_type": "code",
   "execution_count": 39,
   "id": "c646398d",
   "metadata": {
    "ExecuteTime": {
     "end_time": "2022-06-05T10:27:31.793630Z",
     "start_time": "2022-06-05T10:27:30.406050Z"
    }
   },
   "outputs": [
    {
     "data": {
      "text/plain": [
       "12.140586376498051"
      ]
     },
     "execution_count": 39,
     "metadata": {},
     "output_type": "execute_result"
    }
   ],
   "source": [
    "from sklearn.metrics import mean_squared_error\n",
    "gbdt = HistGradientBoostingRegressor(random_state=0)\n",
    "gbdt.fit(X_train, y_train)\n",
    "gbdt_preds = gbdt.predict(X_valid)\n",
    "rmse = lambda x: mean_squared_error(y_valid, x, squared=False)\n",
    "rmse(gbdt_preds)"
   ]
  },
  {
   "cell_type": "code",
   "execution_count": 40,
   "id": "06bbcae7",
   "metadata": {
    "ExecuteTime": {
     "end_time": "2022-06-05T10:27:36.545096Z",
     "start_time": "2022-06-05T10:27:31.797636Z"
    }
   },
   "outputs": [
    {
     "data": {
      "text/plain": [
       "12.102897677032317"
      ]
     },
     "execution_count": 40,
     "metadata": {},
     "output_type": "execute_result"
    }
   ],
   "source": [
    "from sklearn.metrics import mean_squared_error\n",
    "rf = RandomForestRegressor(random_state=0)\n",
    "rf.fit(X_train,y_train)\n",
    "rfpreds = rf.predict(X_valid)\n",
    "rmse(rfpreds)"
   ]
  },
  {
   "cell_type": "code",
   "execution_count": 41,
   "id": "991a7369",
   "metadata": {
    "ExecuteTime": {
     "end_time": "2022-06-05T10:27:36.770102Z",
     "start_time": "2022-06-05T10:27:36.674311Z"
    }
   },
   "outputs": [],
   "source": [
    "important_features = dict(zip(train.columns[1:],rf.feature_importances_))"
   ]
  },
  {
   "cell_type": "code",
   "execution_count": 42,
   "id": "211b8416",
   "metadata": {
    "ExecuteTime": {
     "end_time": "2022-06-05T10:27:38.481783Z",
     "start_time": "2022-06-05T10:27:38.474761Z"
    },
    "scrolled": true
   },
   "outputs": [
    {
     "data": {
      "text/plain": [
       "{'Maker': 0.20354972503069008,\n",
       " 'Model': 0.23854182602200383,\n",
       " 'Year': 0.36718078709367175,\n",
       " 'Colour': 0.04395159578053634,\n",
       " 'Distance': 0.01637803958992258,\n",
       " 'Abuja': 0.0033708850731703206,\n",
       " 'Ibadan': 5.210862109055456e-05,\n",
       " 'Lagos': 0.003255729269802197,\n",
       " 'Brand New': 0.05927255887292774,\n",
       " 'Foreign Used': 0.00857713660214631,\n",
       " 'Nigerian Used': 0.0019308164818617485,\n",
       " 'Scaled_Distance': 0.018508837616361306,\n",
       " 'Log_Distance': 0.018707869481228122,\n",
       " 'box_cos_distance': 0.016722084464587082}"
      ]
     },
     "execution_count": 42,
     "metadata": {},
     "output_type": "execute_result"
    }
   ],
   "source": [
    "important_features"
   ]
  },
  {
   "cell_type": "code",
   "execution_count": 43,
   "id": "4dca0752",
   "metadata": {
    "ExecuteTime": {
     "end_time": "2022-06-05T10:27:39.625869Z",
     "start_time": "2022-06-05T10:27:39.619856Z"
    }
   },
   "outputs": [
    {
     "data": {
      "text/plain": [
       "(7205, 16)"
      ]
     },
     "execution_count": 43,
     "metadata": {},
     "output_type": "execute_result"
    }
   ],
   "source": [
    "train.shape"
   ]
  },
  {
   "cell_type": "code",
   "execution_count": 44,
   "id": "d4ac298d",
   "metadata": {
    "ExecuteTime": {
     "end_time": "2022-06-05T10:27:40.434159Z",
     "start_time": "2022-06-05T10:27:40.427213Z"
    }
   },
   "outputs": [],
   "source": [
    "def save(model, filename):\n",
    "    X_test = test.drop(columns=['VehicleID'])\n",
    "    \n",
    "    test_set_predictions = model.predict(X_test)\n",
    "    sub_file = sample_sub.copy()\n",
    "    sub_file['Amount (Million Naira)'] = test_set_predictions\n",
    "    print(test_set_predictions[:10])\n",
    "    sub_file.to_csv(filename, index=False)"
   ]
  },
  {
   "cell_type": "code",
   "execution_count": 45,
   "id": "baef5717",
   "metadata": {
    "ExecuteTime": {
     "end_time": "2022-06-05T10:29:00.125207Z",
     "start_time": "2022-06-05T10:28:59.952594Z"
    }
   },
   "outputs": [],
   "source": [
    "train.to_csv('cleaned_train.csv', index = False)\n",
    "test.to_csv('cleaned_test.csv', index = False)"
   ]
  },
  {
   "cell_type": "code",
   "execution_count": null,
   "id": "fc90ab65",
   "metadata": {
    "ExecuteTime": {
     "end_time": "2022-06-05T10:27:03.411343Z",
     "start_time": "2022-06-05T10:27:03.411343Z"
    }
   },
   "outputs": [],
   "source": [
    "train.head"
   ]
  },
  {
   "cell_type": "markdown",
   "id": "c130edbf",
   "metadata": {},
   "source": [
    "## Handling the outliers in The data"
   ]
  },
  {
   "cell_type": "code",
   "execution_count": null,
   "id": "277fe31a",
   "metadata": {
    "ExecuteTime": {
     "end_time": "2022-06-05T10:27:03.414343Z",
     "start_time": "2022-06-05T10:27:03.414343Z"
    }
   },
   "outputs": [],
   "source": [
    "save(rf,'rf_with_transform.csv')"
   ]
  },
  {
   "cell_type": "code",
   "execution_count": null,
   "id": "c4e17392",
   "metadata": {},
   "outputs": [],
   "source": []
  }
 ],
 "metadata": {
  "kernelspec": {
   "display_name": "Python 3.9.6 64-bit",
   "language": "python",
   "name": "python396jvsc74a57bd0342aa5655132cbf71a715f798c1954c8e10fd62576e079eb1568ff3b5ac83c42"
  },
  "language_info": {
   "codemirror_mode": {
    "name": "ipython",
    "version": 3
   },
   "file_extension": ".py",
   "mimetype": "text/x-python",
   "name": "python",
   "nbconvert_exporter": "python",
   "pygments_lexer": "ipython3",
   "version": "3.9.6"
  }
 },
 "nbformat": 4,
 "nbformat_minor": 5
}

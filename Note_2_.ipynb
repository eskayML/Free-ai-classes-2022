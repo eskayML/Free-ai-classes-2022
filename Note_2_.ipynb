{
 "cells": [
  {
   "cell_type": "code",
   "execution_count": null,
   "id": "f1cdc985",
   "metadata": {
    "ExecuteTime": {
     "start_time": "2022-06-04T21:21:26.367Z"
    }
   },
   "outputs": [],
   "source": [
    "import numpy as np,pandas as pd,matplotlib.pyplot as plt,seaborn as sns\n",
    "train,test = pd.read_csv('Train.csv'),pd.read_csv('Test.csv')\n",
    "sample_sub  = pd.read_csv('SampleSubmission.csv')"
   ]
  },
  {
   "cell_type": "code",
   "execution_count": null,
   "id": "4f29448c",
   "metadata": {
    "ExecuteTime": {
     "start_time": "2022-06-04T21:21:26.689Z"
    },
    "scrolled": true
   },
   "outputs": [],
   "source": [
    "train.head()"
   ]
  },
  {
   "cell_type": "code",
   "execution_count": null,
   "id": "92b09d81",
   "metadata": {
    "ExecuteTime": {
     "start_time": "2022-06-04T21:21:27.476Z"
    }
   },
   "outputs": [],
   "source": [
    "train.shape,test.shape"
   ]
  },
  {
   "cell_type": "code",
   "execution_count": null,
   "id": "59c0bf4b",
   "metadata": {
    "ExecuteTime": {
     "start_time": "2022-06-04T21:21:28.482Z"
    }
   },
   "outputs": [],
   "source": [
    "train['Amount (Million Naira)'].fillna(train['Amount (Million Naira)'].median() , inplace = True)\n",
    "\n",
    "y = train.pop('Amount (Million Naira)')"
   ]
  },
  {
   "cell_type": "code",
   "execution_count": null,
   "id": "b5207be1",
   "metadata": {
    "ExecuteTime": {
     "start_time": "2022-06-04T21:21:30.859Z"
    }
   },
   "outputs": [],
   "source": [
    "all = pd.concat([train,test], ignore_index = True)\n",
    "\n",
    "all.Year = all.Year.str.replace(',','')\n",
    "all.Year = all.Year.astype(float)\n",
    "all.Distance  = all.Distance.str.replace(',','')\n",
    "all.Distance = all.Distance.astype(float)\n"
   ]
  },
  {
   "cell_type": "code",
   "execution_count": null,
   "id": "d57277fe",
   "metadata": {
    "ExecuteTime": {
     "start_time": "2022-06-04T21:21:33.692Z"
    }
   },
   "outputs": [],
   "source": [
    "all.Year.fillna(2011.0, inplace = True)\n"
   ]
  },
  {
   "cell_type": "code",
   "execution_count": null,
   "id": "ab855c61",
   "metadata": {},
   "outputs": [],
   "source": []
  },
  {
   "cell_type": "code",
   "execution_count": 7,
   "id": "47f5fdd3",
   "metadata": {
    "ExecuteTime": {
     "end_time": "2022-06-04T07:09:47.923960Z",
     "start_time": "2022-06-04T07:09:47.787979Z"
    }
   },
   "outputs": [],
   "source": [
    "all.Type.fillna('Foreign Used', inplace=True)"
   ]
  },
  {
   "cell_type": "code",
   "execution_count": 8,
   "id": "f9214e04",
   "metadata": {
    "ExecuteTime": {
     "end_time": "2022-06-04T07:09:48.075997Z",
     "start_time": "2022-06-04T07:09:47.923960Z"
    }
   },
   "outputs": [
    {
     "data": {
      "text/plain": [
       "VehicleID    0\n",
       "Location     0\n",
       "Maker        0\n",
       "Model        0\n",
       "Year         0\n",
       "Colour       0\n",
       "Type         0\n",
       "Distance     0\n",
       "dtype: int64"
      ]
     },
     "execution_count": 8,
     "metadata": {},
     "output_type": "execute_result"
    }
   ],
   "source": [
    "all.isna().sum()"
   ]
  },
  {
   "cell_type": "code",
   "execution_count": 9,
   "id": "5226aeff",
   "metadata": {
    "ExecuteTime": {
     "end_time": "2022-06-04T07:09:53.291985Z",
     "start_time": "2022-06-04T07:09:48.075997Z"
    }
   },
   "outputs": [],
   "source": [
    "from sklearn.model_selection import train_test_split,cross_val_score,GridSearchCV\n",
    "from sklearn.linear_model import LinearRegression, Ridge, Lasso\n",
    "from sklearn.ensemble import HistGradientBoostingRegressor, RandomForestRegressor,AdaBoostRegressor,GradientBoostingRegressor\n"
   ]
  },
  {
   "cell_type": "code",
   "execution_count": 10,
   "id": "05fa9630",
   "metadata": {
    "ExecuteTime": {
     "end_time": "2022-06-04T07:09:53.347992Z",
     "start_time": "2022-06-04T07:09:53.291985Z"
    }
   },
   "outputs": [],
   "source": [
    "cat_cols = train.select_dtypes(include = 'object').columns\n",
    "num_cols = train.select_dtypes(exclude = 'object').columns"
   ]
  },
  {
   "cell_type": "code",
   "execution_count": 11,
   "id": "8977babc",
   "metadata": {
    "ExecuteTime": {
     "end_time": "2022-06-04T07:09:53.588000Z",
     "start_time": "2022-06-04T07:09:53.347992Z"
    }
   },
   "outputs": [],
   "source": [
    "from sklearn.preprocessing import LabelEncoder,OneHotEncoder , StandardScaler\n",
    "from scipy import stats\n",
    "from sklearn.preprocessing import power_transform\n",
    "\n",
    "\n",
    "lb_Model  = LabelEncoder()\n",
    "all.Model = lb_Model.fit_transform(all.Model)\n",
    "\n",
    "lb_Colour = LabelEncoder()\n",
    "all.Colour = lb_Colour.fit_transform(all.Colour)\n",
    "\n",
    "lb_Maker = LabelEncoder()\n",
    "all.Maker = lb_Maker.fit_transform(all.Maker)\n"
   ]
  },
  {
   "cell_type": "code",
   "execution_count": 12,
   "id": "006b1903",
   "metadata": {
    "ExecuteTime": {
     "end_time": "2022-06-04T07:09:53.731970Z",
     "start_time": "2022-06-04T07:09:53.588000Z"
    },
    "scrolled": true
   },
   "outputs": [
    {
     "data": {
      "text/html": [
       "<div>\n",
       "<style scoped>\n",
       "    .dataframe tbody tr th:only-of-type {\n",
       "        vertical-align: middle;\n",
       "    }\n",
       "\n",
       "    .dataframe tbody tr th {\n",
       "        vertical-align: top;\n",
       "    }\n",
       "\n",
       "    .dataframe thead th {\n",
       "        text-align: right;\n",
       "    }\n",
       "</style>\n",
       "<table border=\"1\" class=\"dataframe\">\n",
       "  <thead>\n",
       "    <tr style=\"text-align: right;\">\n",
       "      <th></th>\n",
       "      <th>VehicleID</th>\n",
       "      <th>Location</th>\n",
       "      <th>Maker</th>\n",
       "      <th>Model</th>\n",
       "      <th>Year</th>\n",
       "      <th>Colour</th>\n",
       "      <th>Type</th>\n",
       "      <th>Distance</th>\n",
       "    </tr>\n",
       "  </thead>\n",
       "  <tbody>\n",
       "    <tr>\n",
       "      <th>0</th>\n",
       "      <td>VHL12546</td>\n",
       "      <td>Abuja</td>\n",
       "      <td>17</td>\n",
       "      <td>142</td>\n",
       "      <td>2011.0</td>\n",
       "      <td>18</td>\n",
       "      <td>Nigerian Used</td>\n",
       "      <td>80830.0</td>\n",
       "    </tr>\n",
       "    <tr>\n",
       "      <th>1</th>\n",
       "      <td>VHL18827</td>\n",
       "      <td>Ibadan</td>\n",
       "      <td>19</td>\n",
       "      <td>1204</td>\n",
       "      <td>2012.0</td>\n",
       "      <td>18</td>\n",
       "      <td>Nigerian Used</td>\n",
       "      <td>125000.0</td>\n",
       "    </tr>\n",
       "    <tr>\n",
       "      <th>2</th>\n",
       "      <td>VHL19499</td>\n",
       "      <td>Lagos</td>\n",
       "      <td>29</td>\n",
       "      <td>1040</td>\n",
       "      <td>2010.0</td>\n",
       "      <td>17</td>\n",
       "      <td>Foreign Used</td>\n",
       "      <td>110852.0</td>\n",
       "    </tr>\n",
       "    <tr>\n",
       "      <th>3</th>\n",
       "      <td>VHL17991</td>\n",
       "      <td>Abuja</td>\n",
       "      <td>34</td>\n",
       "      <td>590</td>\n",
       "      <td>2017.0</td>\n",
       "      <td>3</td>\n",
       "      <td>Foreign Used</td>\n",
       "      <td>30000.0</td>\n",
       "    </tr>\n",
       "    <tr>\n",
       "      <th>4</th>\n",
       "      <td>VHL12170</td>\n",
       "      <td>Ibadan</td>\n",
       "      <td>53</td>\n",
       "      <td>659</td>\n",
       "      <td>2002.0</td>\n",
       "      <td>17</td>\n",
       "      <td>Nigerian Used</td>\n",
       "      <td>125206.0</td>\n",
       "    </tr>\n",
       "  </tbody>\n",
       "</table>\n",
       "</div>"
      ],
      "text/plain": [
       "  VehicleID Location  Maker  Model    Year  Colour           Type  Distance\n",
       "0  VHL12546    Abuja     17    142  2011.0      18  Nigerian Used   80830.0\n",
       "1  VHL18827   Ibadan     19   1204  2012.0      18  Nigerian Used  125000.0\n",
       "2  VHL19499    Lagos     29   1040  2010.0      17   Foreign Used  110852.0\n",
       "3  VHL17991    Abuja     34    590  2017.0       3   Foreign Used   30000.0\n",
       "4  VHL12170   Ibadan     53    659  2002.0      17  Nigerian Used  125206.0"
      ]
     },
     "execution_count": 12,
     "metadata": {},
     "output_type": "execute_result"
    }
   ],
   "source": [
    "all.head()"
   ]
  },
  {
   "cell_type": "code",
   "execution_count": 13,
   "id": "4bac1162",
   "metadata": {
    "ExecuteTime": {
     "end_time": "2022-06-04T07:09:53.947974Z",
     "start_time": "2022-06-04T07:09:53.731970Z"
    }
   },
   "outputs": [],
   "source": [
    "all = pd.get_dummies(all, columns = ['Location', 'Type'], prefix = '' , prefix_sep = '')"
   ]
  },
  {
   "cell_type": "code",
   "execution_count": 14,
   "id": "211e2158",
   "metadata": {
    "ExecuteTime": {
     "end_time": "2022-06-04T07:09:54.099973Z",
     "start_time": "2022-06-04T07:09:53.947974Z"
    },
    "scrolled": true
   },
   "outputs": [
    {
     "data": {
      "text/plain": [
       "35"
      ]
     },
     "execution_count": 14,
     "metadata": {},
     "output_type": "execute_result"
    }
   ],
   "source": [
    "all.Year.nunique()"
   ]
  },
  {
   "cell_type": "code",
   "execution_count": 15,
   "id": "c3e1e4ce",
   "metadata": {
    "ExecuteTime": {
     "end_time": "2022-06-04T07:09:54.268017Z",
     "start_time": "2022-06-04T07:09:54.099973Z"
    }
   },
   "outputs": [],
   "source": [
    "scaler = StandardScaler()\n",
    "all['z_score_distance'] = scaler.fit_transform(all[['Distance']]) "
   ]
  },
  {
   "cell_type": "code",
   "execution_count": 16,
   "id": "465ec222",
   "metadata": {
    "ExecuteTime": {
     "end_time": "2022-06-04T07:09:54.419998Z",
     "start_time": "2022-06-04T07:09:54.268017Z"
    },
    "scrolled": false
   },
   "outputs": [],
   "source": [
    "all['log_distance'] = np.log(all['Distance'])"
   ]
  },
  {
   "cell_type": "code",
   "execution_count": 17,
   "id": "3d2cddb1",
   "metadata": {
    "ExecuteTime": {
     "end_time": "2022-06-04T07:09:54.651984Z",
     "start_time": "2022-06-04T07:09:54.419998Z"
    }
   },
   "outputs": [],
   "source": [
    "all['power_transform_distance'] = power_transform(all[['Distance']], method='box-cox')"
   ]
  },
  {
   "cell_type": "code",
   "execution_count": 18,
   "id": "b5013327",
   "metadata": {
    "ExecuteTime": {
     "end_time": "2022-06-04T07:09:54.715953Z",
     "start_time": "2022-06-04T07:09:54.651984Z"
    }
   },
   "outputs": [
    {
     "data": {
      "text/html": [
       "<div>\n",
       "<style scoped>\n",
       "    .dataframe tbody tr th:only-of-type {\n",
       "        vertical-align: middle;\n",
       "    }\n",
       "\n",
       "    .dataframe tbody tr th {\n",
       "        vertical-align: top;\n",
       "    }\n",
       "\n",
       "    .dataframe thead th {\n",
       "        text-align: right;\n",
       "    }\n",
       "</style>\n",
       "<table border=\"1\" class=\"dataframe\">\n",
       "  <thead>\n",
       "    <tr style=\"text-align: right;\">\n",
       "      <th></th>\n",
       "      <th>VehicleID</th>\n",
       "      <th>Maker</th>\n",
       "      <th>Model</th>\n",
       "      <th>Year</th>\n",
       "      <th>Colour</th>\n",
       "      <th>Distance</th>\n",
       "      <th>Abuja</th>\n",
       "      <th>Ibadan</th>\n",
       "      <th>Lagos</th>\n",
       "      <th>Brand New</th>\n",
       "      <th>Foreign Used</th>\n",
       "      <th>Nigerian Used</th>\n",
       "      <th>z_score_distance</th>\n",
       "      <th>log_distance</th>\n",
       "      <th>power_transform_distance</th>\n",
       "    </tr>\n",
       "  </thead>\n",
       "  <tbody>\n",
       "    <tr>\n",
       "      <th>0</th>\n",
       "      <td>VHL12546</td>\n",
       "      <td>17</td>\n",
       "      <td>142</td>\n",
       "      <td>2011.0</td>\n",
       "      <td>18</td>\n",
       "      <td>80830.0</td>\n",
       "      <td>1</td>\n",
       "      <td>0</td>\n",
       "      <td>0</td>\n",
       "      <td>0</td>\n",
       "      <td>0</td>\n",
       "      <td>1</td>\n",
       "      <td>-0.135602</td>\n",
       "      <td>11.300103</td>\n",
       "      <td>0.002545</td>\n",
       "    </tr>\n",
       "    <tr>\n",
       "      <th>1</th>\n",
       "      <td>VHL18827</td>\n",
       "      <td>19</td>\n",
       "      <td>1204</td>\n",
       "      <td>2012.0</td>\n",
       "      <td>18</td>\n",
       "      <td>125000.0</td>\n",
       "      <td>0</td>\n",
       "      <td>1</td>\n",
       "      <td>0</td>\n",
       "      <td>0</td>\n",
       "      <td>0</td>\n",
       "      <td>1</td>\n",
       "      <td>0.376490</td>\n",
       "      <td>11.736069</td>\n",
       "      <td>0.711677</td>\n",
       "    </tr>\n",
       "    <tr>\n",
       "      <th>2</th>\n",
       "      <td>VHL19499</td>\n",
       "      <td>29</td>\n",
       "      <td>1040</td>\n",
       "      <td>2010.0</td>\n",
       "      <td>17</td>\n",
       "      <td>110852.0</td>\n",
       "      <td>0</td>\n",
       "      <td>0</td>\n",
       "      <td>1</td>\n",
       "      <td>0</td>\n",
       "      <td>1</td>\n",
       "      <td>0</td>\n",
       "      <td>0.212463</td>\n",
       "      <td>11.615951</td>\n",
       "      <td>0.504982</td>\n",
       "    </tr>\n",
       "    <tr>\n",
       "      <th>3</th>\n",
       "      <td>VHL17991</td>\n",
       "      <td>34</td>\n",
       "      <td>590</td>\n",
       "      <td>2017.0</td>\n",
       "      <td>3</td>\n",
       "      <td>30000.0</td>\n",
       "      <td>1</td>\n",
       "      <td>0</td>\n",
       "      <td>0</td>\n",
       "      <td>0</td>\n",
       "      <td>1</td>\n",
       "      <td>0</td>\n",
       "      <td>-0.724908</td>\n",
       "      <td>10.308953</td>\n",
       "      <td>-1.247567</td>\n",
       "    </tr>\n",
       "    <tr>\n",
       "      <th>4</th>\n",
       "      <td>VHL12170</td>\n",
       "      <td>53</td>\n",
       "      <td>659</td>\n",
       "      <td>2002.0</td>\n",
       "      <td>17</td>\n",
       "      <td>125206.0</td>\n",
       "      <td>0</td>\n",
       "      <td>1</td>\n",
       "      <td>0</td>\n",
       "      <td>0</td>\n",
       "      <td>0</td>\n",
       "      <td>1</td>\n",
       "      <td>0.378878</td>\n",
       "      <td>11.737716</td>\n",
       "      <td>0.714574</td>\n",
       "    </tr>\n",
       "  </tbody>\n",
       "</table>\n",
       "</div>"
      ],
      "text/plain": [
       "  VehicleID  Maker  Model    Year  Colour  Distance  Abuja  Ibadan  Lagos  \\\n",
       "0  VHL12546     17    142  2011.0      18   80830.0      1       0      0   \n",
       "1  VHL18827     19   1204  2012.0      18  125000.0      0       1      0   \n",
       "2  VHL19499     29   1040  2010.0      17  110852.0      0       0      1   \n",
       "3  VHL17991     34    590  2017.0       3   30000.0      1       0      0   \n",
       "4  VHL12170     53    659  2002.0      17  125206.0      0       1      0   \n",
       "\n",
       "   Brand New  Foreign Used  Nigerian Used  z_score_distance  log_distance  \\\n",
       "0          0             0              1         -0.135602     11.300103   \n",
       "1          0             0              1          0.376490     11.736069   \n",
       "2          0             1              0          0.212463     11.615951   \n",
       "3          0             1              0         -0.724908     10.308953   \n",
       "4          0             0              1          0.378878     11.737716   \n",
       "\n",
       "   power_transform_distance  \n",
       "0                  0.002545  \n",
       "1                  0.711677  \n",
       "2                  0.504982  \n",
       "3                 -1.247567  \n",
       "4                  0.714574  "
      ]
     },
     "execution_count": 18,
     "metadata": {},
     "output_type": "execute_result"
    }
   ],
   "source": [
    "all.head()"
   ]
  },
  {
   "cell_type": "code",
   "execution_count": 19,
   "id": "f24b8715",
   "metadata": {
    "ExecuteTime": {
     "end_time": "2022-06-04T07:09:54.899968Z",
     "start_time": "2022-06-04T07:09:54.715953Z"
    }
   },
   "outputs": [],
   "source": [
    "train, test  = all.iloc[:7205], all.iloc[7205:]"
   ]
  },
  {
   "cell_type": "code",
   "execution_count": 20,
   "id": "31f86622",
   "metadata": {
    "ExecuteTime": {
     "end_time": "2022-06-04T07:09:55.027973Z",
     "start_time": "2022-06-04T07:09:54.899968Z"
    }
   },
   "outputs": [
    {
     "name": "stderr",
     "output_type": "stream",
     "text": [
      "C:\\Users\\samuel\\AppData\\Local\\Temp/ipykernel_8440/3998621924.py:1: SettingWithCopyWarning: \n",
      "A value is trying to be set on a copy of a slice from a DataFrame.\n",
      "Try using .loc[row_indexer,col_indexer] = value instead\n",
      "\n",
      "See the caveats in the documentation: https://pandas.pydata.org/pandas-docs/stable/user_guide/indexing.html#returning-a-view-versus-a-copy\n",
      "  train['Amount (Million Naira)'] = y\n"
     ]
    }
   ],
   "source": [
    "train['Amount (Million Naira)'] = y"
   ]
  },
  {
   "cell_type": "code",
   "execution_count": 21,
   "id": "f61a9311",
   "metadata": {
    "ExecuteTime": {
     "end_time": "2022-06-04T07:09:55.195959Z",
     "start_time": "2022-06-04T07:09:55.027973Z"
    },
    "scrolled": true
   },
   "outputs": [
    {
     "name": "stderr",
     "output_type": "stream",
     "text": [
      "C:\\Users\\samuel\\AppData\\Local\\Temp/ipykernel_8440/1048719124.py:1: SettingWithCopyWarning: \n",
      "A value is trying to be set on a copy of a slice from a DataFrame.\n",
      "Try using .loc[row_indexer,col_indexer] = value instead\n",
      "\n",
      "See the caveats in the documentation: https://pandas.pydata.org/pandas-docs/stable/user_guide/indexing.html#returning-a-view-versus-a-copy\n",
      "  train['Amount (Million Naira)'] = train['Amount (Million Naira)'].astype(float)\n"
     ]
    },
    {
     "data": {
      "text/plain": [
       "Maker                      -0.050221\n",
       "Model                       0.085003\n",
       "Year                        0.452479\n",
       "Colour                     -0.039097\n",
       "Distance                   -0.139844\n",
       "Abuja                       0.101138\n",
       "Ibadan                     -0.090807\n",
       "Lagos                      -0.049763\n",
       "Brand New                   0.519044\n",
       "Foreign Used               -0.029032\n",
       "Nigerian Used              -0.171476\n",
       "z_score_distance           -0.139844\n",
       "log_distance               -0.283015\n",
       "power_transform_distance   -0.270066\n",
       "Amount (Million Naira)      1.000000\n",
       "Name: Amount (Million Naira), dtype: float64"
      ]
     },
     "execution_count": 21,
     "metadata": {},
     "output_type": "execute_result"
    }
   ],
   "source": [
    "train['Amount (Million Naira)'] = train['Amount (Million Naira)'].astype(float)\n",
    "train.corr()['Amount (Million Naira)']"
   ]
  },
  {
   "cell_type": "code",
   "execution_count": 22,
   "id": "fdee7955",
   "metadata": {
    "ExecuteTime": {
     "end_time": "2022-06-04T07:09:55.331974Z",
     "start_time": "2022-06-04T07:09:55.195959Z"
    },
    "scrolled": true
   },
   "outputs": [
    {
     "data": {
      "text/html": [
       "<div>\n",
       "<style scoped>\n",
       "    .dataframe tbody tr th:only-of-type {\n",
       "        vertical-align: middle;\n",
       "    }\n",
       "\n",
       "    .dataframe tbody tr th {\n",
       "        vertical-align: top;\n",
       "    }\n",
       "\n",
       "    .dataframe thead th {\n",
       "        text-align: right;\n",
       "    }\n",
       "</style>\n",
       "<table border=\"1\" class=\"dataframe\">\n",
       "  <thead>\n",
       "    <tr style=\"text-align: right;\">\n",
       "      <th></th>\n",
       "      <th>VehicleID</th>\n",
       "      <th>Maker</th>\n",
       "      <th>Model</th>\n",
       "      <th>Year</th>\n",
       "      <th>Colour</th>\n",
       "      <th>Distance</th>\n",
       "      <th>Abuja</th>\n",
       "      <th>Ibadan</th>\n",
       "      <th>Lagos</th>\n",
       "      <th>Brand New</th>\n",
       "      <th>Foreign Used</th>\n",
       "      <th>Nigerian Used</th>\n",
       "      <th>z_score_distance</th>\n",
       "      <th>log_distance</th>\n",
       "      <th>power_transform_distance</th>\n",
       "      <th>Amount (Million Naira)</th>\n",
       "    </tr>\n",
       "  </thead>\n",
       "  <tbody>\n",
       "    <tr>\n",
       "      <th>0</th>\n",
       "      <td>VHL12546</td>\n",
       "      <td>17</td>\n",
       "      <td>142</td>\n",
       "      <td>2011.0</td>\n",
       "      <td>18</td>\n",
       "      <td>80830.0</td>\n",
       "      <td>1</td>\n",
       "      <td>0</td>\n",
       "      <td>0</td>\n",
       "      <td>0</td>\n",
       "      <td>0</td>\n",
       "      <td>1</td>\n",
       "      <td>-0.135602</td>\n",
       "      <td>11.300103</td>\n",
       "      <td>0.002545</td>\n",
       "      <td>2.2</td>\n",
       "    </tr>\n",
       "    <tr>\n",
       "      <th>1</th>\n",
       "      <td>VHL18827</td>\n",
       "      <td>19</td>\n",
       "      <td>1204</td>\n",
       "      <td>2012.0</td>\n",
       "      <td>18</td>\n",
       "      <td>125000.0</td>\n",
       "      <td>0</td>\n",
       "      <td>1</td>\n",
       "      <td>0</td>\n",
       "      <td>0</td>\n",
       "      <td>0</td>\n",
       "      <td>1</td>\n",
       "      <td>0.376490</td>\n",
       "      <td>11.736069</td>\n",
       "      <td>0.711677</td>\n",
       "      <td>3.5</td>\n",
       "    </tr>\n",
       "    <tr>\n",
       "      <th>2</th>\n",
       "      <td>VHL19499</td>\n",
       "      <td>29</td>\n",
       "      <td>1040</td>\n",
       "      <td>2010.0</td>\n",
       "      <td>17</td>\n",
       "      <td>110852.0</td>\n",
       "      <td>0</td>\n",
       "      <td>0</td>\n",
       "      <td>1</td>\n",
       "      <td>0</td>\n",
       "      <td>1</td>\n",
       "      <td>0</td>\n",
       "      <td>0.212463</td>\n",
       "      <td>11.615951</td>\n",
       "      <td>0.504982</td>\n",
       "      <td>9.2</td>\n",
       "    </tr>\n",
       "    <tr>\n",
       "      <th>3</th>\n",
       "      <td>VHL17991</td>\n",
       "      <td>34</td>\n",
       "      <td>590</td>\n",
       "      <td>2017.0</td>\n",
       "      <td>3</td>\n",
       "      <td>30000.0</td>\n",
       "      <td>1</td>\n",
       "      <td>0</td>\n",
       "      <td>0</td>\n",
       "      <td>0</td>\n",
       "      <td>1</td>\n",
       "      <td>0</td>\n",
       "      <td>-0.724908</td>\n",
       "      <td>10.308953</td>\n",
       "      <td>-1.247567</td>\n",
       "      <td>22.8</td>\n",
       "    </tr>\n",
       "    <tr>\n",
       "      <th>4</th>\n",
       "      <td>VHL12170</td>\n",
       "      <td>53</td>\n",
       "      <td>659</td>\n",
       "      <td>2002.0</td>\n",
       "      <td>17</td>\n",
       "      <td>125206.0</td>\n",
       "      <td>0</td>\n",
       "      <td>1</td>\n",
       "      <td>0</td>\n",
       "      <td>0</td>\n",
       "      <td>0</td>\n",
       "      <td>1</td>\n",
       "      <td>0.378878</td>\n",
       "      <td>11.737716</td>\n",
       "      <td>0.714574</td>\n",
       "      <td>2.6</td>\n",
       "    </tr>\n",
       "  </tbody>\n",
       "</table>\n",
       "</div>"
      ],
      "text/plain": [
       "  VehicleID  Maker  Model    Year  Colour  Distance  Abuja  Ibadan  Lagos  \\\n",
       "0  VHL12546     17    142  2011.0      18   80830.0      1       0      0   \n",
       "1  VHL18827     19   1204  2012.0      18  125000.0      0       1      0   \n",
       "2  VHL19499     29   1040  2010.0      17  110852.0      0       0      1   \n",
       "3  VHL17991     34    590  2017.0       3   30000.0      1       0      0   \n",
       "4  VHL12170     53    659  2002.0      17  125206.0      0       1      0   \n",
       "\n",
       "   Brand New  Foreign Used  Nigerian Used  z_score_distance  log_distance  \\\n",
       "0          0             0              1         -0.135602     11.300103   \n",
       "1          0             0              1          0.376490     11.736069   \n",
       "2          0             1              0          0.212463     11.615951   \n",
       "3          0             1              0         -0.724908     10.308953   \n",
       "4          0             0              1          0.378878     11.737716   \n",
       "\n",
       "   power_transform_distance  Amount (Million Naira)  \n",
       "0                  0.002545                     2.2  \n",
       "1                  0.711677                     3.5  \n",
       "2                  0.504982                     9.2  \n",
       "3                 -1.247567                    22.8  \n",
       "4                  0.714574                     2.6  "
      ]
     },
     "execution_count": 22,
     "metadata": {},
     "output_type": "execute_result"
    }
   ],
   "source": [
    "train.head()"
   ]
  },
  {
   "cell_type": "code",
   "execution_count": 23,
   "id": "153a2d7c",
   "metadata": {
    "ExecuteTime": {
     "end_time": "2022-06-04T07:09:56.107956Z",
     "start_time": "2022-06-04T07:09:55.331974Z"
    },
    "scrolled": true
   },
   "outputs": [
    {
     "data": {
      "text/plain": [
       "<AxesSubplot:xlabel='z_score_distance'>"
      ]
     },
     "execution_count": 23,
     "metadata": {},
     "output_type": "execute_result"
    },
    {
     "data": {
      "image/png": "[encoded data removed]",
      "text/plain": [
       "<Figure size 432x288 with 1 Axes>"
      ]
     },
     "metadata": {
      "needs_background": "light"
     },
     "output_type": "display_data"
    }
   ],
   "source": [
    "sns.boxplot(data = train, x = 'z_score_distance')"
   ]
  },
  {
   "cell_type": "code",
   "execution_count": 24,
   "id": "b4a5a7a6",
   "metadata": {
    "ExecuteTime": {
     "end_time": "2022-06-04T07:09:56.315957Z",
     "start_time": "2022-06-04T07:09:56.107956Z"
    },
    "scrolled": false
   },
   "outputs": [
    {
     "data": {
      "text/plain": [
       "<AxesSubplot:xlabel='Amount (Million Naira)'>"
      ]
     },
     "execution_count": 24,
     "metadata": {},
     "output_type": "execute_result"
    },
    {
     "data": {
      "image/png": "[encoded data removed]",
      "text/plain": [
       "<Figure size 432x288 with 1 Axes>"
      ]
     },
     "metadata": {
      "needs_background": "light"
     },
     "output_type": "display_data"
    }
   ],
   "source": [
    "sns.boxplot(data = train, x = 'Amount (Million Naira)')"
   ]
  },
  {
   "cell_type": "markdown",
   "id": "7f014a94",
   "metadata": {},
   "source": [
    "TODO: Try standardizing the numeric columns in the  data and see whether the results will be better"
   ]
  },
  {
   "cell_type": "code",
   "execution_count": 25,
   "id": "3a177cc1",
   "metadata": {
    "ExecuteTime": {
     "end_time": "2022-06-04T07:09:56.332003Z",
     "start_time": "2022-06-04T07:09:56.315957Z"
    }
   },
   "outputs": [],
   "source": [
    "X = train.drop(columns  = ['Amount (Million Naira)', 'VehicleID'])\n",
    "y = train['Amount (Million Naira)']"
   ]
  },
  {
   "cell_type": "code",
   "execution_count": 26,
   "id": "90bdbd09",
   "metadata": {
    "ExecuteTime": {
     "end_time": "2022-06-04T07:09:56.483954Z",
     "start_time": "2022-06-04T07:09:56.332003Z"
    }
   },
   "outputs": [],
   "source": [
    "X_train, X_valid, y_train, y_valid = train_test_split(X,y,random_state = 0)"
   ]
  },
  {
   "cell_type": "code",
   "execution_count": 27,
   "id": "068ecfde",
   "metadata": {
    "ExecuteTime": {
     "end_time": "2022-06-04T07:10:14.883954Z",
     "start_time": "2022-06-04T07:09:56.491957Z"
    }
   },
   "outputs": [
    {
     "name": "stdout",
     "output_type": "stream",
     "text": [
      "Training With linreg model\n",
      "Root Mean Squared Error: 20.995831489307363\n",
      "Cross-Validation RMSE:\n",
      "\n",
      "-19.57170128647777\n",
      "\n",
      "\n",
      "\n",
      "Training With ridge model\n",
      "Root Mean Squared Error: 21.00243993479669\n",
      "Cross-Validation RMSE:\n",
      "\n",
      "-19.5707646361397\n",
      "\n",
      "\n",
      "\n",
      "Training With lasso model\n",
      "Root Mean Squared Error: 22.83643028729295\n",
      "Cross-Validation RMSE:\n",
      "\n",
      "-20.51768116078388\n",
      "\n",
      "\n",
      "\n",
      "Training With gbdt model\n",
      "Root Mean Squared Error: 12.396358914171838\n",
      "Cross-Validation RMSE:\n",
      "\n",
      "-12.805484620773232\n",
      "\n",
      "\n",
      "\n"
     ]
    }
   ],
   "source": [
    "from sklearn.metrics import mean_squared_error\n",
    "\n",
    "models_to_use = {\n",
    "    'linreg': LinearRegression(),\n",
    "    'ridge': Ridge(),\n",
    "    'lasso': Lasso(),\n",
    "    'gbdt': HistGradientBoostingRegressor(random_state =  0),\n",
    "}\n",
    "\n",
    "\n",
    "rmse = lambda x: mean_squared_error(y_valid, x, squared=False)\n",
    "\n",
    "for name, est in models_to_use.items():\n",
    "    print(f'Training With {name} model')\n",
    "    est.fit(X_train, y_train)\n",
    "    preds = est.predict(X_valid)\n",
    "    print('Root Mean Squared Error:', rmse(preds))\n",
    "    print('Cross-Validation RMSE:\\n')\n",
    "    cv_rmse = cross_val_score(est,X,y,cv=10,scoring='neg_root_mean_squared_error').mean()\n",
    "    print(cv_rmse)\n",
    "    \n",
    "    print('\\n\\n')"
   ]
  },
  {
   "cell_type": "code",
   "execution_count": 28,
   "id": "44cc6dc4",
   "metadata": {
    "ExecuteTime": {
     "end_time": "2022-06-04T07:10:14.899956Z",
     "start_time": "2022-06-04T07:10:14.883954Z"
    }
   },
   "outputs": [
    {
     "data": {
      "text/plain": [
       "dict_keys(['explained_variance', 'r2', 'max_error', 'neg_median_absolute_error', 'neg_mean_absolute_error', 'neg_mean_absolute_percentage_error', 'neg_mean_squared_error', 'neg_mean_squared_log_error', 'neg_root_mean_squared_error', 'neg_mean_poisson_deviance', 'neg_mean_gamma_deviance', 'accuracy', 'top_k_accuracy', 'roc_auc', 'roc_auc_ovr', 'roc_auc_ovo', 'roc_auc_ovr_weighted', 'roc_auc_ovo_weighted', 'balanced_accuracy', 'average_precision', 'neg_log_loss', 'neg_brier_score', 'adjusted_rand_score', 'rand_score', 'homogeneity_score', 'completeness_score', 'v_measure_score', 'mutual_info_score', 'adjusted_mutual_info_score', 'normalized_mutual_info_score', 'fowlkes_mallows_score', 'precision', 'precision_macro', 'precision_micro', 'precision_samples', 'precision_weighted', 'recall', 'recall_macro', 'recall_micro', 'recall_samples', 'recall_weighted', 'f1', 'f1_macro', 'f1_micro', 'f1_samples', 'f1_weighted', 'jaccard', 'jaccard_macro', 'jaccard_micro', 'jaccard_samples', 'jaccard_weighted'])"
      ]
     },
     "execution_count": 28,
     "metadata": {},
     "output_type": "execute_result"
    }
   ],
   "source": [
    "import sklearn\n",
    "sklearn.metrics.SCORERS.keys()"
   ]
  },
  {
   "cell_type": "code",
   "execution_count": 29,
   "id": "9e18ad68",
   "metadata": {
    "ExecuteTime": {
     "end_time": "2022-06-04T07:10:15.043953Z",
     "start_time": "2022-06-04T07:10:14.899956Z"
    },
    "scrolled": true
   },
   "outputs": [
    {
     "data": {
      "text/html": [
       "<div>\n",
       "<style scoped>\n",
       "    .dataframe tbody tr th:only-of-type {\n",
       "        vertical-align: middle;\n",
       "    }\n",
       "\n",
       "    .dataframe tbody tr th {\n",
       "        vertical-align: top;\n",
       "    }\n",
       "\n",
       "    .dataframe thead th {\n",
       "        text-align: right;\n",
       "    }\n",
       "</style>\n",
       "<table border=\"1\" class=\"dataframe\">\n",
       "  <thead>\n",
       "    <tr style=\"text-align: right;\">\n",
       "      <th></th>\n",
       "      <th>VehicleID</th>\n",
       "      <th>Maker</th>\n",
       "      <th>Model</th>\n",
       "      <th>Year</th>\n",
       "      <th>Colour</th>\n",
       "      <th>Distance</th>\n",
       "      <th>Abuja</th>\n",
       "      <th>Ibadan</th>\n",
       "      <th>Lagos</th>\n",
       "      <th>Brand New</th>\n",
       "      <th>Foreign Used</th>\n",
       "      <th>Nigerian Used</th>\n",
       "      <th>z_score_distance</th>\n",
       "      <th>log_distance</th>\n",
       "      <th>power_transform_distance</th>\n",
       "    </tr>\n",
       "  </thead>\n",
       "  <tbody>\n",
       "    <tr>\n",
       "      <th>7205</th>\n",
       "      <td>VHL18518</td>\n",
       "      <td>3</td>\n",
       "      <td>27</td>\n",
       "      <td>2008.0</td>\n",
       "      <td>22</td>\n",
       "      <td>80830.0</td>\n",
       "      <td>1</td>\n",
       "      <td>0</td>\n",
       "      <td>0</td>\n",
       "      <td>0</td>\n",
       "      <td>1</td>\n",
       "      <td>0</td>\n",
       "      <td>-0.135602</td>\n",
       "      <td>11.300103</td>\n",
       "      <td>0.002545</td>\n",
       "    </tr>\n",
       "    <tr>\n",
       "      <th>7206</th>\n",
       "      <td>VHL17149</td>\n",
       "      <td>53</td>\n",
       "      <td>317</td>\n",
       "      <td>2013.0</td>\n",
       "      <td>22</td>\n",
       "      <td>80830.0</td>\n",
       "      <td>0</td>\n",
       "      <td>0</td>\n",
       "      <td>1</td>\n",
       "      <td>0</td>\n",
       "      <td>1</td>\n",
       "      <td>0</td>\n",
       "      <td>-0.135602</td>\n",
       "      <td>11.300103</td>\n",
       "      <td>0.002545</td>\n",
       "    </tr>\n",
       "    <tr>\n",
       "      <th>7207</th>\n",
       "      <td>VHL10927</td>\n",
       "      <td>53</td>\n",
       "      <td>674</td>\n",
       "      <td>2005.0</td>\n",
       "      <td>8</td>\n",
       "      <td>80830.0</td>\n",
       "      <td>0</td>\n",
       "      <td>0</td>\n",
       "      <td>1</td>\n",
       "      <td>0</td>\n",
       "      <td>1</td>\n",
       "      <td>0</td>\n",
       "      <td>-0.135602</td>\n",
       "      <td>11.300103</td>\n",
       "      <td>0.002545</td>\n",
       "    </tr>\n",
       "    <tr>\n",
       "      <th>7208</th>\n",
       "      <td>VHL12909</td>\n",
       "      <td>53</td>\n",
       "      <td>317</td>\n",
       "      <td>2011.0</td>\n",
       "      <td>9</td>\n",
       "      <td>80830.0</td>\n",
       "      <td>0</td>\n",
       "      <td>0</td>\n",
       "      <td>1</td>\n",
       "      <td>0</td>\n",
       "      <td>1</td>\n",
       "      <td>0</td>\n",
       "      <td>-0.135602</td>\n",
       "      <td>11.300103</td>\n",
       "      <td>0.002545</td>\n",
       "    </tr>\n",
       "    <tr>\n",
       "      <th>7209</th>\n",
       "      <td>VHL12348</td>\n",
       "      <td>29</td>\n",
       "      <td>484</td>\n",
       "      <td>2013.0</td>\n",
       "      <td>17</td>\n",
       "      <td>80830.0</td>\n",
       "      <td>0</td>\n",
       "      <td>0</td>\n",
       "      <td>1</td>\n",
       "      <td>0</td>\n",
       "      <td>1</td>\n",
       "      <td>0</td>\n",
       "      <td>-0.135602</td>\n",
       "      <td>11.300103</td>\n",
       "      <td>0.002545</td>\n",
       "    </tr>\n",
       "  </tbody>\n",
       "</table>\n",
       "</div>"
      ],
      "text/plain": [
       "     VehicleID  Maker  Model    Year  Colour  Distance  Abuja  Ibadan  Lagos  \\\n",
       "7205  VHL18518      3     27  2008.0      22   80830.0      1       0      0   \n",
       "7206  VHL17149     53    317  2013.0      22   80830.0      0       0      1   \n",
       "7207  VHL10927     53    674  2005.0       8   80830.0      0       0      1   \n",
       "7208  VHL12909     53    317  2011.0       9   80830.0      0       0      1   \n",
       "7209  VHL12348     29    484  2013.0      17   80830.0      0       0      1   \n",
       "\n",
       "      Brand New  Foreign Used  Nigerian Used  z_score_distance  log_distance  \\\n",
       "7205          0             1              0         -0.135602     11.300103   \n",
       "7206          0             1              0         -0.135602     11.300103   \n",
       "7207          0             1              0         -0.135602     11.300103   \n",
       "7208          0             1              0         -0.135602     11.300103   \n",
       "7209          0             1              0         -0.135602     11.300103   \n",
       "\n",
       "      power_transform_distance  \n",
       "7205                  0.002545  \n",
       "7206                  0.002545  \n",
       "7207                  0.002545  \n",
       "7208                  0.002545  \n",
       "7209                  0.002545  "
      ]
     },
     "execution_count": 29,
     "metadata": {},
     "output_type": "execute_result"
    }
   ],
   "source": [
    "test.head()"
   ]
  },
  {
   "cell_type": "code",
   "execution_count": 30,
   "id": "6396002b",
   "metadata": {
    "ExecuteTime": {
     "end_time": "2022-06-04T07:10:15.187976Z",
     "start_time": "2022-06-04T07:10:15.043953Z"
    }
   },
   "outputs": [
    {
     "data": {
      "text/plain": [
       "(2061, 15)"
      ]
     },
     "execution_count": 30,
     "metadata": {},
     "output_type": "execute_result"
    }
   ],
   "source": [
    "test.shape"
   ]
  },
  {
   "cell_type": "code",
   "execution_count": 31,
   "id": "c646398d",
   "metadata": {
    "ExecuteTime": {
     "end_time": "2022-06-04T07:10:16.835956Z",
     "start_time": "2022-06-04T07:10:15.187976Z"
    }
   },
   "outputs": [
    {
     "data": {
      "text/plain": [
       "12.396358914171838"
      ]
     },
     "execution_count": 31,
     "metadata": {},
     "output_type": "execute_result"
    }
   ],
   "source": [
    "gbdt = HistGradientBoostingRegressor(random_state=0)\n",
    "gbdt.fit(X_train, y_train)\n",
    "gbdt_preds = gbdt.predict(X_valid)\n",
    "rmse(gbdt_preds)"
   ]
  },
  {
   "cell_type": "code",
   "execution_count": 32,
   "id": "06bbcae7",
   "metadata": {
    "ExecuteTime": {
     "end_time": "2022-06-04T07:10:20.963971Z",
     "start_time": "2022-06-04T07:10:16.835956Z"
    }
   },
   "outputs": [
    {
     "data": {
      "text/plain": [
       "11.956288840835548"
      ]
     },
     "execution_count": 32,
     "metadata": {},
     "output_type": "execute_result"
    }
   ],
   "source": [
    "\n",
    "rf = RandomForestRegressor(random_state=0)\n",
    "rf.fit(X_train,y_train)\n",
    "rfpreds = rf.predict(X_valid)\n",
    "rmse(rfpreds)"
   ]
  },
  {
   "cell_type": "code",
   "execution_count": 33,
   "id": "991a7369",
   "metadata": {
    "ExecuteTime": {
     "end_time": "2022-06-04T07:10:21.011954Z",
     "start_time": "2022-06-04T07:10:20.963971Z"
    }
   },
   "outputs": [],
   "source": [
    "important_features = dict(zip(train.columns[1:],rf.feature_importances_))"
   ]
  },
  {
   "cell_type": "code",
   "execution_count": 34,
   "id": "211b8416",
   "metadata": {
    "ExecuteTime": {
     "end_time": "2022-06-04T07:10:21.171984Z",
     "start_time": "2022-06-04T07:10:21.011954Z"
    },
    "scrolled": true
   },
   "outputs": [
    {
     "data": {
      "text/plain": [
       "{'Maker': 0.2009870199084312,\n",
       " 'Model': 0.24564816494818775,\n",
       " 'Year': 0.36920247087743946,\n",
       " 'Colour': 0.04463746692405415,\n",
       " 'Distance': 0.016206238281294565,\n",
       " 'Abuja': 0.003809794842139508,\n",
       " 'Ibadan': 5.0800485211827085e-05,\n",
       " 'Lagos': 0.0031456699069180257,\n",
       " 'Brand New': 0.05937007792929819,\n",
       " 'Foreign Used': 0.00869733458385102,\n",
       " 'Nigerian Used': 0.00211058014335497,\n",
       " 'z_score_distance': 0.016258837469718197,\n",
       " 'log_distance': 0.015777250901561127,\n",
       " 'power_transform_distance': 0.014098292798539932}"
      ]
     },
     "execution_count": 34,
     "metadata": {},
     "output_type": "execute_result"
    }
   ],
   "source": [
    "important_features"
   ]
  },
  {
   "cell_type": "code",
   "execution_count": 35,
   "id": "4dca0752",
   "metadata": {
    "ExecuteTime": {
     "end_time": "2022-06-04T07:10:21.283981Z",
     "start_time": "2022-06-04T07:10:21.171984Z"
    }
   },
   "outputs": [
    {
     "data": {
      "text/plain": [
       "(7205, 16)"
      ]
     },
     "execution_count": 35,
     "metadata": {},
     "output_type": "execute_result"
    }
   ],
   "source": [
    "train.shape"
   ]
  },
  {
   "cell_type": "code",
   "execution_count": 36,
   "id": "d4ac298d",
   "metadata": {
    "ExecuteTime": {
     "end_time": "2022-06-04T07:10:21.435984Z",
     "start_time": "2022-06-04T07:10:21.283981Z"
    }
   },
   "outputs": [],
   "source": [
    "def save(model, filename):\n",
    "    X_test = test.drop(columns=['VehicleID'])\n",
    "    \n",
    "    test_set_predictions = model.predict(X_test)\n",
    "    sub_file = sample_sub.copy()\n",
    "    sub_file['Amount (Million Naira)'] = test_set_predictions\n",
    "    print(test_set_predictions[:10])\n",
    "    sub_file.to_csv(filename, index=False)"
   ]
  },
  {
   "cell_type": "code",
   "execution_count": null,
   "id": "baef5717",
   "metadata": {},
   "outputs": [],
   "source": []
  },
  {
   "cell_type": "code",
   "execution_count": 37,
   "id": "fc90ab65",
   "metadata": {
    "ExecuteTime": {
     "end_time": "2022-06-04T07:10:36.499968Z",
     "start_time": "2022-06-04T07:10:36.467952Z"
    }
   },
   "outputs": [
    {
     "data": {
      "text/html": [
       "<div>\n",
       "<style scoped>\n",
       "    .dataframe tbody tr th:only-of-type {\n",
       "        vertical-align: middle;\n",
       "    }\n",
       "\n",
       "    .dataframe tbody tr th {\n",
       "        vertical-align: top;\n",
       "    }\n",
       "\n",
       "    .dataframe thead th {\n",
       "        text-align: right;\n",
       "    }\n",
       "</style>\n",
       "<table border=\"1\" class=\"dataframe\">\n",
       "  <thead>\n",
       "    <tr style=\"text-align: right;\">\n",
       "      <th></th>\n",
       "      <th>VehicleID</th>\n",
       "      <th>Maker</th>\n",
       "      <th>Model</th>\n",
       "      <th>Year</th>\n",
       "      <th>Colour</th>\n",
       "      <th>Distance</th>\n",
       "      <th>Abuja</th>\n",
       "      <th>Ibadan</th>\n",
       "      <th>Lagos</th>\n",
       "      <th>Brand New</th>\n",
       "      <th>Foreign Used</th>\n",
       "      <th>Nigerian Used</th>\n",
       "      <th>z_score_distance</th>\n",
       "      <th>log_distance</th>\n",
       "      <th>power_transform_distance</th>\n",
       "      <th>Amount (Million Naira)</th>\n",
       "    </tr>\n",
       "  </thead>\n",
       "  <tbody>\n",
       "    <tr>\n",
       "      <th>0</th>\n",
       "      <td>VHL12546</td>\n",
       "      <td>17</td>\n",
       "      <td>142</td>\n",
       "      <td>2011.0</td>\n",
       "      <td>18</td>\n",
       "      <td>80830.0</td>\n",
       "      <td>1</td>\n",
       "      <td>0</td>\n",
       "      <td>0</td>\n",
       "      <td>0</td>\n",
       "      <td>0</td>\n",
       "      <td>1</td>\n",
       "      <td>-0.135602</td>\n",
       "      <td>11.300103</td>\n",
       "      <td>0.002545</td>\n",
       "      <td>2.2</td>\n",
       "    </tr>\n",
       "    <tr>\n",
       "      <th>1</th>\n",
       "      <td>VHL18827</td>\n",
       "      <td>19</td>\n",
       "      <td>1204</td>\n",
       "      <td>2012.0</td>\n",
       "      <td>18</td>\n",
       "      <td>125000.0</td>\n",
       "      <td>0</td>\n",
       "      <td>1</td>\n",
       "      <td>0</td>\n",
       "      <td>0</td>\n",
       "      <td>0</td>\n",
       "      <td>1</td>\n",
       "      <td>0.376490</td>\n",
       "      <td>11.736069</td>\n",
       "      <td>0.711677</td>\n",
       "      <td>3.5</td>\n",
       "    </tr>\n",
       "    <tr>\n",
       "      <th>2</th>\n",
       "      <td>VHL19499</td>\n",
       "      <td>29</td>\n",
       "      <td>1040</td>\n",
       "      <td>2010.0</td>\n",
       "      <td>17</td>\n",
       "      <td>110852.0</td>\n",
       "      <td>0</td>\n",
       "      <td>0</td>\n",
       "      <td>1</td>\n",
       "      <td>0</td>\n",
       "      <td>1</td>\n",
       "      <td>0</td>\n",
       "      <td>0.212463</td>\n",
       "      <td>11.615951</td>\n",
       "      <td>0.504982</td>\n",
       "      <td>9.2</td>\n",
       "    </tr>\n",
       "    <tr>\n",
       "      <th>3</th>\n",
       "      <td>VHL17991</td>\n",
       "      <td>34</td>\n",
       "      <td>590</td>\n",
       "      <td>2017.0</td>\n",
       "      <td>3</td>\n",
       "      <td>30000.0</td>\n",
       "      <td>1</td>\n",
       "      <td>0</td>\n",
       "      <td>0</td>\n",
       "      <td>0</td>\n",
       "      <td>1</td>\n",
       "      <td>0</td>\n",
       "      <td>-0.724908</td>\n",
       "      <td>10.308953</td>\n",
       "      <td>-1.247567</td>\n",
       "      <td>22.8</td>\n",
       "    </tr>\n",
       "    <tr>\n",
       "      <th>4</th>\n",
       "      <td>VHL12170</td>\n",
       "      <td>53</td>\n",
       "      <td>659</td>\n",
       "      <td>2002.0</td>\n",
       "      <td>17</td>\n",
       "      <td>125206.0</td>\n",
       "      <td>0</td>\n",
       "      <td>1</td>\n",
       "      <td>0</td>\n",
       "      <td>0</td>\n",
       "      <td>0</td>\n",
       "      <td>1</td>\n",
       "      <td>0.378878</td>\n",
       "      <td>11.737716</td>\n",
       "      <td>0.714574</td>\n",
       "      <td>2.6</td>\n",
       "    </tr>\n",
       "  </tbody>\n",
       "</table>\n",
       "</div>"
      ],
      "text/plain": [
       "  VehicleID  Maker  Model    Year  Colour  Distance  Abuja  Ibadan  Lagos  \\\n",
       "0  VHL12546     17    142  2011.0      18   80830.0      1       0      0   \n",
       "1  VHL18827     19   1204  2012.0      18  125000.0      0       1      0   \n",
       "2  VHL19499     29   1040  2010.0      17  110852.0      0       0      1   \n",
       "3  VHL17991     34    590  2017.0       3   30000.0      1       0      0   \n",
       "4  VHL12170     53    659  2002.0      17  125206.0      0       1      0   \n",
       "\n",
       "   Brand New  Foreign Used  Nigerian Used  z_score_distance  log_distance  \\\n",
       "0          0             0              1         -0.135602     11.300103   \n",
       "1          0             0              1          0.376490     11.736069   \n",
       "2          0             1              0          0.212463     11.615951   \n",
       "3          0             1              0         -0.724908     10.308953   \n",
       "4          0             0              1          0.378878     11.737716   \n",
       "\n",
       "   power_transform_distance  Amount (Million Naira)  \n",
       "0                  0.002545                     2.2  \n",
       "1                  0.711677                     3.5  \n",
       "2                  0.504982                     9.2  \n",
       "3                 -1.247567                    22.8  \n",
       "4                  0.714574                     2.6  "
      ]
     },
     "execution_count": 37,
     "metadata": {},
     "output_type": "execute_result"
    }
   ],
   "source": [
    "train.head"
   ]
  },
  {
   "cell_type": "markdown",
   "id": "c130edbf",
   "metadata": {},
   "source": [
    "## Handling the outliers in The data"
   ]
  },
  {
   "cell_type": "code",
   "execution_count": null,
   "id": "277fe31a",
   "metadata": {},
   "outputs": [],
   "source": []
  }
 ],
 "metadata": {
  "kernelspec": {
   "display_name": "Python 3.9.6 64-bit",
   "language": "python",
   "name": "python396jvsc74a57bd0342aa5655132cbf71a715f798c1954c8e10fd62576e079eb1568ff3b5ac83c42"
  },
  "language_info": {
   "codemirror_mode": {
    "name": "ipython",
    "version": 3
   },
   "file_extension": ".py",
   "mimetype": "text/x-python",
   "name": "python",
   "nbconvert_exporter": "python",
   "pygments_lexer": "ipython3",
   "version": "3.9.6"
  }
 },
 "nbformat": 4,
 "nbformat_minor": 5
}
